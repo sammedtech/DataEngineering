{
 "cells": [
  {
   "cell_type": "markdown",
   "id": "28fc78a9",
   "metadata": {},
   "source": [
    "### Python Basics"
   ]
  },
  {
   "cell_type": "markdown",
   "id": "527cb142",
   "metadata": {},
   "source": [
    "What is Programming Language : \n",
    "\tSet of instructions that we provide to our system\n",
    "\tWay to communicate with your system\n",
    "\tWe can communicate with our system using some commands\n",
    "\n",
    "Examples of Programming Languages : C, C++, Python, SQL, JAVA, C#.......\n",
    "\n",
    "Python --> It's a general programming language and a high level programming language\n",
    "\n",
    "Use Cases of Python --> Mobile Apps, Website, Softwares, AI/ML/DL/DS, Data Engineering etc......\n",
    "\n",
    "It's beginner friendly language\n",
    "\n",
    "Compiler --> 1. To convert human readable code to machine readable code (binary format)\n",
    "\t\t\t 2. Checks for syntax (set of rules assigned by programming language) \n",
    "\n",
    "\n",
    "0000 --> 0\n",
    "0001 --> 1\n",
    "0010 --> 2\n",
    "0011 --> 3\n",
    "0100 --> 4\n",
    "1000 --> 8\n",
    "0001 0000 --> 16\n",
    "\n",
    "\n",
    "p --> 36\n",
    "\n"
   ]
  },
  {
   "cell_type": "code",
   "execution_count": 15,
   "id": "5bfd2ae4",
   "metadata": {},
   "outputs": [
    {
     "name": "stdout",
     "output_type": "stream",
     "text": [
      "Hello World!\n"
     ]
    }
   ],
   "source": [
    "print(\"Hello World!\")"
   ]
  },
  {
   "cell_type": "code",
   "execution_count": 9,
   "id": "8dd3cd52",
   "metadata": {},
   "outputs": [
    {
     "name": "stdout",
     "output_type": "stream",
     "text": [
      "5\n"
     ]
    }
   ],
   "source": [
    "print(2+3)"
   ]
  },
  {
   "cell_type": "code",
   "execution_count": 10,
   "id": "782633cb",
   "metadata": {},
   "outputs": [
    {
     "data": {
      "text/plain": [
       "-1"
      ]
     },
     "execution_count": 10,
     "metadata": {},
     "output_type": "execute_result"
    }
   ],
   "source": [
    "2-3"
   ]
  },
  {
   "cell_type": "code",
   "execution_count": 11,
   "id": "8cf6093d",
   "metadata": {},
   "outputs": [
    {
     "data": {
      "text/plain": [
       "6"
      ]
     },
     "execution_count": 11,
     "metadata": {},
     "output_type": "execute_result"
    }
   ],
   "source": [
    "2*3"
   ]
  },
  {
   "cell_type": "code",
   "execution_count": 12,
   "id": "69d6edf5",
   "metadata": {},
   "outputs": [
    {
     "data": {
      "text/plain": [
       "1122"
      ]
     },
     "execution_count": 12,
     "metadata": {},
     "output_type": "execute_result"
    }
   ],
   "source": [
    "33*34"
   ]
  },
  {
   "cell_type": "code",
   "execution_count": null,
   "id": "d68cef3c",
   "metadata": {},
   "outputs": [],
   "source": []
  }
 ],
 "metadata": {
  "kernelspec": {
   "display_name": "Python 3 (ipykernel)",
   "language": "python",
   "name": "python3"
  },
  "language_info": {
   "codemirror_mode": {
    "name": "ipython",
    "version": 3
   },
   "file_extension": ".py",
   "mimetype": "text/x-python",
   "name": "python",
   "nbconvert_exporter": "python",
   "pygments_lexer": "ipython3",
   "version": "3.10.10"
  }
 },
 "nbformat": 4,
 "nbformat_minor": 5
}
