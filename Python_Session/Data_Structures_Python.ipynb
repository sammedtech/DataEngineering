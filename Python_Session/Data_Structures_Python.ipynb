{
 "cells": [
  {
   "cell_type": "markdown",
   "id": "53a74ec2",
   "metadata": {},
   "source": [
    "### Data Structures in Python¶\n",
    "Data Structures --> Way of storing data\n",
    "\n",
    "#### Data Structures in Python :\n",
    "##### In-built Data Structure\n",
    "List\n",
    "\n",
    "Tuple\n",
    "\n",
    "Set\n",
    "\n",
    "Dictionary\n",
    "\n",
    "##### User defined data structures\n",
    "Array\n",
    "\n",
    "Queue"
   ]
  },
  {
   "cell_type": "markdown",
   "id": "222793c0",
   "metadata": {},
   "source": [
    "### List\n",
    "\n",
    "--> It's a heterogenous (you can store all type of data) data structure\n",
    "\n",
    "--> It's mutable (you can modify the existing list/list elements)"
   ]
  },
  {
   "cell_type": "code",
   "execution_count": 2,
   "id": "e1a74929",
   "metadata": {},
   "outputs": [],
   "source": [
    "# Q. How to declare List in python\n",
    "# A. We can declare List in python using list() or []\n",
    "\n",
    "list1 = []\n",
    "list2 = list()"
   ]
  },
  {
   "cell_type": "code",
   "execution_count": 2,
   "id": "9157c933",
   "metadata": {},
   "outputs": [
    {
     "name": "stdout",
     "output_type": "stream",
     "text": [
      "<class 'list'>\n",
      "<class 'list'>\n"
     ]
    }
   ],
   "source": [
    "print(type(list1))\n",
    "print(type(list2))"
   ]
  },
  {
   "cell_type": "markdown",
   "id": "a484cba7",
   "metadata": {},
   "source": [
    "#### Declaring list"
   ]
  },
  {
   "cell_type": "code",
   "execution_count": 3,
   "id": "ceaa7e81",
   "metadata": {},
   "outputs": [],
   "source": [
    "# Q. Can you add any type of values in List\n",
    "# A. Yes, List is a heterogeneous data structure. We can have values of any data type in List\n",
    "\n",
    "list3 = [1, 1, 3, 5, 'Mayur', 'Jeevan', False, 120.5]"
   ]
  },
  {
   "cell_type": "code",
   "execution_count": 38,
   "id": "0046616f",
   "metadata": {},
   "outputs": [
    {
     "data": {
      "text/plain": [
       "[1, 1, 3, 5, 'Mayur', 'Jeevan', False, 120.5]"
      ]
     },
     "execution_count": 38,
     "metadata": {},
     "output_type": "execute_result"
    }
   ],
   "source": [
    "list3"
   ]
  },
  {
   "cell_type": "markdown",
   "id": "e093671e",
   "metadata": {},
   "source": [
    "#### Accessing list elements"
   ]
  },
  {
   "cell_type": "code",
   "execution_count": 4,
   "id": "d59c20e8",
   "metadata": {},
   "outputs": [
    {
     "data": {
      "text/plain": [
       "5"
      ]
     },
     "execution_count": 4,
     "metadata": {},
     "output_type": "execute_result"
    }
   ],
   "source": [
    "# Q. How to access elements of List\n",
    "# A. You can access the elements of a list in Python using indexing. \n",
    "#    The index of the first element in the list is 0, and the index of the last element is the length of the list minus 1\n",
    "\n",
    "list3[3]"
   ]
  },
  {
   "cell_type": "code",
   "execution_count": 29,
   "id": "0954d591",
   "metadata": {},
   "outputs": [
    {
     "name": "stdout",
     "output_type": "stream",
     "text": [
      "1\n",
      "1\n",
      "5\n",
      "Akshay\n",
      "Jeevan\n",
      "5000\n",
      "5000\n",
      "False\n",
      "120.5\n"
     ]
    }
   ],
   "source": [
    "for x in list3:\n",
    "    print(x)"
   ]
  },
  {
   "cell_type": "markdown",
   "id": "9871764a",
   "metadata": {},
   "source": [
    "#### List Slicing"
   ]
  },
  {
   "cell_type": "code",
   "execution_count": 30,
   "id": "460190a6",
   "metadata": {},
   "outputs": [
    {
     "name": "stdout",
     "output_type": "stream",
     "text": [
      "[1, 1, 5, 'Akshay', 'Jeevan', 5000, 5000, False, 120.5]\n",
      "[5, 'Akshay', 'Jeevan', 5000, 5000, False, 120.5]\n",
      "[1, 1, 5, 'Akshay', 'Jeevan']\n",
      "[1, 1, 5, 'Akshay', 'Jeevan', 5000]\n",
      "['Jeevan', 5000]\n"
     ]
    }
   ],
   "source": [
    "# List Slicing --> another way of accessing values of list\n",
    "print(list3[:]) # all the values to be shown\n",
    "\n",
    "print(list3[2:]) # all the values from 2nd position to be shown)\n",
    "\n",
    "print(list3[:5]) # [2:] --> including 2nd position value, [:2] --> excludes 2nd position value\n",
    "\n",
    "print(list3[:6]) # --> includes all the values till 6th position, excluding 6th position value\n",
    "\n",
    "print(list3[4:6]) # --> print all the values from 4th position till 6th position, excluding values at 6th position"
   ]
  },
  {
   "cell_type": "code",
   "execution_count": 15,
   "id": "8eea3fcc",
   "metadata": {},
   "outputs": [
    {
     "data": {
      "text/plain": [
       "[1, 1, 3, 5, 'Mayur', 'Jeevan', False, 120.5]"
      ]
     },
     "execution_count": 15,
     "metadata": {},
     "output_type": "execute_result"
    }
   ],
   "source": [
    "list3"
   ]
  },
  {
   "cell_type": "markdown",
   "id": "22d06bda",
   "metadata": {},
   "source": [
    "#### Modifying the existing element"
   ]
  },
  {
   "cell_type": "code",
   "execution_count": 39,
   "id": "765d9ee8",
   "metadata": {},
   "outputs": [],
   "source": [
    "list3[4] = 'Akshay'"
   ]
  },
  {
   "cell_type": "code",
   "execution_count": 40,
   "id": "8326a8d8",
   "metadata": {},
   "outputs": [
    {
     "data": {
      "text/plain": [
       "[1, 1, 3, 5, 'Akshay', 'Jeevan', False, 120.5]"
      ]
     },
     "execution_count": 40,
     "metadata": {},
     "output_type": "execute_result"
    }
   ],
   "source": [
    "list3"
   ]
  },
  {
   "cell_type": "markdown",
   "id": "0c134820",
   "metadata": {},
   "source": [
    "#### Adding new elements to List"
   ]
  },
  {
   "cell_type": "code",
   "execution_count": 41,
   "id": "c9397e7f",
   "metadata": {},
   "outputs": [],
   "source": [
    "list3.append('Prajakta') # appends the value at the end of the list"
   ]
  },
  {
   "cell_type": "code",
   "execution_count": 42,
   "id": "ab5474dd",
   "metadata": {},
   "outputs": [
    {
     "data": {
      "text/plain": [
       "[1, 1, 3, 5, 'Akshay', 'Jeevan', False, 120.5, 'Prajakta']"
      ]
     },
     "execution_count": 42,
     "metadata": {},
     "output_type": "execute_result"
    }
   ],
   "source": [
    "list3"
   ]
  },
  {
   "cell_type": "code",
   "execution_count": 5,
   "id": "5ae1d75f",
   "metadata": {},
   "outputs": [],
   "source": [
    "list3.insert(6, 5000) ## insert values at given position, here we're adding 5000 at 6th position in list3"
   ]
  },
  {
   "cell_type": "code",
   "execution_count": 44,
   "id": "029e8a0d",
   "metadata": {},
   "outputs": [
    {
     "data": {
      "text/plain": [
       "[1, 1, 3, 5, 'Akshay', 'Jeevan', 5000, False, 120.5, 'Prajakta']"
      ]
     },
     "execution_count": 44,
     "metadata": {},
     "output_type": "execute_result"
    }
   ],
   "source": [
    "list3"
   ]
  },
  {
   "cell_type": "code",
   "execution_count": 47,
   "id": "7a41f7fb",
   "metadata": {},
   "outputs": [],
   "source": [
    "list3.extend((2, 3, 'Mayur')) # extend --> used to add other data structures in list"
   ]
  },
  {
   "cell_type": "code",
   "execution_count": 48,
   "id": "1bb6cbd1",
   "metadata": {},
   "outputs": [
    {
     "data": {
      "text/plain": [
       "[1,\n",
       " 1,\n",
       " 3,\n",
       " 5,\n",
       " 'Akshay',\n",
       " 'Jeevan',\n",
       " 5000,\n",
       " False,\n",
       " 120.5,\n",
       " 'Prajakta',\n",
       " 2,\n",
       " 3,\n",
       " 'Mayur',\n",
       " 2,\n",
       " 3,\n",
       " 'Mayur']"
      ]
     },
     "execution_count": 48,
     "metadata": {},
     "output_type": "execute_result"
    }
   ],
   "source": [
    "list3"
   ]
  },
  {
   "cell_type": "markdown",
   "id": "c76bafb0",
   "metadata": {},
   "source": [
    "#### Deleting the values from List"
   ]
  },
  {
   "cell_type": "code",
   "execution_count": 25,
   "id": "09de8225",
   "metadata": {},
   "outputs": [],
   "source": [
    "del(list3[2])"
   ]
  },
  {
   "cell_type": "code",
   "execution_count": 26,
   "id": "1703fb45",
   "metadata": {},
   "outputs": [
    {
     "data": {
      "text/plain": [
       "[1, 1, 5, 'Akshay', 'Jeevan', 5000, 5000, False, 120.5, 'Prajakta']"
      ]
     },
     "execution_count": 26,
     "metadata": {},
     "output_type": "execute_result"
    }
   ],
   "source": [
    "list3"
   ]
  },
  {
   "cell_type": "code",
   "execution_count": 27,
   "id": "b12f9c39",
   "metadata": {},
   "outputs": [],
   "source": [
    "a = list3.pop()"
   ]
  },
  {
   "cell_type": "code",
   "execution_count": 28,
   "id": "7fc0ea74",
   "metadata": {},
   "outputs": [
    {
     "data": {
      "text/plain": [
       "'Prajakta'"
      ]
     },
     "execution_count": 28,
     "metadata": {},
     "output_type": "execute_result"
    }
   ],
   "source": [
    "a"
   ]
  },
  {
   "cell_type": "code",
   "execution_count": 6,
   "id": "f7b734bd",
   "metadata": {},
   "outputs": [
    {
     "name": "stdout",
     "output_type": "stream",
     "text": [
      "[1, 2, 4, 5]\n",
      "[2, 4, 5]\n",
      "[2]\n"
     ]
    }
   ],
   "source": [
    "# create a list\n",
    "numbers = [1, 2, 3, 4, 5]\n",
    "\n",
    "# remove a specific value from the list\n",
    "numbers.remove(3) # removes the value 3\n",
    "print(numbers) # Output: [1, 2, 4, 5]\n",
    "\n",
    "# remove a value by its index\n",
    "del numbers[0] # removes the first value (index 0)\n",
    "print(numbers) # Output: [2, 4, 5]\n",
    "\n",
    "# remove a range of values by their indexes\n",
    "del numbers[1:3] # removes the second and third values (indexes 1 and 2)\n",
    "print(numbers) # Output: [2]"
   ]
  },
  {
   "cell_type": "markdown",
   "id": "b0280d24",
   "metadata": {},
   "source": [
    "### Tuples\n",
    "\n",
    "A Tuple is an immutable sequence of values. \n",
    "\n",
    "Once a tuple is created, its values cannot be modified. "
   ]
  },
  {
   "cell_type": "code",
   "execution_count": 53,
   "id": "ac3d6042",
   "metadata": {},
   "outputs": [],
   "source": [
    "# Tuples\n",
    "# --> It's immutable data structure\n",
    "\n",
    "tup1 = ()"
   ]
  },
  {
   "cell_type": "code",
   "execution_count": 54,
   "id": "bf0850e6",
   "metadata": {},
   "outputs": [
    {
     "data": {
      "text/plain": [
       "tuple"
      ]
     },
     "execution_count": 54,
     "metadata": {},
     "output_type": "execute_result"
    }
   ],
   "source": [
    "type(tup1)"
   ]
  },
  {
   "cell_type": "code",
   "execution_count": 8,
   "id": "0d4d293b",
   "metadata": {},
   "outputs": [],
   "source": [
    "tup2 = (1, 1, 3, 26, 'Mayur', 11.4)"
   ]
  },
  {
   "cell_type": "code",
   "execution_count": 9,
   "id": "9e796da7",
   "metadata": {},
   "outputs": [
    {
     "data": {
      "text/plain": [
       "tuple"
      ]
     },
     "execution_count": 9,
     "metadata": {},
     "output_type": "execute_result"
    }
   ],
   "source": [
    "type(tup2)"
   ]
  },
  {
   "cell_type": "markdown",
   "id": "3d7a6dba",
   "metadata": {},
   "source": [
    "#### Accessing elements of Tuple\n",
    "\n",
    "To access the values in a tuple, you can use indexing, just like with a list:"
   ]
  },
  {
   "cell_type": "code",
   "execution_count": 10,
   "id": "d2ee9160",
   "metadata": {},
   "outputs": [
    {
     "data": {
      "text/plain": [
       "26"
      ]
     },
     "execution_count": 10,
     "metadata": {},
     "output_type": "execute_result"
    }
   ],
   "source": [
    "tup2[3] # Using indexing"
   ]
  },
  {
   "cell_type": "code",
   "execution_count": 12,
   "id": "196ead18",
   "metadata": {},
   "outputs": [
    {
     "name": "stdout",
     "output_type": "stream",
     "text": [
      "(26, 'Mayur', 11.4)\n"
     ]
    }
   ],
   "source": [
    "# You can also use slicing to get a range of values from a tuple:\n",
    "\n",
    "# slice the tuple\n",
    "print(tup2[3:])"
   ]
  },
  {
   "cell_type": "code",
   "execution_count": 69,
   "id": "02520248",
   "metadata": {},
   "outputs": [
    {
     "ename": "TypeError",
     "evalue": "'tuple' object does not support item assignment",
     "output_type": "error",
     "traceback": [
      "\u001b[0;31m---------------------------------------------------------------------------\u001b[0m",
      "\u001b[0;31mTypeError\u001b[0m                                 Traceback (most recent call last)",
      "Cell \u001b[0;32mIn [69], line 1\u001b[0m\n\u001b[0;32m----> 1\u001b[0m \u001b[43mtup2\u001b[49m\u001b[43m[\u001b[49m\u001b[38;5;241;43m3\u001b[39;49m\u001b[43m]\u001b[49m \u001b[38;5;241m=\u001b[39m \u001b[38;5;241m10\u001b[39m \u001b[38;5;66;03m# Can't modify the existing values as tuples are immutable in nature\u001b[39;00m\n",
      "\u001b[0;31mTypeError\u001b[0m: 'tuple' object does not support item assignment"
     ]
    }
   ],
   "source": [
    "tup2[3] = 10 # Can't modify the existing values as tuples are immutable in nature"
   ]
  },
  {
   "cell_type": "markdown",
   "id": "3019a5fb",
   "metadata": {},
   "source": [
    "Since tuples are immutable, you cannot modify their values once they are created. However, you can create a new tuple by concatenating two or more tuples:"
   ]
  },
  {
   "cell_type": "code",
   "execution_count": 15,
   "id": "05f09557",
   "metadata": {},
   "outputs": [],
   "source": [
    "tup2 = tup2 + (4, 5, 6) # This is not overwriting the existing tuple, it's creating new tuple in the memory"
   ]
  },
  {
   "cell_type": "code",
   "execution_count": 16,
   "id": "5db45e90",
   "metadata": {},
   "outputs": [
    {
     "data": {
      "text/plain": [
       "(1, 1, 3, 26, 'Mayur', 11.4, 4, 5, 6)"
      ]
     },
     "execution_count": 16,
     "metadata": {},
     "output_type": "execute_result"
    }
   ],
   "source": [
    "tup2"
   ]
  },
  {
   "cell_type": "code",
   "execution_count": null,
   "id": "b1565aaf",
   "metadata": {},
   "outputs": [],
   "source": []
  },
  {
   "cell_type": "markdown",
   "id": "05e78440",
   "metadata": {},
   "source": [
    "#### Dictionary\n",
    "\n",
    "A dictionary is an unordered collection of key-value pairs, where each key is unique and maps to a value. \n",
    "\n",
    "Dictionaries are enclosed in curly braces and separated by commas. \n",
    "\n",
    "Dictionary elements can be accessed using keys, and they can be modified using various methods."
   ]
  },
  {
   "cell_type": "code",
   "execution_count": 83,
   "id": "a79141ad",
   "metadata": {},
   "outputs": [],
   "source": [
    "dict1 = dict() # Mutable data structure"
   ]
  },
  {
   "cell_type": "code",
   "execution_count": 71,
   "id": "13c83e3c",
   "metadata": {},
   "outputs": [
    {
     "data": {
      "text/plain": [
       "dict"
      ]
     },
     "execution_count": 71,
     "metadata": {},
     "output_type": "execute_result"
    }
   ],
   "source": [
    "type(dict1)"
   ]
  },
  {
   "cell_type": "code",
   "execution_count": 78,
   "id": "e9ad2850",
   "metadata": {},
   "outputs": [],
   "source": [
    "dict2 = {'name' : ['Vaibhav', 'Akshada'], 'age' : [20, 40], } # {key : value} pair"
   ]
  },
  {
   "cell_type": "code",
   "execution_count": 79,
   "id": "9d4cf86c",
   "metadata": {},
   "outputs": [
    {
     "name": "stdout",
     "output_type": "stream",
     "text": [
      "{'name': ['Vaibhav', 'Akshada'], 'age': [20, 40]}\n",
      "<class 'dict'>\n"
     ]
    }
   ],
   "source": [
    "print(dict2)\n",
    "print(type(dict2))"
   ]
  },
  {
   "cell_type": "code",
   "execution_count": 80,
   "id": "827b44ae",
   "metadata": {},
   "outputs": [
    {
     "data": {
      "text/plain": [
       "['Vaibhav', 'Akshada']"
      ]
     },
     "execution_count": 80,
     "metadata": {},
     "output_type": "execute_result"
    }
   ],
   "source": [
    "dict2['name']"
   ]
  },
  {
   "cell_type": "code",
   "execution_count": 123,
   "id": "12cff1c1",
   "metadata": {},
   "outputs": [
    {
     "data": {
      "text/plain": [
       "'Akshada'"
      ]
     },
     "execution_count": 123,
     "metadata": {},
     "output_type": "execute_result"
    }
   ],
   "source": [
    "dict2['name'][1]"
   ]
  },
  {
   "cell_type": "code",
   "execution_count": 18,
   "id": "47434ad3",
   "metadata": {},
   "outputs": [],
   "source": [
    "car_dict = {\"brand\" : \"Mahindra\", \"electric\" : False, \"year\" : 2021, \"colors\" : ['red', 'black', 'white']}"
   ]
  },
  {
   "cell_type": "code",
   "execution_count": 19,
   "id": "a685420c",
   "metadata": {},
   "outputs": [
    {
     "data": {
      "text/plain": [
       "{'brand': 'Mahindra',\n",
       " 'electric': False,\n",
       " 'year': 2021,\n",
       " 'colors': ['red', 'black', 'white']}"
      ]
     },
     "execution_count": 19,
     "metadata": {},
     "output_type": "execute_result"
    }
   ],
   "source": [
    "car_dict"
   ]
  },
  {
   "cell_type": "code",
   "execution_count": 20,
   "id": "7a2a9b7c",
   "metadata": {},
   "outputs": [],
   "source": [
    "car_dict['brand'] = 'Tata' # modifind the value of existing key"
   ]
  },
  {
   "cell_type": "code",
   "execution_count": 21,
   "id": "e87682af",
   "metadata": {},
   "outputs": [
    {
     "data": {
      "text/plain": [
       "{'brand': 'Tata',\n",
       " 'electric': False,\n",
       " 'year': 2021,\n",
       " 'colors': ['red', 'black', 'white']}"
      ]
     },
     "execution_count": 21,
     "metadata": {},
     "output_type": "execute_result"
    }
   ],
   "source": [
    "car_dict"
   ]
  },
  {
   "cell_type": "code",
   "execution_count": 22,
   "id": "f7f333cf",
   "metadata": {},
   "outputs": [],
   "source": [
    "car_dict[\"Price\"] = 1200000 # Adding new key-value pair in existing dictionary"
   ]
  },
  {
   "cell_type": "code",
   "execution_count": 23,
   "id": "26b08ad2",
   "metadata": {},
   "outputs": [
    {
     "data": {
      "text/plain": [
       "{'brand': 'Tata',\n",
       " 'electric': False,\n",
       " 'year': 2021,\n",
       " 'colors': ['red', 'black', 'white'],\n",
       " 'Price': 1200000}"
      ]
     },
     "execution_count": 23,
     "metadata": {},
     "output_type": "execute_result"
    }
   ],
   "source": [
    "car_dict"
   ]
  },
  {
   "cell_type": "code",
   "execution_count": 24,
   "id": "ab9041d2",
   "metadata": {},
   "outputs": [
    {
     "data": {
      "text/plain": [
       "dict_keys(['brand', 'electric', 'year', 'colors', 'Price'])"
      ]
     },
     "execution_count": 24,
     "metadata": {},
     "output_type": "execute_result"
    }
   ],
   "source": [
    "car_dict.keys()"
   ]
  },
  {
   "cell_type": "code",
   "execution_count": 25,
   "id": "b3f5f775",
   "metadata": {},
   "outputs": [
    {
     "data": {
      "text/plain": [
       "dict_values(['Tata', False, 2021, ['red', 'black', 'white'], 1200000])"
      ]
     },
     "execution_count": 25,
     "metadata": {},
     "output_type": "execute_result"
    }
   ],
   "source": [
    "car_dict.values()"
   ]
  },
  {
   "cell_type": "code",
   "execution_count": 26,
   "id": "db56635f",
   "metadata": {},
   "outputs": [
    {
     "data": {
      "text/plain": [
       "dict_items([('brand', 'Tata'), ('electric', False), ('year', 2021), ('colors', ['red', 'black', 'white']), ('Price', 1200000)])"
      ]
     },
     "execution_count": 26,
     "metadata": {},
     "output_type": "execute_result"
    }
   ],
   "source": [
    "car_dict.items()"
   ]
  },
  {
   "cell_type": "code",
   "execution_count": 27,
   "id": "42921c01",
   "metadata": {},
   "outputs": [
    {
     "data": {
      "text/plain": [
       "2021"
      ]
     },
     "execution_count": 27,
     "metadata": {},
     "output_type": "execute_result"
    }
   ],
   "source": [
    "del car_dict['Price']\n",
    "car_dict.pop('year') # .pop() always returns the deleted value"
   ]
  },
  {
   "cell_type": "code",
   "execution_count": 28,
   "id": "1ce1c498",
   "metadata": {},
   "outputs": [
    {
     "data": {
      "text/plain": [
       "{'brand': 'Tata', 'electric': False, 'colors': ['red', 'black', 'white']}"
      ]
     },
     "execution_count": 28,
     "metadata": {},
     "output_type": "execute_result"
    }
   ],
   "source": [
    "car_dict"
   ]
  },
  {
   "cell_type": "code",
   "execution_count": 29,
   "id": "ae5cc66e",
   "metadata": {},
   "outputs": [],
   "source": [
    "car_dict['year'] = 2021"
   ]
  },
  {
   "cell_type": "code",
   "execution_count": 30,
   "id": "cd74321e",
   "metadata": {},
   "outputs": [
    {
     "data": {
      "text/plain": [
       "{'brand': 'Tata',\n",
       " 'electric': False,\n",
       " 'colors': ['red', 'black', 'white'],\n",
       " 'year': 2021}"
      ]
     },
     "execution_count": 30,
     "metadata": {},
     "output_type": "execute_result"
    }
   ],
   "source": [
    "car_dict"
   ]
  },
  {
   "cell_type": "code",
   "execution_count": null,
   "id": "8268b1de",
   "metadata": {},
   "outputs": [],
   "source": []
  },
  {
   "cell_type": "markdown",
   "id": "fbe949d3",
   "metadata": {},
   "source": [
    "#### Set\n",
    "\n",
    "A set is an unordered collection of unique elements. \n",
    "\n",
    "Sets are enclosed in curly braces or can be created using the set() constructor. \n",
    "\n",
    "Sets are useful for removing duplicates and performing mathematical set operations such as union, intersection, and difference."
   ]
  },
  {
   "cell_type": "code",
   "execution_count": 31,
   "id": "4a4f2d4e",
   "metadata": {},
   "outputs": [],
   "source": [
    "# Set --> You can have only distinct values, mutable in nature, unordered"
   ]
  },
  {
   "cell_type": "code",
   "execution_count": 32,
   "id": "25bb06a0",
   "metadata": {},
   "outputs": [],
   "source": [
    "set1 = set()\n",
    "set2 = {1, 1, 2, 3, 4, 'Tushar', 'Tushar', 'Mayur'}"
   ]
  },
  {
   "cell_type": "code",
   "execution_count": 33,
   "id": "41d9dd7c",
   "metadata": {},
   "outputs": [
    {
     "name": "stdout",
     "output_type": "stream",
     "text": [
      "<class 'set'>\n",
      "<class 'set'>\n"
     ]
    }
   ],
   "source": [
    "print(type(set1))\n",
    "print(type(set2))"
   ]
  },
  {
   "cell_type": "code",
   "execution_count": 34,
   "id": "217a8362",
   "metadata": {},
   "outputs": [
    {
     "data": {
      "text/plain": [
       "{1, 2, 3, 4, 'Mayur', 'Tushar'}"
      ]
     },
     "execution_count": 34,
     "metadata": {},
     "output_type": "execute_result"
    }
   ],
   "source": [
    "set2"
   ]
  },
  {
   "cell_type": "code",
   "execution_count": 35,
   "id": "2c34db26",
   "metadata": {},
   "outputs": [],
   "source": [
    "set2.add('Vaibhav')"
   ]
  },
  {
   "cell_type": "code",
   "execution_count": 36,
   "id": "cd7a1a17",
   "metadata": {},
   "outputs": [
    {
     "data": {
      "text/plain": [
       "{1, 2, 3, 4, 'Mayur', 'Tushar', 'Vaibhav'}"
      ]
     },
     "execution_count": 36,
     "metadata": {},
     "output_type": "execute_result"
    }
   ],
   "source": [
    "set2"
   ]
  },
  {
   "cell_type": "code",
   "execution_count": 37,
   "id": "bb48edd7",
   "metadata": {},
   "outputs": [],
   "source": [
    "set2.remove('Vaibhav')"
   ]
  },
  {
   "cell_type": "code",
   "execution_count": 38,
   "id": "e68e56f3",
   "metadata": {},
   "outputs": [
    {
     "data": {
      "text/plain": [
       "{1, 2, 3, 4, 'Mayur', 'Tushar'}"
      ]
     },
     "execution_count": 38,
     "metadata": {},
     "output_type": "execute_result"
    }
   ],
   "source": [
    "set2"
   ]
  },
  {
   "cell_type": "markdown",
   "id": "955fc134",
   "metadata": {},
   "source": [
    "You can also perform set operations such as union, intersection, and difference using the |, &, and - operators, respectively:"
   ]
  },
  {
   "cell_type": "code",
   "execution_count": 39,
   "id": "ef181f8b",
   "metadata": {},
   "outputs": [
    {
     "name": "stdout",
     "output_type": "stream",
     "text": [
      "{1, 2, 3, 4, 5, 6, 7, 8}\n",
      "{4, 5}\n",
      "{1, 2, 3}\n"
     ]
    }
   ],
   "source": [
    "# perform set operations\n",
    "set1 = {1, 2, 3, 4, 5}\n",
    "set2 = {4, 5, 6, 7, 8}\n",
    "\n",
    "# union\n",
    "print(set1 | set2) # Output: {1, 2, 3, 4, 5, 6, 7, 8}\n",
    "\n",
    "# intersection\n",
    "print(set1 & set2) # Output: {4, 5}\n",
    "\n",
    "# difference\n",
    "print(set1 - set2) # Output: {1, 2, 3}"
   ]
  },
  {
   "cell_type": "code",
   "execution_count": null,
   "id": "b179b798",
   "metadata": {},
   "outputs": [],
   "source": []
  },
  {
   "cell_type": "markdown",
   "id": "4d340358",
   "metadata": {},
   "source": [
    "#### Arrays\n",
    "\n",
    "Arrays are a type of data structure that stores a collection of elements of the same data type. \n",
    "\n",
    "The difference between arrays and lists in Python is that arrays are homogeneous, meaning all elements must be of the same type, while lists can store elements of different types.\n",
    "\n",
    "Arrays can also be useful for numerical computations and data analysis, as they can be more efficient and use less \n",
    "memory than lists. However, they are not as flexible as lists because they require elements to be of the same type.\n",
    "\n",
    "To use arrays in Python, you need to import the array module."
   ]
  },
  {
   "cell_type": "code",
   "execution_count": 40,
   "id": "4eb31e1e",
   "metadata": {},
   "outputs": [
    {
     "name": "stdout",
     "output_type": "stream",
     "text": [
      "array('i', [1, 2, 3, 4, 5])\n"
     ]
    }
   ],
   "source": [
    "import array\n",
    "\n",
    "# create an array of integers\n",
    "my_array = array.array('i', [1, 2, 3, 4, 5])\n",
    "\n",
    "# print the array\n",
    "print(my_array) # Output: array('i', [1, 2, 3, 4, 5])"
   ]
  },
  {
   "cell_type": "markdown",
   "id": "41f36057",
   "metadata": {},
   "source": [
    "The first argument in the array() function is the type code, which specifies the data type of the array. In this case, 'i' stands for integer."
   ]
  },
  {
   "cell_type": "code",
   "execution_count": 41,
   "id": "d733517d",
   "metadata": {},
   "outputs": [
    {
     "name": "stdout",
     "output_type": "stream",
     "text": [
      "1\n",
      "3\n"
     ]
    }
   ],
   "source": [
    "# You can access elements of an array using indexing, just like with lists:\n",
    "\n",
    "# access elements of the array\n",
    "print(my_array[0]) # Output: 1\n",
    "print(my_array[2]) # Output: 3"
   ]
  },
  {
   "cell_type": "code",
   "execution_count": 42,
   "id": "08676985",
   "metadata": {},
   "outputs": [
    {
     "name": "stdout",
     "output_type": "stream",
     "text": [
      "array('i', [1, 10, 3, 20, 5])\n"
     ]
    }
   ],
   "source": [
    "# You can also modify elements of the array by assigning new values to them:\n",
    "\n",
    "# modify elements of the array\n",
    "my_array[1] = 10\n",
    "my_array[3] = 20\n",
    "print(my_array) # Output: array('i', [1, 10, 3, 20, 5])"
   ]
  },
  {
   "cell_type": "code",
   "execution_count": null,
   "id": "6eb29e17",
   "metadata": {},
   "outputs": [],
   "source": []
  }
 ],
 "metadata": {
  "kernelspec": {
   "display_name": "Python 3 (ipykernel)",
   "language": "python",
   "name": "python3"
  },
  "language_info": {
   "codemirror_mode": {
    "name": "ipython",
    "version": 3
   },
   "file_extension": ".py",
   "mimetype": "text/x-python",
   "name": "python",
   "nbconvert_exporter": "python",
   "pygments_lexer": "ipython3",
   "version": "3.10.10"
  }
 },
 "nbformat": 4,
 "nbformat_minor": 5
}
