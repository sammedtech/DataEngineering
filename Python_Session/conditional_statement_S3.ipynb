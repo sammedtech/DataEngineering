{
 "cells": [
  {
   "cell_type": "code",
   "execution_count": 31,
   "id": "073d4053",
   "metadata": {},
   "outputs": [
    {
     "name": "stdout",
     "output_type": "stream",
     "text": [
      "Enter your age : 70\n"
     ]
    }
   ],
   "source": [
    "age = int(input(\"Enter your age : \"))"
   ]
  },
  {
   "cell_type": "code",
   "execution_count": 32,
   "id": "d5a31d7d",
   "metadata": {},
   "outputs": [
    {
     "data": {
      "text/plain": [
       "70"
      ]
     },
     "execution_count": 32,
     "metadata": {},
     "output_type": "execute_result"
    }
   ],
   "source": [
    "age"
   ]
  },
  {
   "cell_type": "code",
   "execution_count": 33,
   "id": "195b08a0",
   "metadata": {},
   "outputs": [
    {
     "data": {
      "text/plain": [
       "int"
      ]
     },
     "execution_count": 33,
     "metadata": {},
     "output_type": "execute_result"
    }
   ],
   "source": [
    "type(age)"
   ]
  },
  {
   "cell_type": "code",
   "execution_count": 38,
   "id": "e781a46d",
   "metadata": {},
   "outputs": [
    {
     "name": "stdout",
     "output_type": "stream",
     "text": [
      "You are an adult...\n",
      "Enjoy your adulthood!!!!\n",
      "Exit\n"
     ]
    }
   ],
   "source": [
    "# Conditional Statement\n",
    "if age < 18 :\n",
    "    print(\"You are below 18....\")\n",
    "elif (age >= 18) | (age <= 60) :\n",
    "    print(\"You are an adult...\")\n",
    "    print(\"Enjoy your adulthood!!!!\")\n",
    "else :\n",
    "    print(\"You are retired...\")\n",
    "\n",
    "print(\"Exit\")"
   ]
  },
  {
   "cell_type": "code",
   "execution_count": null,
   "id": "b1ff6df2",
   "metadata": {},
   "outputs": [],
   "source": [
    "& --> AND --> This means all the conditions should match\n",
    "| --> OR --> If any one condition is matching"
   ]
  },
  {
   "cell_type": "code",
   "execution_count": null,
   "id": "e92afbfe",
   "metadata": {},
   "outputs": [],
   "source": [
    "# Reserved Keywords --> if, else, elif, def, input, "
   ]
  },
  {
   "cell_type": "code",
   "execution_count": 47,
   "id": "8d3c0b66",
   "metadata": {},
   "outputs": [
    {
     "name": "stdout",
     "output_type": "stream",
     "text": [
      "Enter any number : 10\n"
     ]
    }
   ],
   "source": [
    "num = input(\"Enter any number : \")"
   ]
  },
  {
   "cell_type": "code",
   "execution_count": 48,
   "id": "0c807b03",
   "metadata": {},
   "outputs": [
    {
     "data": {
      "text/plain": [
       "'10'"
      ]
     },
     "execution_count": 48,
     "metadata": {},
     "output_type": "execute_result"
    }
   ],
   "source": [
    "num"
   ]
  },
  {
   "cell_type": "code",
   "execution_count": 51,
   "id": "7cce4cf1",
   "metadata": {},
   "outputs": [],
   "source": [
    "num = int(num)"
   ]
  },
  {
   "cell_type": "code",
   "execution_count": 52,
   "id": "ee543944",
   "metadata": {},
   "outputs": [
    {
     "data": {
      "text/plain": [
       "int"
      ]
     },
     "execution_count": 52,
     "metadata": {},
     "output_type": "execute_result"
    }
   ],
   "source": [
    "type(num)"
   ]
  },
  {
   "cell_type": "code",
   "execution_count": 43,
   "id": "25f32b5b",
   "metadata": {},
   "outputs": [
    {
     "name": "stdout",
     "output_type": "stream",
     "text": [
      "100\n"
     ]
    }
   ],
   "source": [
    "print(10*10)"
   ]
  },
  {
   "cell_type": "code",
   "execution_count": 53,
   "id": "4506177f",
   "metadata": {},
   "outputs": [
    {
     "name": "stdout",
     "output_type": "stream",
     "text": [
      "1\n"
     ]
    }
   ],
   "source": [
    "print(int(10/10))"
   ]
  },
  {
   "cell_type": "code",
   "execution_count": 54,
   "id": "9aaf5da6",
   "metadata": {},
   "outputs": [
    {
     "name": "stdout",
     "output_type": "stream",
     "text": [
      "<class 'float'>\n"
     ]
    }
   ],
   "source": [
    "print(type(1.0))"
   ]
  },
  {
   "cell_type": "code",
   "execution_count": null,
   "id": "06911017",
   "metadata": {},
   "outputs": [],
   "source": []
  }
 ],
 "metadata": {
  "kernelspec": {
   "display_name": "Python 3 (ipykernel)",
   "language": "python",
   "name": "python3"
  },
  "language_info": {
   "codemirror_mode": {
    "name": "ipython",
    "version": 3
   },
   "file_extension": ".py",
   "mimetype": "text/x-python",
   "name": "python",
   "nbconvert_exporter": "python",
   "pygments_lexer": "ipython3",
   "version": "3.10.10"
  }
 },
 "nbformat": 4,
 "nbformat_minor": 5
}
