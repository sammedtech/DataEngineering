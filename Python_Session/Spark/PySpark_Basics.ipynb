{
 "cells": [
  {
   "cell_type": "code",
   "execution_count": null,
   "id": "c77b127b",
   "metadata": {},
   "outputs": [],
   "source": [
    "!pip install pyspark"
   ]
  },
  {
   "cell_type": "code",
   "execution_count": null,
   "id": "e639834f",
   "metadata": {},
   "outputs": [],
   "source": [
    "from pyspark.sql import SparkSession"
   ]
  },
  {
   "cell_type": "code",
   "execution_count": null,
   "id": "b1359a25",
   "metadata": {},
   "outputs": [],
   "source": [
    "spark = SparkSession.builder.master('local').getOrCreate()"
   ]
  },
  {
   "cell_type": "markdown",
   "id": "cc85082c",
   "metadata": {},
   "source": [
    "### PySpark 1.0"
   ]
  },
  {
   "cell_type": "code",
   "execution_count": null,
   "id": "96da9c35",
   "metadata": {},
   "outputs": [],
   "source": [
    "from pyspark import SparkConf, SparkContext"
   ]
  },
  {
   "cell_type": "code",
   "execution_count": null,
   "id": "3273ef66",
   "metadata": {},
   "outputs": [],
   "source": [
    "conf = SparkConf()\n",
    "conf.setMaster('local')"
   ]
  },
  {
   "cell_type": "code",
   "execution_count": null,
   "id": "7f683d43",
   "metadata": {},
   "outputs": [],
   "source": [
    "sc = SparkContext.getOrCreate(conf)"
   ]
  },
  {
   "cell_type": "code",
   "execution_count": null,
   "id": "726aad41",
   "metadata": {},
   "outputs": [],
   "source": [
    "print(sc.appName)"
   ]
  },
  {
   "cell_type": "markdown",
   "id": "73e1a0ba",
   "metadata": {},
   "source": [
    "### After PySpark 2.0"
   ]
  },
  {
   "cell_type": "code",
   "execution_count": null,
   "id": "1cfa6976",
   "metadata": {},
   "outputs": [],
   "source": [
    "from pyspark.sql import SparkSession"
   ]
  },
  {
   "cell_type": "code",
   "execution_count": null,
   "id": "0a235f8d",
   "metadata": {},
   "outputs": [],
   "source": [
    "spark = SparkSession.builder.master('local').appName('Spark_Practice').getOrCreate()"
   ]
  },
  {
   "cell_type": "code",
   "execution_count": null,
   "id": "141769a6",
   "metadata": {},
   "outputs": [],
   "source": [
    "df = spark.createDataFrame(data=[('Akshay', 20), ('Bhushan', 24), ('Tushar', 25)]).toDF('Name', 'Age')"
   ]
  },
  {
   "cell_type": "code",
   "execution_count": null,
   "id": "23f215a9",
   "metadata": {},
   "outputs": [],
   "source": [
    "type(df)"
   ]
  },
  {
   "cell_type": "code",
   "execution_count": null,
   "id": "11c202e7",
   "metadata": {},
   "outputs": [],
   "source": [
    "df.show(truncate=False)"
   ]
  },
  {
   "cell_type": "markdown",
   "id": "919e2cf3",
   "metadata": {},
   "source": [
    "### Basic PySpark Operations : \n",
    "\n",
    "reading/writing files, filtering data, adding new columns, removing duplicate records, sorting dataframe, selecting specific columns"
   ]
  },
  {
   "cell_type": "code",
   "execution_count": null,
   "id": "9cbc13a5",
   "metadata": {},
   "outputs": [],
   "source": [
    "ecom_df = spark.read.csv('/content/ecommerce_data.csv', header=True)"
   ]
  },
  {
   "cell_type": "code",
   "execution_count": null,
   "id": "6ddcf390",
   "metadata": {},
   "outputs": [],
   "source": [
    "type(ecom_df)"
   ]
  },
  {
   "cell_type": "code",
   "execution_count": null,
   "id": "b2c30338",
   "metadata": {},
   "outputs": [],
   "source": [
    "ecom_df.show(5, truncate=False)"
   ]
  },
  {
   "cell_type": "code",
   "execution_count": null,
   "id": "ba99d05e",
   "metadata": {},
   "outputs": [],
   "source": [
    "ecom_df.select(\"country\").distinct().show(5, truncate=False)"
   ]
  },
  {
   "cell_type": "code",
   "execution_count": null,
   "id": "6faf0800",
   "metadata": {},
   "outputs": [],
   "source": [
    "ecom_df.filter(\"country == 'Sweden'\")"
   ]
  },
  {
   "cell_type": "code",
   "execution_count": null,
   "id": "52d4995f",
   "metadata": {},
   "outputs": [],
   "source": [
    "ecom_df.where(\"country != 'Sweden'\")"
   ]
  },
  {
   "cell_type": "code",
   "execution_count": null,
   "id": "915c6357",
   "metadata": {},
   "outputs": [],
   "source": [
    "filtered_ecom_df = ecom_df.where(\"country != 'Sweden'\")"
   ]
  },
  {
   "cell_type": "code",
   "execution_count": null,
   "id": "49c7d053",
   "metadata": {},
   "outputs": [],
   "source": [
    "filtered_ecom_df.show()"
   ]
  },
  {
   "cell_type": "code",
   "execution_count": null,
   "id": "51b4769f",
   "metadata": {},
   "outputs": [],
   "source": [
    "filtered_ecom_df.count()"
   ]
  },
  {
   "cell_type": "markdown",
   "id": "445f8864",
   "metadata": {},
   "source": [
    "### Spark SQL"
   ]
  },
  {
   "cell_type": "code",
   "execution_count": null,
   "id": "3033e25b",
   "metadata": {},
   "outputs": [],
   "source": [
    "filtered_ecom_df.createOrReplaceTempView(\"filtered_ecom_df_view\")"
   ]
  },
  {
   "cell_type": "code",
   "execution_count": null,
   "id": "12c723ec",
   "metadata": {},
   "outputs": [],
   "source": [
    "spark.sql(\"select *, count(*) from filtered_ecom_df_view group by InvoiceNo,StockCode,Description,Quantity,InvoiceDate,UnitPrice,CustomerID,Country having count(*) > 1\").show()"
   ]
  },
  {
   "cell_type": "code",
   "execution_count": null,
   "id": "fa19a704",
   "metadata": {},
   "outputs": [],
   "source": [
    "spark.sql(\"select * from (select *, count(*) as count from filtered_ecom_df_view group by InvoiceNo,StockCode,Description,Quantity,InvoiceDate,UnitPrice,CustomerID,Country)foo where count > 1\").show(truncate=False)"
   ]
  },
  {
   "cell_type": "markdown",
   "id": "06a062e4",
   "metadata": {},
   "source": [
    "#### Performing same operation as above with PySpark code"
   ]
  },
  {
   "cell_type": "code",
   "execution_count": null,
   "id": "43370ba2",
   "metadata": {},
   "outputs": [],
   "source": [
    "from pyspark.sql.functions import col, floor, trunc"
   ]
  },
  {
   "cell_type": "code",
   "execution_count": null,
   "id": "c241f1f7",
   "metadata": {},
   "outputs": [],
   "source": [
    "filtered_ecom_df.columns"
   ]
  },
  {
   "cell_type": "code",
   "execution_count": null,
   "id": "bcacfeb0",
   "metadata": {},
   "outputs": [],
   "source": [
    "duplicate_rec_df = filtered_ecom_df.groupBy(filtered_ecom_df.columns).count().filter(col('count')>1).select(\"InvoiceNo\",\"StockCode\")"
   ]
  },
  {
   "cell_type": "markdown",
   "id": "0c008500",
   "metadata": {},
   "source": [
    "#### Adding new column in existing DataFrame : withColumn()"
   ]
  },
  {
   "cell_type": "code",
   "execution_count": null,
   "id": "d8a28387",
   "metadata": {},
   "outputs": [],
   "source": [
    "filtered_ecom_df.withColumn(\"total_amount\", col('Quantity')*col('UnitPrice')).show(truncate=False)"
   ]
  },
  {
   "cell_type": "code",
   "execution_count": null,
   "id": "316debfd",
   "metadata": {},
   "outputs": [],
   "source": []
  },
  {
   "cell_type": "code",
   "execution_count": null,
   "id": "99e1a366",
   "metadata": {},
   "outputs": [],
   "source": []
  },
  {
   "cell_type": "code",
   "execution_count": null,
   "id": "2b03a1dc",
   "metadata": {},
   "outputs": [],
   "source": []
  },
  {
   "cell_type": "code",
   "execution_count": null,
   "id": "b52241e3",
   "metadata": {},
   "outputs": [],
   "source": []
  },
  {
   "cell_type": "code",
   "execution_count": null,
   "id": "02423c9f",
   "metadata": {},
   "outputs": [],
   "source": []
  },
  {
   "cell_type": "code",
   "execution_count": null,
   "id": "8b23aad1",
   "metadata": {},
   "outputs": [],
   "source": []
  },
  {
   "cell_type": "code",
   "execution_count": null,
   "id": "0bce26dd",
   "metadata": {},
   "outputs": [],
   "source": []
  }
 ],
 "metadata": {
  "kernelspec": {
   "display_name": "Python 3 (ipykernel)",
   "language": "python",
   "name": "python3"
  },
  "language_info": {
   "codemirror_mode": {
    "name": "ipython",
    "version": 3
   },
   "file_extension": ".py",
   "mimetype": "text/x-python",
   "name": "python",
   "nbconvert_exporter": "python",
   "pygments_lexer": "ipython3",
   "version": "3.10.11"
  }
 },
 "nbformat": 4,
 "nbformat_minor": 5
}
