{
 "cells": [
  {
   "cell_type": "markdown",
   "id": "e0680e03",
   "metadata": {},
   "source": [
    "### OOP : Object Oriented Programming"
   ]
  },
  {
   "cell_type": "code",
   "execution_count": 20,
   "id": "2b9a5eed",
   "metadata": {},
   "outputs": [],
   "source": [
    "def say_hello(name, age, college):\n",
    "    if college=\"Deogiri\":\n",
    "        print(f\"Hello {name}, Your total age after 10 years would be : {age+10}\")\n",
    "    else : \n",
    "        print(f\"Hello {name}, Your total age after 10 years would be : {age+10}\")"
   ]
  },
  {
   "cell_type": "code",
   "execution_count": 21,
   "id": "31fda09a",
   "metadata": {},
   "outputs": [
    {
     "name": "stdout",
     "output_type": "stream",
     "text": [
      "Hello Mayur, Your total age after 10 years would be : 35\n"
     ]
    }
   ],
   "source": [
    "say_hello(\"Mayur\", 25)"
   ]
  },
  {
   "cell_type": "code",
   "execution_count": null,
   "id": "c922cfff",
   "metadata": {},
   "outputs": [],
   "source": []
  },
  {
   "cell_type": "code",
   "execution_count": 36,
   "id": "6e16212a",
   "metadata": {},
   "outputs": [],
   "source": [
    "# class (Main character here) --> object (to access any element of class, we need to create object of that class)"
   ]
  },
  {
   "cell_type": "code",
   "execution_count": 42,
   "id": "2decc032",
   "metadata": {},
   "outputs": [],
   "source": [
    "class Person:\n",
    "    def __init__(self, name, age): # \n",
    "        self.name = name\n",
    "        self.age = age\n",
    "        \n",
    "    def say_hello(self):\n",
    "        print(f\"Hello {self.name}, Your total age after 10 years would be : {self.age+10}\")\n",
    "        \n",
    "    city = \"Nasik\""
   ]
  },
  {
   "cell_type": "code",
   "execution_count": 43,
   "id": "598be17b",
   "metadata": {},
   "outputs": [],
   "source": [
    "person1 = Person(\"Mayur\", 25) # Here person1 is object of Person class"
   ]
  },
  {
   "cell_type": "code",
   "execution_count": 44,
   "id": "45ca376d",
   "metadata": {},
   "outputs": [
    {
     "name": "stdout",
     "output_type": "stream",
     "text": [
      "Hello Mayur, Your total age after 10 years would be : 35\n"
     ]
    }
   ],
   "source": [
    "person1.say_hello()"
   ]
  },
  {
   "cell_type": "code",
   "execution_count": 46,
   "id": "80f5f106",
   "metadata": {},
   "outputs": [
    {
     "data": {
      "text/plain": [
       "'Nasik'"
      ]
     },
     "execution_count": 46,
     "metadata": {},
     "output_type": "execute_result"
    }
   ],
   "source": [
    "person1.city"
   ]
  },
  {
   "cell_type": "code",
   "execution_count": 34,
   "id": "f6f2a249",
   "metadata": {},
   "outputs": [],
   "source": [
    "class Deogiri:\n",
    "    def __init__(self, name, age):\n",
    "        self.name = name\n",
    "        self.age = age\n",
    "        \n",
    "    def say_hello(self):\n",
    "        print(f\"Hello {self.name}, Your total age after 20 years would be : {self.age+20}\")"
   ]
  },
  {
   "cell_type": "code",
   "execution_count": 40,
   "id": "50b23323",
   "metadata": {},
   "outputs": [],
   "source": [
    "person2 = Deogiri(\"Akshay\", 23)"
   ]
  },
  {
   "cell_type": "code",
   "execution_count": 41,
   "id": "39adc871",
   "metadata": {},
   "outputs": [
    {
     "name": "stdout",
     "output_type": "stream",
     "text": [
      "Hello Akshay, Your total age after 20 years would be : 43\n"
     ]
    }
   ],
   "source": [
    "person2.say_hello()"
   ]
  },
  {
   "cell_type": "code",
   "execution_count": null,
   "id": "9d79768d",
   "metadata": {},
   "outputs": [],
   "source": []
  },
  {
   "cell_type": "code",
   "execution_count": 63,
   "id": "53e5099d",
   "metadata": {},
   "outputs": [],
   "source": [
    "class Cars:\n",
    "    def list_cars(self):\n",
    "        print(\"Available Cars : \\n\\tMaruti\\n\\tTata\\n\\tMahindra\\n\\tKia\")"
   ]
  },
  {
   "cell_type": "code",
   "execution_count": 64,
   "id": "d2cbc877",
   "metadata": {},
   "outputs": [],
   "source": [
    "cars1 = Cars()"
   ]
  },
  {
   "cell_type": "code",
   "execution_count": 65,
   "id": "38f229ff",
   "metadata": {},
   "outputs": [
    {
     "name": "stdout",
     "output_type": "stream",
     "text": [
      "Available Cars : \n",
      "\tMaruti\n",
      "\tTata\n",
      "\tMahindra\n",
      "\tKia\n"
     ]
    }
   ],
   "source": [
    "cars1.list_cars()"
   ]
  },
  {
   "cell_type": "code",
   "execution_count": null,
   "id": "4718d617",
   "metadata": {},
   "outputs": [],
   "source": []
  },
  {
   "cell_type": "code",
   "execution_count": null,
   "id": "3e616663",
   "metadata": {},
   "outputs": [],
   "source": []
  },
  {
   "cell_type": "code",
   "execution_count": null,
   "id": "a7284a79",
   "metadata": {},
   "outputs": [],
   "source": []
  },
  {
   "cell_type": "code",
   "execution_count": 53,
   "id": "282af8ea",
   "metadata": {},
   "outputs": [],
   "source": [
    "# Scope of Variable"
   ]
  },
  {
   "cell_type": "code",
   "execution_count": 54,
   "id": "d5d8e676",
   "metadata": {},
   "outputs": [],
   "source": [
    "extra = 10\n",
    "\n",
    "def add(num1, num2):\n",
    "    extra = 20\n",
    "    return num1+num2+extra\n",
    "\n",
    "def multiple(num1, num2):\n",
    "    return extra*num1*num2"
   ]
  },
  {
   "cell_type": "code",
   "execution_count": 55,
   "id": "42f56fb5",
   "metadata": {},
   "outputs": [
    {
     "data": {
      "text/plain": [
       "70"
      ]
     },
     "execution_count": 55,
     "metadata": {},
     "output_type": "execute_result"
    }
   ],
   "source": [
    "add(20, 30)"
   ]
  },
  {
   "cell_type": "code",
   "execution_count": 56,
   "id": "407aaa39",
   "metadata": {},
   "outputs": [
    {
     "data": {
      "text/plain": [
       "20"
      ]
     },
     "execution_count": 56,
     "metadata": {},
     "output_type": "execute_result"
    }
   ],
   "source": [
    "multiple(1,2)"
   ]
  },
  {
   "cell_type": "code",
   "execution_count": null,
   "id": "c1bbc2f7",
   "metadata": {},
   "outputs": [],
   "source": []
  }
 ],
 "metadata": {
  "kernelspec": {
   "display_name": "Python 3 (ipykernel)",
   "language": "python",
   "name": "python3"
  },
  "language_info": {
   "codemirror_mode": {
    "name": "ipython",
    "version": 3
   },
   "file_extension": ".py",
   "mimetype": "text/x-python",
   "name": "python",
   "nbconvert_exporter": "python",
   "pygments_lexer": "ipython3",
   "version": "3.10.10"
  }
 },
 "nbformat": 4,
 "nbformat_minor": 5
}
