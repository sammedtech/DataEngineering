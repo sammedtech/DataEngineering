{
 "cells": [
  {
   "cell_type": "code",
   "execution_count": 1,
   "id": "43e14b2b",
   "metadata": {},
   "outputs": [],
   "source": [
    "list1 = [1, 2, 3, 4, 5, 6]"
   ]
  },
  {
   "cell_type": "code",
   "execution_count": 2,
   "id": "309e26dd",
   "metadata": {},
   "outputs": [
    {
     "name": "stdout",
     "output_type": "stream",
     "text": [
      "21\n"
     ]
    }
   ],
   "source": [
    "sum = 0\n",
    "for i in list1:\n",
    "    sum += i\n",
    "\n",
    "print(sum)"
   ]
  },
  {
   "cell_type": "code",
   "execution_count": 3,
   "id": "aaf5b4aa",
   "metadata": {},
   "outputs": [],
   "source": [
    "def get_square(num):\n",
    "    return num*num"
   ]
  },
  {
   "cell_type": "code",
   "execution_count": 4,
   "id": "59c75b6d",
   "metadata": {},
   "outputs": [
    {
     "data": {
      "text/plain": [
       "400"
      ]
     },
     "execution_count": 4,
     "metadata": {},
     "output_type": "execute_result"
    }
   ],
   "source": [
    "get_square(20)"
   ]
  },
  {
   "cell_type": "code",
   "execution_count": 5,
   "id": "12087edc",
   "metadata": {},
   "outputs": [
    {
     "name": "stdout",
     "output_type": "stream",
     "text": [
      "1\n",
      "4\n",
      "9\n",
      "16\n",
      "25\n",
      "36\n"
     ]
    }
   ],
   "source": [
    "for i in list1:\n",
    "    print(get_square(i))"
   ]
  },
  {
   "cell_type": "code",
   "execution_count": 6,
   "id": "ac3fac75",
   "metadata": {},
   "outputs": [],
   "source": [
    "result = map(get_square, list1)"
   ]
  },
  {
   "cell_type": "code",
   "execution_count": 8,
   "id": "fcc79afc",
   "metadata": {},
   "outputs": [
    {
     "data": {
      "text/plain": [
       "map"
      ]
     },
     "execution_count": 8,
     "metadata": {},
     "output_type": "execute_result"
    }
   ],
   "source": [
    "type(result)"
   ]
  },
  {
   "cell_type": "code",
   "execution_count": 9,
   "id": "fc4d8854",
   "metadata": {},
   "outputs": [
    {
     "name": "stdout",
     "output_type": "stream",
     "text": [
      "[1, 4, 9, 16, 25, 36]\n"
     ]
    }
   ],
   "source": [
    "print(list(result))"
   ]
  },
  {
   "cell_type": "code",
   "execution_count": 10,
   "id": "34641a3f",
   "metadata": {},
   "outputs": [],
   "source": [
    "prac_list = [23, 53, 65, 12, 25, 87, 21, 24, 42, 66, 76, 93, 100]"
   ]
  },
  {
   "cell_type": "code",
   "execution_count": 11,
   "id": "68ba2a3f",
   "metadata": {},
   "outputs": [],
   "source": [
    "def get_distance(num):\n",
    "    return 100-num"
   ]
  },
  {
   "cell_type": "code",
   "execution_count": 12,
   "id": "0d4af8af",
   "metadata": {},
   "outputs": [
    {
     "data": {
      "text/plain": [
       "77"
      ]
     },
     "execution_count": 12,
     "metadata": {},
     "output_type": "execute_result"
    }
   ],
   "source": [
    "get_distance(23)"
   ]
  },
  {
   "cell_type": "code",
   "execution_count": 13,
   "id": "c8890417",
   "metadata": {},
   "outputs": [
    {
     "data": {
      "text/plain": [
       "47"
      ]
     },
     "execution_count": 13,
     "metadata": {},
     "output_type": "execute_result"
    }
   ],
   "source": [
    "get_distance(53)"
   ]
  },
  {
   "cell_type": "code",
   "execution_count": 14,
   "id": "fa03a6e1",
   "metadata": {},
   "outputs": [
    {
     "data": {
      "text/plain": [
       "35"
      ]
     },
     "execution_count": 14,
     "metadata": {},
     "output_type": "execute_result"
    }
   ],
   "source": [
    "get_distance(65)"
   ]
  },
  {
   "cell_type": "code",
   "execution_count": 23,
   "id": "f44c81b4",
   "metadata": {},
   "outputs": [],
   "source": [
    "import time"
   ]
  },
  {
   "cell_type": "code",
   "execution_count": 26,
   "id": "0eae4150",
   "metadata": {},
   "outputs": [
    {
     "data": {
      "text/plain": [
       "1682009935.016052"
      ]
     },
     "execution_count": 26,
     "metadata": {},
     "output_type": "execute_result"
    }
   ],
   "source": []
  },
  {
   "cell_type": "code",
   "execution_count": 28,
   "id": "ba114e6c",
   "metadata": {},
   "outputs": [
    {
     "name": "stdout",
     "output_type": "stream",
     "text": [
      "77\n",
      "47\n",
      "35\n",
      "88\n",
      "75\n",
      "13\n",
      "79\n",
      "76\n",
      "58\n",
      "34\n",
      "24\n",
      "7\n",
      "0\n",
      "0.0003688335418701172\n"
     ]
    }
   ],
   "source": [
    "st_time = time.time()\n",
    "for i in prac_list:\n",
    "    print(get_distance(i))\n",
    "end_time = time.time()\n",
    "\n",
    "print(end_time-st_time)"
   ]
  },
  {
   "cell_type": "code",
   "execution_count": 30,
   "id": "4c9e63a7",
   "metadata": {},
   "outputs": [
    {
     "name": "stdout",
     "output_type": "stream",
     "text": [
      "[77, 47, 35, 88, 75, 13, 79, 76, 58, 34, 24, 7, 0]\n",
      "0.000347137451171875\n"
     ]
    }
   ],
   "source": [
    "st_time = time.time()\n",
    "print(list(map(get_distance, prac_list)))\n",
    "end_time = time.time()\n",
    "\n",
    "print(end_time-st_time)"
   ]
  },
  {
   "cell_type": "code",
   "execution_count": 17,
   "id": "e2726b85",
   "metadata": {},
   "outputs": [
    {
     "name": "stdout",
     "output_type": "stream",
     "text": [
      "Help on class map in module builtins:\n",
      "\n",
      "class map(object)\n",
      " |  map(func, *iterables) --> map object\n",
      " |  \n",
      " |  Make an iterator that computes the function using arguments from\n",
      " |  each of the iterables.  Stops when the shortest iterable is exhausted.\n",
      " |  \n",
      " |  Methods defined here:\n",
      " |  \n",
      " |  __getattribute__(self, name, /)\n",
      " |      Return getattr(self, name).\n",
      " |  \n",
      " |  __iter__(self, /)\n",
      " |      Implement iter(self).\n",
      " |  \n",
      " |  __next__(self, /)\n",
      " |      Implement next(self).\n",
      " |  \n",
      " |  __reduce__(...)\n",
      " |      Return state information for pickling.\n",
      " |  \n",
      " |  ----------------------------------------------------------------------\n",
      " |  Static methods defined here:\n",
      " |  \n",
      " |  __new__(*args, **kwargs) from builtins.type\n",
      " |      Create and return a new object.  See help(type) for accurate signature.\n",
      "\n"
     ]
    }
   ],
   "source": [
    "help(map)"
   ]
  },
  {
   "cell_type": "code",
   "execution_count": null,
   "id": "f1cdbdde",
   "metadata": {},
   "outputs": [],
   "source": []
  },
  {
   "cell_type": "code",
   "execution_count": 32,
   "id": "953d7041",
   "metadata": {},
   "outputs": [],
   "source": [
    "kbc_questions = [\n",
    "    [\"What is the full form of IPL?\", \"Indian Premier League\", \"Indian Punjabi League\", \"Indira Pune Law\"],\n",
    "    [\"Who is the founder of Boat?\", \"Kali Mishra\", \"Aman Gupta\", \"Ashneer Grover\"]\n",
    "]"
   ]
  },
  {
   "cell_type": "code",
   "execution_count": 33,
   "id": "231e1f5e",
   "metadata": {},
   "outputs": [
    {
     "data": {
      "text/plain": [
       "2"
      ]
     },
     "execution_count": 33,
     "metadata": {},
     "output_type": "execute_result"
    }
   ],
   "source": [
    "len(kbc_questions)"
   ]
  },
  {
   "cell_type": "code",
   "execution_count": 36,
   "id": "4fefead8",
   "metadata": {},
   "outputs": [
    {
     "data": {
      "text/plain": [
       "['What is the full form of IPL?',\n",
       " 'Indian Premier League',\n",
       " 'Indian Punjabi League',\n",
       " 'Indira Pune Law']"
      ]
     },
     "execution_count": 36,
     "metadata": {},
     "output_type": "execute_result"
    }
   ],
   "source": [
    "kbc_questions[0]"
   ]
  },
  {
   "cell_type": "code",
   "execution_count": 46,
   "id": "4ae17e65",
   "metadata": {},
   "outputs": [
    {
     "name": "stdout",
     "output_type": "stream",
     "text": [
      "What is the full form of IPL?\n",
      "['Indian Premier League', 'Indian Punjabi League', 'Indira Pune Law']\n",
      "\n",
      "*************************\n",
      "\n",
      "Who is the founder of Boat?\n",
      "['Kali Mishra', 'Aman Gupta', 'Ashneer Grover']\n",
      "\n",
      "*************************\n",
      "\n"
     ]
    }
   ],
   "source": [
    "for i in range(0, len(kbc_questions)):\n",
    "    question = kbc_questions[i][0]\n",
    "    print(question)\n",
    "    print([kbc_questions[i][1], kbc_questions[i][2], kbc_questions[i][3]])\n",
    "    print()\n",
    "    print(\"*************************\")\n",
    "    print()"
   ]
  },
  {
   "cell_type": "code",
   "execution_count": 48,
   "id": "315c3d6e",
   "metadata": {},
   "outputs": [
    {
     "name": "stdout",
     "output_type": "stream",
     "text": [
      "['What is the full form of IPL?', 'Indian Premier League', 'Indian Punjabi League', 'Indira Pune Law']\n",
      "['Who is the founder of Boat?', 'Kali Mishra', 'Aman Gupta', 'Ashneer Grover']\n"
     ]
    }
   ],
   "source": [
    "for i in kbc_questions:\n",
    "    print(i)"
   ]
  },
  {
   "cell_type": "code",
   "execution_count": null,
   "id": "419d2fe8",
   "metadata": {},
   "outputs": [],
   "source": []
  }
 ],
 "metadata": {
  "kernelspec": {
   "display_name": "Python 3 (ipykernel)",
   "language": "python",
   "name": "python3"
  },
  "language_info": {
   "codemirror_mode": {
    "name": "ipython",
    "version": 3
   },
   "file_extension": ".py",
   "mimetype": "text/x-python",
   "name": "python",
   "nbconvert_exporter": "python",
   "pygments_lexer": "ipython3",
   "version": "3.10.10"
  }
 },
 "nbformat": 4,
 "nbformat_minor": 5
}
