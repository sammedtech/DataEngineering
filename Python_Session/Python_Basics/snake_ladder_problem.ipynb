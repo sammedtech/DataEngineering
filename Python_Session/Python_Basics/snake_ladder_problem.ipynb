{
 "cells": [
  {
   "cell_type": "markdown",
   "id": "83225788",
   "metadata": {},
   "source": [
    "### Snake-Ladder Game"
   ]
  },
  {
   "cell_type": "markdown",
   "id": "e136288e",
   "metadata": {},
   "source": [
    "1. Start from 0th position\n",
    "\n",
    "2. Roll a dice : {1,2,3,4,5,6}\n",
    "\n",
    "3. move your position number of steps forward that came after rolling a dice\n",
    "\n",
    "4. Check if you're on a ladder, if yes, move forward to the next step where ladder ends\n",
    "\n",
    "5. Check if you're on a snake, if yes, move backward to the step where snake ends\n",
    "\n",
    "6. Your final goal is to read 100th step\n",
    "\n",
    "7. You'll not move if you're on 96th step and you get 5 in dice because that crosses 100"
   ]
  },
  {
   "cell_type": "code",
   "execution_count": 1,
   "id": "c17aedba",
   "metadata": {},
   "outputs": [],
   "source": [
    "# Hint\n",
    "ladder = [(13, 49), (22, 56), (43, 78), (52, 96)]\n",
    "snake = [(15, 2), (28, 10), (62, 14), (98, 26)]"
   ]
  },
  {
   "cell_type": "code",
   "execution_count": null,
   "id": "82a38412",
   "metadata": {},
   "outputs": [],
   "source": []
  }
 ],
 "metadata": {
  "kernelspec": {
   "display_name": "Python 3 (ipykernel)",
   "language": "python",
   "name": "python3"
  },
  "language_info": {
   "codemirror_mode": {
    "name": "ipython",
    "version": 3
   },
   "file_extension": ".py",
   "mimetype": "text/x-python",
   "name": "python",
   "nbconvert_exporter": "python",
   "pygments_lexer": "ipython3",
   "version": "3.10.10"
  }
 },
 "nbformat": 4,
 "nbformat_minor": 5
}
