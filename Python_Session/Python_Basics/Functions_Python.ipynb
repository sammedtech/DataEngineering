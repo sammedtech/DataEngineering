{
 "cells": [
  {
   "cell_type": "code",
   "execution_count": 2,
   "id": "c2724114",
   "metadata": {},
   "outputs": [],
   "source": [
    "'''\n",
    "Variable\n",
    "comments\n",
    "if-else\n",
    "loops in python\n",
    "data structures in python\n",
    "'''"
   ]
  },
  {
   "cell_type": "markdown",
   "id": "8ec26793",
   "metadata": {},
   "source": [
    "### Functions in Python\n",
    "\n",
    "In Function, you'll add such instructions which will be used multiple times\n",
    "\n",
    "Functions support re-usability concept\n",
    "\n",
    "It's a set of instructions clubed together, which will be used in your program"
   ]
  },
  {
   "cell_type": "code",
   "execution_count": 3,
   "id": "09bf2a46",
   "metadata": {},
   "outputs": [],
   "source": [
    "# Function in C : void find_name(int a, int b){}"
   ]
  },
  {
   "cell_type": "code",
   "execution_count": 5,
   "id": "58194cfc",
   "metadata": {},
   "outputs": [],
   "source": [
    "# Function Signature/Definition\n",
    "\n",
    "def get_sum(a, b):\n",
    "    return a*b"
   ]
  },
  {
   "cell_type": "code",
   "execution_count": 11,
   "id": "32cda5fc",
   "metadata": {},
   "outputs": [],
   "source": [
    "# Calling a function\n",
    "\n",
    "result = get_sum(5, 6)"
   ]
  },
  {
   "cell_type": "code",
   "execution_count": 8,
   "id": "5664968a",
   "metadata": {},
   "outputs": [
    {
     "data": {
      "text/plain": [
       "30"
      ]
     },
     "execution_count": 8,
     "metadata": {},
     "output_type": "execute_result"
    }
   ],
   "source": [
    "result"
   ]
  },
  {
   "cell_type": "code",
   "execution_count": 9,
   "id": "5c30f10a",
   "metadata": {},
   "outputs": [],
   "source": [
    "result = get_sum(10, 20)"
   ]
  },
  {
   "cell_type": "code",
   "execution_count": 10,
   "id": "f603c475",
   "metadata": {},
   "outputs": [
    {
     "data": {
      "text/plain": [
       "200"
      ]
     },
     "execution_count": 10,
     "metadata": {},
     "output_type": "execute_result"
    }
   ],
   "source": [
    "result"
   ]
  },
  {
   "cell_type": "code",
   "execution_count": null,
   "id": "12e18ec9",
   "metadata": {},
   "outputs": [],
   "source": []
  },
  {
   "cell_type": "code",
   "execution_count": 33,
   "id": "13a7cc53",
   "metadata": {},
   "outputs": [],
   "source": [
    "def get_sum_with_interest(a, b, interest_rate=7.5, age=20):\n",
    "    res = (a/interest_rate)*100\n",
    "    print(res)"
   ]
  },
  {
   "cell_type": "code",
   "execution_count": 35,
   "id": "21f78941",
   "metadata": {},
   "outputs": [
    {
     "name": "stdout",
     "output_type": "stream",
     "text": [
      "1333333.3333333335\n"
     ]
    }
   ],
   "source": [
    "get_sum_with_interest(100000, 0)"
   ]
  },
  {
   "cell_type": "code",
   "execution_count": 36,
   "id": "09613938",
   "metadata": {},
   "outputs": [
    {
     "name": "stdout",
     "output_type": "stream",
     "text": [
      "1000000.0\n"
     ]
    }
   ],
   "source": [
    "get_sum_with_interest(interest_rate=10, a=100000, b=20)"
   ]
  },
  {
   "cell_type": "code",
   "execution_count": null,
   "id": "5b60bf99",
   "metadata": {},
   "outputs": [],
   "source": []
  },
  {
   "cell_type": "code",
   "execution_count": 24,
   "id": "19190062",
   "metadata": {},
   "outputs": [],
   "source": [
    "def return_value():\n",
    "    return 1,2,3,4"
   ]
  },
  {
   "cell_type": "code",
   "execution_count": 26,
   "id": "4362146e",
   "metadata": {},
   "outputs": [],
   "source": [
    "a,b,c,d = return_value()"
   ]
  },
  {
   "cell_type": "code",
   "execution_count": 21,
   "id": "062af001",
   "metadata": {},
   "outputs": [
    {
     "data": {
      "text/plain": [
       "1"
      ]
     },
     "execution_count": 21,
     "metadata": {},
     "output_type": "execute_result"
    }
   ],
   "source": [
    "a"
   ]
  },
  {
   "cell_type": "code",
   "execution_count": 23,
   "id": "ea4e27e2",
   "metadata": {},
   "outputs": [
    {
     "data": {
      "text/plain": [
       "2"
      ]
     },
     "execution_count": 23,
     "metadata": {},
     "output_type": "execute_result"
    }
   ],
   "source": [
    "b"
   ]
  },
  {
   "cell_type": "code",
   "execution_count": 22,
   "id": "beed88aa",
   "metadata": {},
   "outputs": [
    {
     "data": {
      "text/plain": [
       "3"
      ]
     },
     "execution_count": 22,
     "metadata": {},
     "output_type": "execute_result"
    }
   ],
   "source": [
    "c"
   ]
  },
  {
   "cell_type": "code",
   "execution_count": 27,
   "id": "b1ea3c33",
   "metadata": {},
   "outputs": [
    {
     "data": {
      "text/plain": [
       "4"
      ]
     },
     "execution_count": 27,
     "metadata": {},
     "output_type": "execute_result"
    }
   ],
   "source": [
    "d"
   ]
  },
  {
   "cell_type": "code",
   "execution_count": null,
   "id": "40e76f9e",
   "metadata": {},
   "outputs": [],
   "source": []
  },
  {
   "cell_type": "code",
   "execution_count": 28,
   "id": "222df7ed",
   "metadata": {},
   "outputs": [],
   "source": [
    "def return_list():\n",
    "    return [1,3,5,6]"
   ]
  },
  {
   "cell_type": "code",
   "execution_count": 29,
   "id": "1547aa5c",
   "metadata": {},
   "outputs": [],
   "source": [
    "lst = return_list()"
   ]
  },
  {
   "cell_type": "code",
   "execution_count": 30,
   "id": "919d14c9",
   "metadata": {},
   "outputs": [
    {
     "data": {
      "text/plain": [
       "list"
      ]
     },
     "execution_count": 30,
     "metadata": {},
     "output_type": "execute_result"
    }
   ],
   "source": [
    "type(lst)"
   ]
  },
  {
   "cell_type": "code",
   "execution_count": null,
   "id": "984c185d",
   "metadata": {},
   "outputs": [],
   "source": []
  },
  {
   "cell_type": "code",
   "execution_count": 37,
   "id": "84a8358d",
   "metadata": {},
   "outputs": [],
   "source": [
    "def first_function():\n",
    "    def inside_functions():\n",
    "        print(\"Inside Function is called...\")\n",
    "        \n",
    "    print(\"First Function welcomes you! :)\")\n",
    "    inside_functions()"
   ]
  },
  {
   "cell_type": "code",
   "execution_count": 38,
   "id": "a6b5dc58",
   "metadata": {},
   "outputs": [
    {
     "name": "stdout",
     "output_type": "stream",
     "text": [
      "First Function welcomes you! :)\n",
      "Inside Function is called...\n"
     ]
    }
   ],
   "source": [
    "first_function()"
   ]
  },
  {
   "cell_type": "code",
   "execution_count": null,
   "id": "034a7b5f",
   "metadata": {},
   "outputs": [],
   "source": []
  },
  {
   "cell_type": "code",
   "execution_count": 48,
   "id": "c3557bdd",
   "metadata": {},
   "outputs": [],
   "source": [
    "sum1 = 0\n",
    "\n",
    "def get_total_sum(lst):\n",
    "    sum1 = 0\n",
    "    for i in lst:\n",
    "        sum1 += i\n",
    "        \n",
    "    return sum1"
   ]
  },
  {
   "cell_type": "code",
   "execution_count": 49,
   "id": "535c4377",
   "metadata": {},
   "outputs": [],
   "source": [
    "result = get_total_sum([1,2,3,4,5])"
   ]
  },
  {
   "cell_type": "code",
   "execution_count": 50,
   "id": "0f8d3f6a",
   "metadata": {},
   "outputs": [
    {
     "data": {
      "text/plain": [
       "15"
      ]
     },
     "execution_count": 50,
     "metadata": {},
     "output_type": "execute_result"
    }
   ],
   "source": [
    "result"
   ]
  },
  {
   "cell_type": "code",
   "execution_count": 51,
   "id": "5683a002",
   "metadata": {},
   "outputs": [],
   "source": [
    "lst = [1,2,3,4,5]"
   ]
  },
  {
   "cell_type": "code",
   "execution_count": 53,
   "id": "2f9f3eb6",
   "metadata": {},
   "outputs": [
    {
     "data": {
      "text/plain": [
       "5"
      ]
     },
     "execution_count": 53,
     "metadata": {},
     "output_type": "execute_result"
    }
   ],
   "source": [
    "len(lst)"
   ]
  },
  {
   "cell_type": "code",
   "execution_count": null,
   "id": "191e0054",
   "metadata": {},
   "outputs": [],
   "source": [
    "# my_function.py\n",
    "\n",
    "def get_total_sum(lst):\n",
    "    sum1 = 0\n",
    "    for i in lst:\n",
    "        sum1 += i\n",
    "        \n",
    "    return sum1"
   ]
  },
  {
   "cell_type": "code",
   "execution_count": 54,
   "id": "c1613208",
   "metadata": {},
   "outputs": [
    {
     "ename": "ModuleNotFoundError",
     "evalue": "No module named 'get_total_sum'",
     "output_type": "error",
     "traceback": [
      "\u001b[0;31m---------------------------------------------------------------------------\u001b[0m",
      "\u001b[0;31mModuleNotFoundError\u001b[0m                       Traceback (most recent call last)",
      "Cell \u001b[0;32mIn [54], line 1\u001b[0m\n\u001b[0;32m----> 1\u001b[0m \u001b[38;5;28;01mimport\u001b[39;00m \u001b[38;5;21;01mget_total_sum\u001b[39;00m\n",
      "\u001b[0;31mModuleNotFoundError\u001b[0m: No module named 'get_total_sum'"
     ]
    }
   ],
   "source": [
    "import myfunction.get_total_sum"
   ]
  },
  {
   "cell_type": "code",
   "execution_count": null,
   "id": "93160ba6",
   "metadata": {},
   "outputs": [],
   "source": []
  },
  {
   "cell_type": "code",
   "execution_count": null,
   "id": "f704e1d9",
   "metadata": {},
   "outputs": [],
   "source": []
  },
  {
   "cell_type": "code",
   "execution_count": 55,
   "id": "473940fa",
   "metadata": {},
   "outputs": [],
   "source": [
    "# List Comprehension"
   ]
  },
  {
   "cell_type": "code",
   "execution_count": 64,
   "id": "bdd87af8",
   "metadata": {},
   "outputs": [],
   "source": [
    "lst = [1,2,3,4,5]"
   ]
  },
  {
   "cell_type": "code",
   "execution_count": 65,
   "id": "72db1438",
   "metadata": {},
   "outputs": [
    {
     "name": "stdout",
     "output_type": "stream",
     "text": [
      "16\n",
      "25\n"
     ]
    }
   ],
   "source": [
    "for i in lst:\n",
    "    if i > 3:\n",
    "        print(i*i)"
   ]
  },
  {
   "cell_type": "code",
   "execution_count": 61,
   "id": "78e3809d",
   "metadata": {},
   "outputs": [],
   "source": [
    "result = [num*num for num in lst if num > 3]"
   ]
  },
  {
   "cell_type": "code",
   "execution_count": 62,
   "id": "ea217e66",
   "metadata": {},
   "outputs": [
    {
     "data": {
      "text/plain": [
       "[16, 25]"
      ]
     },
     "execution_count": 62,
     "metadata": {},
     "output_type": "execute_result"
    }
   ],
   "source": [
    "result"
   ]
  },
  {
   "cell_type": "code",
   "execution_count": null,
   "id": "d8d89d99",
   "metadata": {},
   "outputs": [],
   "source": []
  },
  {
   "cell_type": "code",
   "execution_count": null,
   "id": "e8046e58",
   "metadata": {},
   "outputs": [],
   "source": []
  }
 ],
 "metadata": {
  "kernelspec": {
   "display_name": "Python 3 (ipykernel)",
   "language": "python",
   "name": "python3"
  },
  "language_info": {
   "codemirror_mode": {
    "name": "ipython",
    "version": 3
   },
   "file_extension": ".py",
   "mimetype": "text/x-python",
   "name": "python",
   "nbconvert_exporter": "python",
   "pygments_lexer": "ipython3",
   "version": "3.10.10"
  }
 },
 "nbformat": 4,
 "nbformat_minor": 5
}
