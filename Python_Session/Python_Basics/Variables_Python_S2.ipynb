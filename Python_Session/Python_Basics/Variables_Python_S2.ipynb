{
 "cells": [
  {
   "cell_type": "markdown",
   "id": "55083168",
   "metadata": {},
   "source": [
    "jupyter notebook file extension --> <file_name>.ipynb"
   ]
  },
  {
   "cell_type": "markdown",
   "id": "63be6d5e",
   "metadata": {},
   "source": [
    "### Variables in Python\n",
    "\n",
    "Data --> Any processed information is data\n",
    "\n",
    "Variable --> placeholder for data/can be used to store data\n",
    "\n",
    "Data Storing Devices --> HDD, RAM, SSD, Pen Drives, Disks"
   ]
  },
  {
   "cell_type": "markdown",
   "id": "01483586",
   "metadata": {},
   "source": [
    "datatype variable_name = data;\n",
    "\n",
    "Data Types : \n",
    "Integer\n",
    "String\n",
    "Float\n",
    "Boolean\n",
    "Date\n",
    "Char\n",
    "\n",
    "int age = 20;\n",
    "\n",
    "float weight = 65.5;"
   ]
  },
  {
   "cell_type": "code",
   "execution_count": 1,
   "id": "068b8c90",
   "metadata": {},
   "outputs": [],
   "source": [
    "age = \"Fifty\""
   ]
  },
  {
   "cell_type": "code",
   "execution_count": 2,
   "id": "2cd11a7c",
   "metadata": {},
   "outputs": [
    {
     "data": {
      "text/plain": [
       "'Fifty'"
      ]
     },
     "execution_count": 2,
     "metadata": {},
     "output_type": "execute_result"
    }
   ],
   "source": [
    "age"
   ]
  },
  {
   "cell_type": "code",
   "execution_count": 3,
   "id": "c21bc3b4",
   "metadata": {},
   "outputs": [
    {
     "data": {
      "text/plain": [
       "str"
      ]
     },
     "execution_count": 3,
     "metadata": {},
     "output_type": "execute_result"
    }
   ],
   "source": [
    "type(age)"
   ]
  },
  {
   "cell_type": "code",
   "execution_count": 4,
   "id": "938e7d3a",
   "metadata": {},
   "outputs": [],
   "source": [
    "age = 50"
   ]
  },
  {
   "cell_type": "code",
   "execution_count": 5,
   "id": "7df0c5f1",
   "metadata": {},
   "outputs": [
    {
     "data": {
      "text/plain": [
       "int"
      ]
     },
     "execution_count": 5,
     "metadata": {},
     "output_type": "execute_result"
    }
   ],
   "source": [
    "type(age)"
   ]
  },
  {
   "cell_type": "code",
   "execution_count": 6,
   "id": "2b8eda5c",
   "metadata": {},
   "outputs": [
    {
     "ename": "SyntaxError",
     "evalue": "invalid syntax (2573766507.py, line 1)",
     "output_type": "error",
     "traceback": [
      "\u001b[0;36m  Cell \u001b[0;32mIn [6], line 1\u001b[0;36m\u001b[0m\n\u001b[0;31m    int age = 40\u001b[0m\n\u001b[0m        ^\u001b[0m\n\u001b[0;31mSyntaxError\u001b[0m\u001b[0;31m:\u001b[0m invalid syntax\n"
     ]
    }
   ],
   "source": [
    "int age = 40"
   ]
  },
  {
   "cell_type": "code",
   "execution_count": 7,
   "id": "9147e8de",
   "metadata": {},
   "outputs": [],
   "source": [
    "age = 50\n",
    "name = \"Jeevan\"\n",
    "city = \"Mumbai\"\n",
    "is_old = False\n",
    "joining_date = \"2022/04/11\""
   ]
  },
  {
   "cell_type": "code",
   "execution_count": null,
   "id": "c101b45e",
   "metadata": {},
   "outputs": [],
   "source": [
    "# print(\"Age : %d\\nname : %s\\ncity : %s\\nis_old : %b\\n\",age,name,city,is_old)"
   ]
  },
  {
   "cell_type": "code",
   "execution_count": 8,
   "id": "6ce305cf",
   "metadata": {},
   "outputs": [
    {
     "name": "stdout",
     "output_type": "stream",
     "text": [
      "Age :  50 \n",
      "Name :  Jeevan \n",
      "City :  Mumbai \n",
      "is_old :  False \n",
      "Joining Date :  2022/04/11\n"
     ]
    }
   ],
   "source": [
    "print(\"Age : \", age, \"\\nName : \", name, \"\\nCity : \", city, \"\\nis_old : \", is_old, \"\\nJoining Date : \", joining_date)"
   ]
  },
  {
   "cell_type": "code",
   "execution_count": 11,
   "id": "9acd761a",
   "metadata": {},
   "outputs": [
    {
     "name": "stdout",
     "output_type": "stream",
     "text": [
      "<class 'int'>\n",
      "<class 'str'>\n",
      "<class 'str'>\n",
      "<class 'bool'>\n",
      "<class 'str'>\n"
     ]
    }
   ],
   "source": [
    "print(type(age))\n",
    "print(type(name))\n",
    "print(type(city))\n",
    "print(type(is_old))\n",
    "print(type(joining_date))"
   ]
  },
  {
   "cell_type": "code",
   "execution_count": null,
   "id": "039a135f",
   "metadata": {},
   "outputs": [],
   "source": [
    "num4 = 50\n",
    "num5 = 60\n",
    "num6 = 70"
   ]
  },
  {
   "cell_type": "code",
   "execution_count": 29,
   "id": "c2707a19",
   "metadata": {},
   "outputs": [
    {
     "ename": "ValueError",
     "evalue": "too many values to unpack (expected 3)",
     "output_type": "error",
     "traceback": [
      "\u001b[0;31m---------------------------------------------------------------------------\u001b[0m",
      "\u001b[0;31mValueError\u001b[0m                                Traceback (most recent call last)",
      "Cell \u001b[0;32mIn [29], line 1\u001b[0m\n\u001b[0;32m----> 1\u001b[0m num4, num5, country \u001b[38;5;241m=\u001b[39m \u001b[38;5;241m50\u001b[39m, \u001b[38;5;241m60\u001b[39m, \u001b[38;5;124m'\u001b[39m\u001b[38;5;124mIndia\u001b[39m\u001b[38;5;124m'\u001b[39m, \u001b[38;5;241m70\u001b[39m\n",
      "\u001b[0;31mValueError\u001b[0m: too many values to unpack (expected 3)"
     ]
    }
   ],
   "source": [
    "num4, num5, country = 50, 60, 'India', 70"
   ]
  },
  {
   "cell_type": "code",
   "execution_count": 30,
   "id": "198ddc1b",
   "metadata": {},
   "outputs": [],
   "source": [
    "num4, num5, country = 50, 60, 'India'"
   ]
  },
  {
   "cell_type": "code",
   "execution_count": 26,
   "id": "bb47f79b",
   "metadata": {},
   "outputs": [
    {
     "data": {
      "text/plain": [
       "50"
      ]
     },
     "execution_count": 26,
     "metadata": {},
     "output_type": "execute_result"
    }
   ],
   "source": [
    "num4"
   ]
  },
  {
   "cell_type": "code",
   "execution_count": 27,
   "id": "53230d8a",
   "metadata": {},
   "outputs": [
    {
     "data": {
      "text/plain": [
       "60"
      ]
     },
     "execution_count": 27,
     "metadata": {},
     "output_type": "execute_result"
    }
   ],
   "source": [
    "num5"
   ]
  },
  {
   "cell_type": "code",
   "execution_count": 28,
   "id": "40990eea",
   "metadata": {},
   "outputs": [
    {
     "data": {
      "text/plain": [
       "'India'"
      ]
     },
     "execution_count": 28,
     "metadata": {},
     "output_type": "execute_result"
    }
   ],
   "source": [
    "country"
   ]
  },
  {
   "cell_type": "code",
   "execution_count": 31,
   "id": "0a86d28a",
   "metadata": {},
   "outputs": [],
   "source": [
    "num1 = num2 = num3 = 50"
   ]
  },
  {
   "cell_type": "code",
   "execution_count": 33,
   "id": "8c9a3a90",
   "metadata": {},
   "outputs": [
    {
     "name": "stdout",
     "output_type": "stream",
     "text": [
      "50\n",
      "50\n",
      "50\n"
     ]
    }
   ],
   "source": [
    "print(num1)\n",
    "print(num2)\n",
    "print(num3)"
   ]
  },
  {
   "cell_type": "code",
   "execution_count": 34,
   "id": "7eecb095",
   "metadata": {},
   "outputs": [],
   "source": [
    "num1 = 60"
   ]
  },
  {
   "cell_type": "code",
   "execution_count": 35,
   "id": "03ba4e4f",
   "metadata": {},
   "outputs": [
    {
     "name": "stdout",
     "output_type": "stream",
     "text": [
      "60\n",
      "50\n",
      "50\n"
     ]
    }
   ],
   "source": [
    "print(num1)\n",
    "print(num2)\n",
    "print(num3)"
   ]
  },
  {
   "cell_type": "code",
   "execution_count": 48,
   "id": "4dfdcc83",
   "metadata": {},
   "outputs": [],
   "source": [
    "n1 = 10\n",
    "n2 = n1"
   ]
  },
  {
   "cell_type": "code",
   "execution_count": 49,
   "id": "ee4be47a",
   "metadata": {},
   "outputs": [
    {
     "name": "stdout",
     "output_type": "stream",
     "text": [
      "10\n",
      "10\n"
     ]
    }
   ],
   "source": [
    "print(n1)\n",
    "print(n2)"
   ]
  },
  {
   "cell_type": "code",
   "execution_count": 50,
   "id": "8d0bb7c9",
   "metadata": {},
   "outputs": [
    {
     "name": "stdout",
     "output_type": "stream",
     "text": [
      "4550541840\n",
      "4550541840\n"
     ]
    }
   ],
   "source": [
    "print(id(n1))\n",
    "print(id(n2))"
   ]
  },
  {
   "cell_type": "code",
   "execution_count": null,
   "id": "d62ab4aa",
   "metadata": {},
   "outputs": [],
   "source": []
  },
  {
   "cell_type": "code",
   "execution_count": 51,
   "id": "54b3bc99",
   "metadata": {},
   "outputs": [],
   "source": [
    "n1 = 50"
   ]
  },
  {
   "cell_type": "code",
   "execution_count": 52,
   "id": "562eaa35",
   "metadata": {},
   "outputs": [
    {
     "name": "stdout",
     "output_type": "stream",
     "text": [
      "50\n",
      "10\n"
     ]
    }
   ],
   "source": [
    "print(n1)\n",
    "print(n2)"
   ]
  },
  {
   "cell_type": "code",
   "execution_count": 53,
   "id": "2852ad2c",
   "metadata": {},
   "outputs": [
    {
     "name": "stdout",
     "output_type": "stream",
     "text": [
      "4550543120\n",
      "4550541840\n"
     ]
    }
   ],
   "source": [
    "print(id(n1))\n",
    "print(id(n2))"
   ]
  },
  {
   "cell_type": "code",
   "execution_count": 46,
   "id": "6e7ad562",
   "metadata": {},
   "outputs": [],
   "source": [
    "n2 = 60"
   ]
  },
  {
   "cell_type": "code",
   "execution_count": 47,
   "id": "a7d1667b",
   "metadata": {},
   "outputs": [
    {
     "name": "stdout",
     "output_type": "stream",
     "text": [
      "50\n",
      "60\n"
     ]
    }
   ],
   "source": [
    "print(n1)\n",
    "print(n2)"
   ]
  },
  {
   "cell_type": "code",
   "execution_count": 54,
   "id": "0d1a4f56",
   "metadata": {},
   "outputs": [],
   "source": [
    "a = 10\n",
    "b = 10"
   ]
  },
  {
   "cell_type": "code",
   "execution_count": 55,
   "id": "6af93331",
   "metadata": {},
   "outputs": [
    {
     "data": {
      "text/plain": [
       "4550541840"
      ]
     },
     "execution_count": 55,
     "metadata": {},
     "output_type": "execute_result"
    }
   ],
   "source": [
    "id(a)"
   ]
  },
  {
   "cell_type": "code",
   "execution_count": 56,
   "id": "ae73756a",
   "metadata": {},
   "outputs": [
    {
     "data": {
      "text/plain": [
       "4550541840"
      ]
     },
     "execution_count": 56,
     "metadata": {},
     "output_type": "execute_result"
    }
   ],
   "source": [
    "id(b)"
   ]
  },
  {
   "cell_type": "code",
   "execution_count": 57,
   "id": "df6a8fff",
   "metadata": {},
   "outputs": [],
   "source": [
    "a = 50"
   ]
  },
  {
   "cell_type": "code",
   "execution_count": 58,
   "id": "ce9742f4",
   "metadata": {},
   "outputs": [
    {
     "data": {
      "text/plain": [
       "4550543120"
      ]
     },
     "execution_count": 58,
     "metadata": {},
     "output_type": "execute_result"
    }
   ],
   "source": [
    "id(a)"
   ]
  },
  {
   "cell_type": "code",
   "execution_count": 9,
   "id": "0e58505f",
   "metadata": {},
   "outputs": [],
   "source": [
    "# Strings are immutable i.e. can't be changed\n",
    "name = \"Suvid\" # re-assignment"
   ]
  },
  {
   "cell_type": "code",
   "execution_count": 10,
   "id": "37707037",
   "metadata": {},
   "outputs": [
    {
     "data": {
      "text/plain": [
       "'Suvid'"
      ]
     },
     "execution_count": 10,
     "metadata": {},
     "output_type": "execute_result"
    }
   ],
   "source": [
    "name"
   ]
  },
  {
   "cell_type": "code",
   "execution_count": 8,
   "id": "0646a779",
   "metadata": {},
   "outputs": [
    {
     "ename": "TypeError",
     "evalue": "'str' object does not support item assignment",
     "output_type": "error",
     "traceback": [
      "\u001b[0;31m---------------------------------------------------------------------------\u001b[0m",
      "\u001b[0;31mTypeError\u001b[0m                                 Traceback (most recent call last)",
      "Cell \u001b[0;32mIn [8], line 2\u001b[0m\n\u001b[1;32m      1\u001b[0m \u001b[38;5;66;03m# Strings are array of characters\u001b[39;00m\n\u001b[0;32m----> 2\u001b[0m \u001b[43mname\u001b[49m\u001b[43m[\u001b[49m\u001b[38;5;241;43m0\u001b[39;49m\u001b[43m]\u001b[49m \u001b[38;5;241m=\u001b[39m \u001b[38;5;124m\"\u001b[39m\u001b[38;5;124ms\u001b[39m\u001b[38;5;124m\"\u001b[39m\n",
      "\u001b[0;31mTypeError\u001b[0m: 'str' object does not support item assignment"
     ]
    }
   ],
   "source": [
    "# Strings are array of characters\n",
    "name[0] = \"s\""
   ]
  },
  {
   "cell_type": "code",
   "execution_count": 6,
   "id": "099c8893",
   "metadata": {},
   "outputs": [
    {
     "data": {
      "text/plain": [
       "'h'"
      ]
     },
     "execution_count": 6,
     "metadata": {},
     "output_type": "execute_result"
    }
   ],
   "source": [
    "name[1]"
   ]
  },
  {
   "cell_type": "code",
   "execution_count": 7,
   "id": "fe777988",
   "metadata": {},
   "outputs": [
    {
     "data": {
      "text/plain": [
       "'u'"
      ]
     },
     "execution_count": 7,
     "metadata": {},
     "output_type": "execute_result"
    }
   ],
   "source": [
    "name[2]"
   ]
  },
  {
   "cell_type": "code",
   "execution_count": null,
   "id": "cdab3138",
   "metadata": {},
   "outputs": [],
   "source": [
    "'s', 'u', 'v', 'i', 'd' ==> 'suvid'"
   ]
  },
  {
   "cell_type": "code",
   "execution_count": 17,
   "id": "7e630212",
   "metadata": {},
   "outputs": [],
   "source": [
    "import datetime"
   ]
  },
  {
   "cell_type": "code",
   "execution_count": null,
   "id": "31277f4f",
   "metadata": {},
   "outputs": [],
   "source": []
  }
 ],
 "metadata": {
  "kernelspec": {
   "display_name": "Python 3 (ipykernel)",
   "language": "python",
   "name": "python3"
  },
  "language_info": {
   "codemirror_mode": {
    "name": "ipython",
    "version": 3
   },
   "file_extension": ".py",
   "mimetype": "text/x-python",
   "name": "python",
   "nbconvert_exporter": "python",
   "pygments_lexer": "ipython3",
   "version": "3.10.10"
  }
 },
 "nbformat": 4,
 "nbformat_minor": 5
}
