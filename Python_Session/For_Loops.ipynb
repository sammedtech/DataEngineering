{
 "cells": [
  {
   "cell_type": "markdown",
   "id": "a76e3451",
   "metadata": {},
   "source": [
    "### For Loops, While Loops\n",
    "\n",
    "To iterate over values/lists"
   ]
  },
  {
   "cell_type": "code",
   "execution_count": 1,
   "id": "be4ae8e8",
   "metadata": {},
   "outputs": [],
   "source": [
    "# In C\n",
    "# for(int i=1; i<=10; i++){\n",
    "#     print(i*i)\n",
    "# }"
   ]
  },
  {
   "cell_type": "code",
   "execution_count": 3,
   "id": "f8cd9a19",
   "metadata": {},
   "outputs": [
    {
     "name": "stdout",
     "output_type": "stream",
     "text": [
      "1\n",
      "2\n",
      "3\n",
      "4\n",
      "5\n",
      "6\n",
      "7\n",
      "8\n",
      "9\n",
      "10\n"
     ]
    }
   ],
   "source": [
    "for i in range(1, 11, 1):\n",
    "    print(i)"
   ]
  },
  {
   "cell_type": "code",
   "execution_count": 4,
   "id": "2b53256a",
   "metadata": {},
   "outputs": [
    {
     "name": "stdout",
     "output_type": "stream",
     "text": [
      "1\n",
      "3\n",
      "5\n",
      "7\n",
      "9\n"
     ]
    }
   ],
   "source": [
    "for i in range(1, 11, 2):\n",
    "    print(i)"
   ]
  },
  {
   "cell_type": "code",
   "execution_count": 5,
   "id": "cf5068a7",
   "metadata": {},
   "outputs": [
    {
     "name": "stdout",
     "output_type": "stream",
     "text": [
      "1\n",
      "2\n",
      "3\n",
      "4\n",
      "5\n",
      "6\n",
      "7\n",
      "8\n",
      "9\n",
      "10\n"
     ]
    }
   ],
   "source": [
    "for i in range(1, 11):\n",
    "    print(i)"
   ]
  },
  {
   "cell_type": "code",
   "execution_count": 6,
   "id": "21e043b9",
   "metadata": {},
   "outputs": [
    {
     "name": "stdout",
     "output_type": "stream",
     "text": [
      "0\n",
      "1\n",
      "2\n",
      "3\n",
      "4\n",
      "5\n",
      "6\n",
      "7\n",
      "8\n",
      "9\n",
      "10\n"
     ]
    }
   ],
   "source": [
    "for i in range(11):\n",
    "    print(i)"
   ]
  },
  {
   "cell_type": "code",
   "execution_count": 16,
   "id": "f67358c8",
   "metadata": {},
   "outputs": [],
   "source": [
    "lst1 = [1, 'Vaibhav', 4, 52, 102.65, 'Ankita']"
   ]
  },
  {
   "cell_type": "code",
   "execution_count": 17,
   "id": "3209e77a",
   "metadata": {},
   "outputs": [
    {
     "name": "stdout",
     "output_type": "stream",
     "text": [
      "Data Type for 1 :  <class 'int'>\n",
      "Data Type for Vaibhav :  <class 'str'>\n",
      "Data Type for 4 :  <class 'int'>\n",
      "Data Type for 52 :  <class 'int'>\n",
      "Data Type for 102.65 :  <class 'float'>\n",
      "Data Type for Ankita :  <class 'str'>\n"
     ]
    }
   ],
   "source": [
    "# Q. Write a program to print data type of all the elements in the list\n",
    "\n",
    "for val in lst1:\n",
    "    # print(\"Data Type for \",val,\" : \",type(val))\n",
    "    print(f\"Data Type for {val} : \", type(val)) # f-string"
   ]
  },
  {
   "cell_type": "code",
   "execution_count": 18,
   "id": "5cb93b56",
   "metadata": {},
   "outputs": [
    {
     "name": "stdout",
     "output_type": "stream",
     "text": [
      "Data Type for 1 :  <class 'int'>\n",
      "Data Type for Vaibhav :  <class 'str'>\n",
      "Data Type for 4 :  <class 'int'>\n",
      "Data Type for 52 :  <class 'int'>\n",
      "Data Type for 102.65 :  <class 'float'>\n",
      "Data Type for Ankita :  <class 'str'>\n"
     ]
    }
   ],
   "source": [
    "for val in lst1:\n",
    "    # print(\"Data Type for \",val,\" : \",type(val))\n",
    "    print(f\"Data Type for {val} : \", type(val)) # f-string"
   ]
  },
  {
   "cell_type": "code",
   "execution_count": 19,
   "id": "281c317a",
   "metadata": {},
   "outputs": [],
   "source": [
    "dict1 = {\"Name\" : \"Vaibhav\", \"Age\" : 25, \"City\" : \"Ch. Sambhaji Nagar\", \"Salary\" : 35000}"
   ]
  },
  {
   "cell_type": "code",
   "execution_count": 20,
   "id": "15e49312",
   "metadata": {},
   "outputs": [
    {
     "data": {
      "text/plain": [
       "dict_keys(['Name', 'Age', 'City', 'Salary'])"
      ]
     },
     "execution_count": 20,
     "metadata": {},
     "output_type": "execute_result"
    }
   ],
   "source": [
    "dict1.keys()"
   ]
  },
  {
   "cell_type": "code",
   "execution_count": 21,
   "id": "21045a91",
   "metadata": {},
   "outputs": [
    {
     "data": {
      "text/plain": [
       "dict_values(['Vaibhav', 25, 'Ch. Sambhaji Nagar', 35000])"
      ]
     },
     "execution_count": 21,
     "metadata": {},
     "output_type": "execute_result"
    }
   ],
   "source": [
    "dict1.values()"
   ]
  },
  {
   "cell_type": "code",
   "execution_count": 22,
   "id": "172b2755",
   "metadata": {},
   "outputs": [
    {
     "data": {
      "text/plain": [
       "dict_items([('Name', 'Vaibhav'), ('Age', 25), ('City', 'Ch. Sambhaji Nagar'), ('Salary', 35000)])"
      ]
     },
     "execution_count": 22,
     "metadata": {},
     "output_type": "execute_result"
    }
   ],
   "source": [
    "dict1.items()"
   ]
  },
  {
   "cell_type": "code",
   "execution_count": 24,
   "id": "2f12a615",
   "metadata": {},
   "outputs": [
    {
     "name": "stdout",
     "output_type": "stream",
     "text": [
      "Key : Name, Value : Vaibhav\n",
      "Key : Age, Value : 25\n",
      "Key : City, Value : Ch. Sambhaji Nagar\n",
      "Key : Salary, Value : 35000\n"
     ]
    }
   ],
   "source": [
    "for key,val in dict1.items():\n",
    "    print(f\"Key : {key}, Value : {val}\")"
   ]
  },
  {
   "cell_type": "code",
   "execution_count": 28,
   "id": "6d0b2803",
   "metadata": {},
   "outputs": [],
   "source": [
    "lst2 = [('Brand', 'Maruti', 'Good'), ('Model', \"Alto\", 'Good'), ('City', 'Ch. Sambhaji Nagar', 'Good'), ('Price', 12000000, 'Good')]"
   ]
  },
  {
   "cell_type": "code",
   "execution_count": 29,
   "id": "6fba619e",
   "metadata": {},
   "outputs": [
    {
     "name": "stdout",
     "output_type": "stream",
     "text": [
      "('Brand', 'Maruti', 'Good')\n",
      "('Model', 'Alto', 'Good')\n",
      "('City', 'Ch. Sambhaji Nagar', 'Good')\n",
      "('Price', 12000000, 'Good')\n"
     ]
    }
   ],
   "source": [
    "for i in lst2:\n",
    "    print(i)"
   ]
  },
  {
   "cell_type": "code",
   "execution_count": 30,
   "id": "974811b2",
   "metadata": {},
   "outputs": [
    {
     "name": "stdout",
     "output_type": "stream",
     "text": [
      "Key : Brand, Value : Maruti, Res : Good\n",
      "Key : Model, Value : Alto, Res : Good\n",
      "Key : City, Value : Ch. Sambhaji Nagar, Res : Good\n",
      "Key : Price, Value : 12000000, Res : Good\n"
     ]
    }
   ],
   "source": [
    "for key,val,res in lst2:\n",
    "    print(f\"Key : {key}, Value : {val}, Res : {res}\")"
   ]
  },
  {
   "cell_type": "code",
   "execution_count": null,
   "id": "079fdf55",
   "metadata": {},
   "outputs": [],
   "source": []
  },
  {
   "cell_type": "code",
   "execution_count": null,
   "id": "a296ad1f",
   "metadata": {},
   "outputs": [],
   "source": [
    "count = 1\n",
    "\n",
    "while count < 10:\n",
    "    if count == 5:\n",
    "        count += 1\n",
    "        pass\n",
    "    else : \n",
    "        print(f\"Value : {count}\")\n",
    "        count += 1"
   ]
  },
  {
   "cell_type": "code",
   "execution_count": null,
   "id": "9284432a",
   "metadata": {},
   "outputs": [],
   "source": []
  }
 ],
 "metadata": {
  "kernelspec": {
   "display_name": "Python 3 (ipykernel)",
   "language": "python",
   "name": "python3"
  },
  "language_info": {
   "codemirror_mode": {
    "name": "ipython",
    "version": 3
   },
   "file_extension": ".py",
   "mimetype": "text/x-python",
   "name": "python",
   "nbconvert_exporter": "python",
   "pygments_lexer": "ipython3",
   "version": "3.10.10"
  }
 },
 "nbformat": 4,
 "nbformat_minor": 5
}
