{
 "cells": [
  {
   "cell_type": "code",
   "execution_count": 1,
   "id": "bbf3d16b",
   "metadata": {},
   "outputs": [],
   "source": [
    "# Link for IPL dataset : https://drive.google.com/file/d/18iDDIIZGt8eWxzqbyMIqcn5X7bHINuLw/view"
   ]
  },
  {
   "cell_type": "markdown",
   "id": "4fe97c9c",
   "metadata": {},
   "source": [
    "#### Q. Import the IPL matches.csv dataset and get the summary of the dataset"
   ]
  },
  {
   "cell_type": "code",
   "execution_count": null,
   "id": "2547baea",
   "metadata": {},
   "outputs": [],
   "source": []
  },
  {
   "cell_type": "markdown",
   "id": "9776c2e4",
   "metadata": {},
   "source": [
    "## Cleaning the DataSet"
   ]
  },
  {
   "cell_type": "markdown",
   "id": "52a300b9",
   "metadata": {},
   "source": [
    "#### Q. Change the name of following players present in 'player_of_match' column :\n",
    "{'HH Pandya' : 'H Pandya', 'RR Pant' : 'R Pant', 'JJ Bumrah' : 'JS Bumrah'}"
   ]
  },
  {
   "cell_type": "code",
   "execution_count": null,
   "id": "a793a674",
   "metadata": {},
   "outputs": [],
   "source": []
  },
  {
   "cell_type": "markdown",
   "id": "02350b30",
   "metadata": {},
   "source": [
    "#### Q. Replace city name 'Bengaluru' with 'Bengalore'"
   ]
  },
  {
   "cell_type": "code",
   "execution_count": null,
   "id": "23d43650",
   "metadata": {},
   "outputs": [],
   "source": []
  },
  {
   "cell_type": "markdown",
   "id": "af114502",
   "metadata": {},
   "source": [
    "#### Q. Replace 'venue' name for following stadiums : \n",
    "{'M. A. Chidambaram Stadium' : 'MA Chidambaram Stadium, Chepauk', 'M Chinnaswamy Stadium' : 'M. Chinnaswamy Stadium',\n",
    "    'Rajiv Gandhi Intl. Cricket Stadium' : 'Rajiv Gandhi International Stadium, Uppal'}"
   ]
  },
  {
   "cell_type": "code",
   "execution_count": null,
   "id": "84cd08cd",
   "metadata": {},
   "outputs": [],
   "source": []
  },
  {
   "cell_type": "markdown",
   "id": "abb8fabe",
   "metadata": {},
   "source": [
    "#### Q. Convert 'date' column from Object to DateTime dataType"
   ]
  },
  {
   "cell_type": "code",
   "execution_count": null,
   "id": "6ea265b2",
   "metadata": {},
   "outputs": [],
   "source": []
  },
  {
   "cell_type": "markdown",
   "id": "1826c934",
   "metadata": {},
   "source": [
    "#### Q. Find out the IPL trophy winner team name for each season "
   ]
  },
  {
   "cell_type": "code",
   "execution_count": null,
   "id": "23e047bf",
   "metadata": {},
   "outputs": [],
   "source": []
  },
  {
   "cell_type": "markdown",
   "id": "e75e336d",
   "metadata": {},
   "source": [
    "#### Q. Create copy of the original ipl matches dataframe"
   ]
  },
  {
   "cell_type": "code",
   "execution_count": null,
   "id": "843ad851",
   "metadata": {},
   "outputs": [],
   "source": []
  },
  {
   "cell_type": "markdown",
   "id": "84398602",
   "metadata": {},
   "source": [
    "#### Q. Drop all the unpires Column from dataframe"
   ]
  },
  {
   "cell_type": "code",
   "execution_count": null,
   "id": "1e8cca55",
   "metadata": {},
   "outputs": [],
   "source": []
  },
  {
   "cell_type": "markdown",
   "id": "2c4e0d15",
   "metadata": {},
   "source": [
    "#### Q. Rename column 'player_of_match' with 'man_of_match'"
   ]
  },
  {
   "cell_type": "code",
   "execution_count": null,
   "id": "9818cd8f",
   "metadata": {},
   "outputs": [],
   "source": []
  },
  {
   "cell_type": "markdown",
   "id": "5048674b",
   "metadata": {},
   "source": [
    "#### Q. Add new column in Dataframe 'is_toss_winner_won' based on following conditions : \n",
    "If 'toss_winner' == 'winner' then 'Yes' else 'No'"
   ]
  },
  {
   "cell_type": "code",
   "execution_count": null,
   "id": "eb1c1241",
   "metadata": {},
   "outputs": [],
   "source": []
  },
  {
   "cell_type": "markdown",
   "id": "084f8b43",
   "metadata": {},
   "source": [
    "#### Q. Get the season wise total number of matches played on each stadium"
   ]
  },
  {
   "cell_type": "code",
   "execution_count": null,
   "id": "52b82be7",
   "metadata": {},
   "outputs": [],
   "source": []
  },
  {
   "cell_type": "markdown",
   "id": "6c8c9091",
   "metadata": {},
   "source": [
    "#### Q. Find out the year wise stadium where most number of matches were played"
   ]
  },
  {
   "cell_type": "code",
   "execution_count": null,
   "id": "40219ceb",
   "metadata": {},
   "outputs": [],
   "source": []
  },
  {
   "cell_type": "markdown",
   "id": "0328c4fd",
   "metadata": {},
   "source": [
    "#### Q. Find out the player who received 'man_of_match' award most number of times"
   ]
  },
  {
   "cell_type": "code",
   "execution_count": null,
   "id": "71a68155",
   "metadata": {},
   "outputs": [],
   "source": []
  },
  {
   "cell_type": "markdown",
   "id": "ed710159",
   "metadata": {},
   "source": [
    "#### Q. Find out what's the winning percentage of Mumbai Indians on Wankhede stadium and winning percentage of CSK on Chepauk stadium"
   ]
  },
  {
   "cell_type": "code",
   "execution_count": null,
   "id": "4ffd33ce",
   "metadata": {},
   "outputs": [],
   "source": []
  },
  {
   "cell_type": "markdown",
   "id": "7a75f365",
   "metadata": {},
   "source": [
    "#### Q. Found out which team have won most number of IPL trophies"
   ]
  },
  {
   "cell_type": "code",
   "execution_count": null,
   "id": "a7efa06d",
   "metadata": {},
   "outputs": [],
   "source": []
  },
  {
   "cell_type": "markdown",
   "id": "8a396803",
   "metadata": {},
   "source": [
    "#### Q. Get record of all such matches where team have win_by_wickets > 7 and win_by_runs >= 50"
   ]
  },
  {
   "cell_type": "code",
   "execution_count": null,
   "id": "577ad942",
   "metadata": {},
   "outputs": [],
   "source": []
  },
  {
   "cell_type": "markdown",
   "id": "2cbb66b1",
   "metadata": {},
   "source": [
    "#### Q. Add new 'month' column which will show the month extracted from date column"
   ]
  },
  {
   "cell_type": "code",
   "execution_count": null,
   "id": "f9643b12",
   "metadata": {},
   "outputs": [],
   "source": []
  },
  {
   "cell_type": "markdown",
   "id": "827a45f2",
   "metadata": {},
   "source": [
    "#### Q. Find out how many teams were playing in each season"
   ]
  },
  {
   "cell_type": "code",
   "execution_count": null,
   "id": "420390b4",
   "metadata": {},
   "outputs": [],
   "source": []
  },
  {
   "cell_type": "code",
   "execution_count": null,
   "id": "4b61bef5",
   "metadata": {},
   "outputs": [],
   "source": []
  }
 ],
 "metadata": {
  "kernelspec": {
   "display_name": "Python 3 (ipykernel)",
   "language": "python",
   "name": "python3"
  },
  "language_info": {
   "codemirror_mode": {
    "name": "ipython",
    "version": 3
   },
   "file_extension": ".py",
   "mimetype": "text/x-python",
   "name": "python",
   "nbconvert_exporter": "python",
   "pygments_lexer": "ipython3",
   "version": "3.10.10"
  }
 },
 "nbformat": 4,
 "nbformat_minor": 5
}
