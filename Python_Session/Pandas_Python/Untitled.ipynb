{
 "cells": [
  {
   "cell_type": "markdown",
   "id": "dd769899",
   "metadata": {},
   "source": [
    "### Pandas Module\n",
    "\n",
    "Pandas is mostly used by data engineers, data analysts and data scientists. \n",
    "\n",
    "One of the most important library to explore as you'll be working 50% of time on the pandas library.\n",
    "\n",
    "Used for data analysis purpose. \n",
    "\n",
    "Used to work with large files."
   ]
  },
  {
   "cell_type": "code",
   "execution_count": 1,
   "id": "78ff6af4",
   "metadata": {},
   "outputs": [],
   "source": [
    "try:\n",
    "    import pandas as pd\n",
    "except ModuleNotFoundError:\n",
    "    print(\"Pandas module is not installed.\")\n",
    "    print(\"Installing Pandas library for you...\")\n",
    "    !pip install pandas"
   ]
  },
  {
   "cell_type": "code",
   "execution_count": 4,
   "id": "238ed489",
   "metadata": {},
   "outputs": [],
   "source": [
    "# Data Structures : List, Tuple, Set, Dict, Array\n",
    "## Data Structure in Pandas : Dataframe --> It's like a database table, it's in tabular format. It's built on basis of Numpy Array."
   ]
  },
  {
   "cell_type": "code",
   "execution_count": 16,
   "id": "53db24d5",
   "metadata": {},
   "outputs": [],
   "source": [
    "list1 = [('Mayur', 'Prajakta', 'Mohini'), (23, 24, 25), ('Nasik', 'Mumbai', 'Banglore')]"
   ]
  },
  {
   "cell_type": "code",
   "execution_count": 17,
   "id": "8d1d35df",
   "metadata": {},
   "outputs": [
    {
     "data": {
      "text/plain": [
       "[('Mayur', 'Prajakta', 'Mohini'),\n",
       " (23, 24, 25),\n",
       " ('Nasik', 'Mumbai', 'Banglore')]"
      ]
     },
     "execution_count": 17,
     "metadata": {},
     "output_type": "execute_result"
    }
   ],
   "source": [
    "list1"
   ]
  },
  {
   "cell_type": "code",
   "execution_count": 9,
   "id": "dabfb244",
   "metadata": {},
   "outputs": [
    {
     "data": {
      "text/plain": [
       "'Mayur'"
      ]
     },
     "execution_count": 9,
     "metadata": {},
     "output_type": "execute_result"
    }
   ],
   "source": [
    "list1[0][0]"
   ]
  },
  {
   "cell_type": "code",
   "execution_count": 10,
   "id": "4050770a",
   "metadata": {},
   "outputs": [
    {
     "data": {
      "text/plain": [
       "'Prajakta'"
      ]
     },
     "execution_count": 10,
     "metadata": {},
     "output_type": "execute_result"
    }
   ],
   "source": [
    "list1[0][1]"
   ]
  },
  {
   "cell_type": "code",
   "execution_count": 11,
   "id": "54c8430e",
   "metadata": {},
   "outputs": [
    {
     "data": {
      "text/plain": [
       "'Mohini'"
      ]
     },
     "execution_count": 11,
     "metadata": {},
     "output_type": "execute_result"
    }
   ],
   "source": [
    "list1[0][2]"
   ]
  },
  {
   "cell_type": "code",
   "execution_count": 22,
   "id": "6058dedc",
   "metadata": {},
   "outputs": [],
   "source": [
    "# Let's create a dataframe in pandas\n",
    "data = {\"name\" : ['Mayur', 'Prajakta', 'Mohini'], \"age\" : [23, 24, 25], \"city\" : ['Nasik', 'Mumbai', 'Banglore']}\n",
    "df = pd.DataFrame(data, index=[1, 2, 3])"
   ]
  },
  {
   "cell_type": "code",
   "execution_count": 23,
   "id": "3b432fbc",
   "metadata": {},
   "outputs": [
    {
     "data": {
      "text/plain": [
       "pandas.core.frame.DataFrame"
      ]
     },
     "execution_count": 23,
     "metadata": {},
     "output_type": "execute_result"
    }
   ],
   "source": [
    "type(df)"
   ]
  },
  {
   "cell_type": "code",
   "execution_count": 24,
   "id": "4e23d352",
   "metadata": {},
   "outputs": [
    {
     "data": {
      "text/html": [
       "<div>\n",
       "<style scoped>\n",
       "    .dataframe tbody tr th:only-of-type {\n",
       "        vertical-align: middle;\n",
       "    }\n",
       "\n",
       "    .dataframe tbody tr th {\n",
       "        vertical-align: top;\n",
       "    }\n",
       "\n",
       "    .dataframe thead th {\n",
       "        text-align: right;\n",
       "    }\n",
       "</style>\n",
       "<table border=\"1\" class=\"dataframe\">\n",
       "  <thead>\n",
       "    <tr style=\"text-align: right;\">\n",
       "      <th></th>\n",
       "      <th>name</th>\n",
       "      <th>age</th>\n",
       "      <th>city</th>\n",
       "    </tr>\n",
       "  </thead>\n",
       "  <tbody>\n",
       "    <tr>\n",
       "      <th>1</th>\n",
       "      <td>Mayur</td>\n",
       "      <td>23</td>\n",
       "      <td>Nasik</td>\n",
       "    </tr>\n",
       "    <tr>\n",
       "      <th>2</th>\n",
       "      <td>Prajakta</td>\n",
       "      <td>24</td>\n",
       "      <td>Mumbai</td>\n",
       "    </tr>\n",
       "    <tr>\n",
       "      <th>3</th>\n",
       "      <td>Mohini</td>\n",
       "      <td>25</td>\n",
       "      <td>Banglore</td>\n",
       "    </tr>\n",
       "  </tbody>\n",
       "</table>\n",
       "</div>"
      ],
      "text/plain": [
       "       name  age      city\n",
       "1     Mayur   23     Nasik\n",
       "2  Prajakta   24    Mumbai\n",
       "3    Mohini   25  Banglore"
      ]
     },
     "execution_count": 24,
     "metadata": {},
     "output_type": "execute_result"
    }
   ],
   "source": [
    "df"
   ]
  },
  {
   "cell_type": "code",
   "execution_count": 30,
   "id": "471b2f17",
   "metadata": {},
   "outputs": [],
   "source": [
    "df2 = pd.read_csv(\"../Python_Basics/test_file.txt\", header=None)"
   ]
  },
  {
   "cell_type": "code",
   "execution_count": 32,
   "id": "280d550b",
   "metadata": {},
   "outputs": [
    {
     "data": {
      "text/plain": [
       "pandas.core.frame.DataFrame"
      ]
     },
     "execution_count": 32,
     "metadata": {},
     "output_type": "execute_result"
    }
   ],
   "source": [
    "type(df2)"
   ]
  },
  {
   "cell_type": "code",
   "execution_count": 33,
   "id": "8e28e660",
   "metadata": {},
   "outputs": [
    {
     "data": {
      "text/html": [
       "<div>\n",
       "<style scoped>\n",
       "    .dataframe tbody tr th:only-of-type {\n",
       "        vertical-align: middle;\n",
       "    }\n",
       "\n",
       "    .dataframe tbody tr th {\n",
       "        vertical-align: top;\n",
       "    }\n",
       "\n",
       "    .dataframe thead th {\n",
       "        text-align: right;\n",
       "    }\n",
       "</style>\n",
       "<table border=\"1\" class=\"dataframe\">\n",
       "  <thead>\n",
       "    <tr style=\"text-align: right;\">\n",
       "      <th></th>\n",
       "      <th>0</th>\n",
       "    </tr>\n",
       "  </thead>\n",
       "  <tbody>\n",
       "    <tr>\n",
       "      <th>0</th>\n",
       "      <td>This is a test file.</td>\n",
       "    </tr>\n",
       "    <tr>\n",
       "      <th>1</th>\n",
       "      <td>It's a first File.</td>\n",
       "    </tr>\n",
       "    <tr>\n",
       "      <th>2</th>\n",
       "      <td>Welcome to Python Programming.</td>\n",
       "    </tr>\n",
       "  </tbody>\n",
       "</table>\n",
       "</div>"
      ],
      "text/plain": [
       "                                0\n",
       "0            This is a test file.\n",
       "1              It's a first File.\n",
       "2  Welcome to Python Programming."
      ]
     },
     "execution_count": 33,
     "metadata": {},
     "output_type": "execute_result"
    }
   ],
   "source": [
    "df2"
   ]
  },
  {
   "cell_type": "code",
   "execution_count": 37,
   "id": "734dcb36",
   "metadata": {},
   "outputs": [
    {
     "data": {
      "text/plain": [
       "0    This is a test file.\n",
       "Name: 0, dtype: object"
      ]
     },
     "execution_count": 37,
     "metadata": {},
     "output_type": "execute_result"
    }
   ],
   "source": [
    "df2.loc[0]"
   ]
  },
  {
   "cell_type": "code",
   "execution_count": 39,
   "id": "80b0c65f",
   "metadata": {},
   "outputs": [
    {
     "name": "stdout",
     "output_type": "stream",
     "text": [
      "0    It's a first File.\n",
      "Name: 1, dtype: object\n"
     ]
    }
   ],
   "source": [
    "print(df2.loc[1])"
   ]
  },
  {
   "cell_type": "code",
   "execution_count": null,
   "id": "e01e1d9c",
   "metadata": {},
   "outputs": [],
   "source": []
  }
 ],
 "metadata": {
  "kernelspec": {
   "display_name": "Python 3 (ipykernel)",
   "language": "python",
   "name": "python3"
  },
  "language_info": {
   "codemirror_mode": {
    "name": "ipython",
    "version": 3
   },
   "file_extension": ".py",
   "mimetype": "text/x-python",
   "name": "python",
   "nbconvert_exporter": "python",
   "pygments_lexer": "ipython3",
   "version": "3.10.10"
  }
 },
 "nbformat": 4,
 "nbformat_minor": 5
}
