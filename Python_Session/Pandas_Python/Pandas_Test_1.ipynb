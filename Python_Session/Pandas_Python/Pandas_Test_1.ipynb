{
 "cells": [
  {
   "cell_type": "code",
   "execution_count": 1,
   "id": "41d7c6d5",
   "metadata": {},
   "outputs": [],
   "source": [
    "# Link for IPL dataset : https://drive.google.com/file/d/18iDDIIZGt8eWxzqbyMIqcn5X7bHINuLw/view"
   ]
  },
  {
   "cell_type": "markdown",
   "id": "03b26e07",
   "metadata": {},
   "source": [
    "### 1. Import your matches.csv dataset using pandas"
   ]
  },
  {
   "cell_type": "code",
   "execution_count": null,
   "id": "9eedccce",
   "metadata": {},
   "outputs": [],
   "source": []
  },
  {
   "cell_type": "markdown",
   "id": "d94e0ea8",
   "metadata": {},
   "source": [
    "### 2. Get total number of records i.e. rows and columns from dataset"
   ]
  },
  {
   "cell_type": "code",
   "execution_count": null,
   "id": "4cdb3e71",
   "metadata": {},
   "outputs": [],
   "source": []
  },
  {
   "cell_type": "markdown",
   "id": "56271d43",
   "metadata": {},
   "source": [
    "### 3. Find out City wise stadium/venue count"
   ]
  },
  {
   "cell_type": "code",
   "execution_count": null,
   "id": "0d9323d0",
   "metadata": {},
   "outputs": [],
   "source": []
  },
  {
   "cell_type": "markdown",
   "id": "cbfe1f2e",
   "metadata": {},
   "source": [
    "### 4. Get year wise total count of IPL teams"
   ]
  },
  {
   "cell_type": "code",
   "execution_count": null,
   "id": "7b34fa6c",
   "metadata": {},
   "outputs": [],
   "source": []
  },
  {
   "cell_type": "markdown",
   "id": "450281c7",
   "metadata": {},
   "source": [
    "### 5. Find out details of team who won by most runs in IPL history"
   ]
  },
  {
   "cell_type": "code",
   "execution_count": null,
   "id": "a1bb22a4",
   "metadata": {},
   "outputs": [],
   "source": []
  },
  {
   "cell_type": "markdown",
   "id": "ed337e57",
   "metadata": {},
   "source": [
    "### 6. How many times teams have won by 10 wickets"
   ]
  },
  {
   "cell_type": "code",
   "execution_count": null,
   "id": "8b29ec1d",
   "metadata": {},
   "outputs": [],
   "source": []
  },
  {
   "cell_type": "markdown",
   "id": "970fb025",
   "metadata": {},
   "source": [
    "### 7. How many matches were decided by duckworth lewis rule "
   ]
  },
  {
   "cell_type": "code",
   "execution_count": null,
   "id": "f0582d1a",
   "metadata": {},
   "outputs": [],
   "source": []
  },
  {
   "cell_type": "markdown",
   "id": "f61776c4",
   "metadata": {},
   "source": [
    "### 8. Drop all the umpire columns"
   ]
  },
  {
   "cell_type": "code",
   "execution_count": null,
   "id": "71df0521",
   "metadata": {},
   "outputs": [],
   "source": []
  },
  {
   "cell_type": "markdown",
   "id": "26b249ca",
   "metadata": {},
   "source": [
    "### 9. Get details of matches that were resulted as \"Tie\""
   ]
  },
  {
   "cell_type": "code",
   "execution_count": null,
   "id": "5e6da43d",
   "metadata": {},
   "outputs": [],
   "source": []
  },
  {
   "cell_type": "markdown",
   "id": "e272ca75",
   "metadata": {},
   "source": [
    "### 10. How many times Mumbai Indians has won the toss and won the match as well"
   ]
  },
  {
   "cell_type": "code",
   "execution_count": null,
   "id": "a4ad5e25",
   "metadata": {},
   "outputs": [],
   "source": []
  }
 ],
 "metadata": {
  "kernelspec": {
   "display_name": "Python 3 (ipykernel)",
   "language": "python",
   "name": "python3"
  },
  "language_info": {
   "codemirror_mode": {
    "name": "ipython",
    "version": 3
   },
   "file_extension": ".py",
   "mimetype": "text/x-python",
   "name": "python",
   "nbconvert_exporter": "python",
   "pygments_lexer": "ipython3",
   "version": "3.10.10"
  }
 },
 "nbformat": 4,
 "nbformat_minor": 5
}
