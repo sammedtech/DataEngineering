{
 "cells": [
  {
   "cell_type": "markdown",
   "id": "8d00a37b",
   "metadata": {},
   "source": [
    "### Working of Master and Worker Nodes"
   ]
  },
  {
   "cell_type": "markdown",
   "id": "8def7006",
   "metadata": {},
   "source": [
    "Master Node --> \n",
    "    Driver Program is installed with SparkContext\n",
    "    It creates Plan of Execution and share it with Worker Nodes\n",
    "    Distributes the data with Worker Nodes\n",
    "    Get the result from Worker Nodes and Share it with end user\n",
    "    YARN is available --> \n",
    "        It's a Resouce/Cluster Manager, YARN will monitor the CPU and Memory Usage of Worker Nodes \n",
    "        And share the same with SparkContext available in Master Node"
   ]
  },
  {
   "cell_type": "markdown",
   "id": "ef0ac25a",
   "metadata": {},
   "source": [
    "Worker Node -->\n",
    "    Execute the plan shared by Master Node\n",
    "    Shuffles the data with other Worker Nodes if required\n",
    "    Share the output with Master Node"
   ]
  },
  {
   "cell_type": "markdown",
   "id": "ce487dbb",
   "metadata": {},
   "source": [
    "### Joins in PySpark"
   ]
  },
  {
   "cell_type": "code",
   "execution_count": 2,
   "id": "d64f246e",
   "metadata": {},
   "outputs": [],
   "source": [
    "from pyspark.sql import SparkSession"
   ]
  },
  {
   "cell_type": "code",
   "execution_count": 3,
   "id": "b69c8a04",
   "metadata": {},
   "outputs": [
    {
     "name": "stderr",
     "output_type": "stream",
     "text": [
      "Setting default log level to \"WARN\".\n",
      "To adjust logging level use sc.setLogLevel(newLevel). For SparkR, use setLogLevel(newLevel).\n"
     ]
    },
    {
     "name": "stdout",
     "output_type": "stream",
     "text": [
      "23/08/18 10:18:11 WARN NativeCodeLoader: Unable to load native-hadoop library for your platform... using builtin-java classes where applicable\n",
      "23/08/18 10:18:11 WARN Utils: Service 'SparkUI' could not bind on port 4040. Attempting port 4041.\n"
     ]
    }
   ],
   "source": [
    "# Create a Spark session\n",
    "spark = SparkSession.builder.appName(\"JoinExample\").getOrCreate()"
   ]
  },
  {
   "cell_type": "code",
   "execution_count": 4,
   "id": "b830306f",
   "metadata": {},
   "outputs": [
    {
     "name": "stdout",
     "output_type": "stream",
     "text": [
      "23/08/18 10:18:24 WARN GarbageCollectionMetrics: To enable non-built-in garbage collector(s) List(G1 Concurrent GC), users should configure it(them) to spark.eventLog.gcMetrics.youngGenerationGarbageCollectors or spark.eventLog.gcMetrics.oldGenerationGarbageCollectors\n"
     ]
    }
   ],
   "source": [
    "# Sample data for orders and customers\n",
    "orders_data = [(1, \"A\", 100), (2, \"B\", 200), (3, \"C\", 150)]\n",
    "customers_data = [(\"A\", 25), (\"B\", 30), (\"D\", 28)]\n",
    "\n",
    "# Create DataFrames\n",
    "orders = spark.createDataFrame(orders_data, [\"order_id\", \"customer\", \"total\"])\n",
    "customers = spark.createDataFrame(customers_data, [\"customer\", \"age\"])"
   ]
  },
  {
   "cell_type": "code",
   "execution_count": 5,
   "id": "5f7c60f3",
   "metadata": {},
   "outputs": [
    {
     "name": "stderr",
     "output_type": "stream",
     "text": [
      "                                                                                \r"
     ]
    },
    {
     "name": "stdout",
     "output_type": "stream",
     "text": [
      "+--------+--------+-----+\n",
      "|order_id|customer|total|\n",
      "+--------+--------+-----+\n",
      "|1       |A       |100  |\n",
      "|2       |B       |200  |\n",
      "|3       |C       |150  |\n",
      "+--------+--------+-----+\n",
      "\n"
     ]
    }
   ],
   "source": [
    "orders.show(truncate=False)"
   ]
  },
  {
   "cell_type": "code",
   "execution_count": 6,
   "id": "cc944c4f",
   "metadata": {},
   "outputs": [
    {
     "name": "stdout",
     "output_type": "stream",
     "text": [
      "+--------+---+\n",
      "|customer|age|\n",
      "+--------+---+\n",
      "|A       |25 |\n",
      "|B       |30 |\n",
      "|D       |28 |\n",
      "+--------+---+\n",
      "\n"
     ]
    }
   ],
   "source": [
    "customers.show(truncate=False)"
   ]
  },
  {
   "cell_type": "code",
   "execution_count": 9,
   "id": "703aef9f",
   "metadata": {},
   "outputs": [
    {
     "name": "stdout",
     "output_type": "stream",
     "text": [
      "+--------+--------+-----+---+\n",
      "|customer|order_id|total|age|\n",
      "+--------+--------+-----+---+\n",
      "|A       |1       |100  |25 |\n",
      "|B       |2       |200  |30 |\n",
      "+--------+--------+-----+---+\n",
      "\n"
     ]
    }
   ],
   "source": [
    "orders.join(customers, on=[\"customer\"], how=\"inner\").show(truncate=False)"
   ]
  },
  {
   "cell_type": "code",
   "execution_count": 11,
   "id": "936a15ef",
   "metadata": {},
   "outputs": [
    {
     "name": "stdout",
     "output_type": "stream",
     "text": [
      "+--------+--------+-----+----+\n",
      "|customer|order_id|total|age |\n",
      "+--------+--------+-----+----+\n",
      "|A       |1       |100  |25  |\n",
      "|B       |2       |200  |30  |\n",
      "|C       |3       |150  |null|\n",
      "+--------+--------+-----+----+\n",
      "\n"
     ]
    }
   ],
   "source": [
    "orders.join(customers, on=[\"customer\"], how=\"left\").show(truncate=False)"
   ]
  },
  {
   "cell_type": "code",
   "execution_count": 12,
   "id": "993dc82d",
   "metadata": {},
   "outputs": [
    {
     "name": "stdout",
     "output_type": "stream",
     "text": [
      "+--------+--------+-----+---+\n",
      "|customer|order_id|total|age|\n",
      "+--------+--------+-----+---+\n",
      "|A       |1       |100  |25 |\n",
      "|B       |2       |200  |30 |\n",
      "|D       |null    |null |28 |\n",
      "+--------+--------+-----+---+\n",
      "\n"
     ]
    }
   ],
   "source": [
    "orders.join(customers, on=[\"customer\"], how=\"right\").show(truncate=False)"
   ]
  },
  {
   "cell_type": "code",
   "execution_count": 13,
   "id": "40d9d169",
   "metadata": {},
   "outputs": [
    {
     "name": "stdout",
     "output_type": "stream",
     "text": [
      "+--------+--------+-----+----+\n",
      "|customer|order_id|total|age |\n",
      "+--------+--------+-----+----+\n",
      "|C       |3       |150  |null|\n",
      "+--------+--------+-----+----+\n",
      "\n"
     ]
    }
   ],
   "source": [
    "orders.join(customers, on=[\"customer\"], how=\"left\").filter(\"age is null\").show(truncate=False)"
   ]
  },
  {
   "cell_type": "code",
   "execution_count": 28,
   "id": "d9a4a1ff",
   "metadata": {},
   "outputs": [
    {
     "name": "stdout",
     "output_type": "stream",
     "text": [
      "+--------+--------+-----+\n",
      "|customer|order_id|total|\n",
      "+--------+--------+-----+\n",
      "|C       |3       |150  |\n",
      "+--------+--------+-----+\n",
      "\n"
     ]
    }
   ],
   "source": [
    "orders.join(customers, on=[\"customer\"], how=\"left_anti\").show(truncate=False)"
   ]
  },
  {
   "cell_type": "code",
   "execution_count": 44,
   "id": "4ae96d6b",
   "metadata": {},
   "outputs": [
    {
     "name": "stdout",
     "output_type": "stream",
     "text": [
      "+--------+---+\n",
      "|customer|age|\n",
      "+--------+---+\n",
      "|D       |28 |\n",
      "+--------+---+\n",
      "\n"
     ]
    }
   ],
   "source": [
    "customers.join(orders, on=[\"customer\"], how=\"left_anti\").show(truncate=False)"
   ]
  },
  {
   "cell_type": "code",
   "execution_count": 36,
   "id": "00d8ce4e",
   "metadata": {},
   "outputs": [],
   "source": [
    "columns = [\"customer\", \"order_id\", \"total\", \"age\"]"
   ]
  },
  {
   "cell_type": "code",
   "execution_count": 40,
   "id": "f90cd137",
   "metadata": {},
   "outputs": [],
   "source": [
    "df1 = orders.join(customers, on=[\"customer\"], how=\"left\").filter(\"age is null\").select(columns)"
   ]
  },
  {
   "cell_type": "code",
   "execution_count": 41,
   "id": "ab3031d9",
   "metadata": {},
   "outputs": [],
   "source": [
    "df2 = customers.join(orders, on=[\"customer\"], how=\"left\").filter(\"order_id is null\").select(columns)"
   ]
  },
  {
   "cell_type": "code",
   "execution_count": 42,
   "id": "12855173",
   "metadata": {},
   "outputs": [
    {
     "name": "stdout",
     "output_type": "stream",
     "text": [
      "+--------+--------+-----+----+\n",
      "|customer|order_id|total|age |\n",
      "+--------+--------+-----+----+\n",
      "|C       |3       |150  |null|\n",
      "|D       |null    |null |28  |\n",
      "+--------+--------+-----+----+\n",
      "\n"
     ]
    },
    {
     "name": "stderr",
     "output_type": "stream",
     "text": [
      "                                                                                \r"
     ]
    }
   ],
   "source": [
    "df1.union(df2).show(truncate=False)"
   ]
  },
  {
   "cell_type": "code",
   "execution_count": null,
   "id": "1ba2aeb1",
   "metadata": {},
   "outputs": [],
   "source": []
  },
  {
   "cell_type": "markdown",
   "id": "97651472",
   "metadata": {},
   "source": [
    "### Optimization "
   ]
  },
  {
   "cell_type": "code",
   "execution_count": null,
   "id": "be349b19",
   "metadata": {},
   "outputs": [],
   "source": []
  },
  {
   "cell_type": "code",
   "execution_count": null,
   "id": "0bfe1b5e",
   "metadata": {},
   "outputs": [],
   "source": []
  },
  {
   "cell_type": "code",
   "execution_count": null,
   "id": "0fe45874",
   "metadata": {},
   "outputs": [],
   "source": []
  },
  {
   "cell_type": "code",
   "execution_count": null,
   "id": "dafe44a8",
   "metadata": {},
   "outputs": [],
   "source": []
  },
  {
   "cell_type": "code",
   "execution_count": null,
   "id": "86b2213c",
   "metadata": {},
   "outputs": [],
   "source": []
  },
  {
   "cell_type": "code",
   "execution_count": null,
   "id": "9906a3a0",
   "metadata": {},
   "outputs": [],
   "source": []
  },
  {
   "cell_type": "code",
   "execution_count": null,
   "id": "79439548",
   "metadata": {},
   "outputs": [],
   "source": []
  },
  {
   "cell_type": "code",
   "execution_count": null,
   "id": "ba399668",
   "metadata": {},
   "outputs": [],
   "source": []
  },
  {
   "cell_type": "code",
   "execution_count": null,
   "id": "11f2252f",
   "metadata": {},
   "outputs": [],
   "source": []
  },
  {
   "cell_type": "code",
   "execution_count": null,
   "id": "bcfd10ab",
   "metadata": {},
   "outputs": [],
   "source": []
  },
  {
   "cell_type": "code",
   "execution_count": null,
   "id": "9c428ee0",
   "metadata": {},
   "outputs": [],
   "source": []
  },
  {
   "cell_type": "code",
   "execution_count": null,
   "id": "cc97c200",
   "metadata": {},
   "outputs": [],
   "source": []
  },
  {
   "cell_type": "code",
   "execution_count": null,
   "id": "b47e3ea1",
   "metadata": {},
   "outputs": [],
   "source": []
  },
  {
   "cell_type": "code",
   "execution_count": null,
   "id": "c32e75a5",
   "metadata": {},
   "outputs": [],
   "source": []
  },
  {
   "cell_type": "code",
   "execution_count": null,
   "id": "0f772023",
   "metadata": {},
   "outputs": [],
   "source": []
  },
  {
   "cell_type": "code",
   "execution_count": null,
   "id": "42f79ba6",
   "metadata": {},
   "outputs": [],
   "source": []
  },
  {
   "cell_type": "code",
   "execution_count": null,
   "id": "f7c03c86",
   "metadata": {},
   "outputs": [],
   "source": []
  },
  {
   "cell_type": "code",
   "execution_count": null,
   "id": "09e63274",
   "metadata": {},
   "outputs": [],
   "source": []
  },
  {
   "cell_type": "code",
   "execution_count": null,
   "id": "7f4eb604",
   "metadata": {},
   "outputs": [],
   "source": []
  },
  {
   "cell_type": "code",
   "execution_count": null,
   "id": "e267f38b",
   "metadata": {},
   "outputs": [],
   "source": []
  },
  {
   "cell_type": "code",
   "execution_count": null,
   "id": "b157e54a",
   "metadata": {},
   "outputs": [],
   "source": []
  },
  {
   "cell_type": "code",
   "execution_count": null,
   "id": "450817aa",
   "metadata": {},
   "outputs": [],
   "source": []
  },
  {
   "cell_type": "code",
   "execution_count": null,
   "id": "d536171e",
   "metadata": {},
   "outputs": [],
   "source": []
  },
  {
   "cell_type": "code",
   "execution_count": null,
   "id": "51e61d30",
   "metadata": {},
   "outputs": [],
   "source": []
  },
  {
   "cell_type": "code",
   "execution_count": null,
   "id": "e46ede99",
   "metadata": {},
   "outputs": [],
   "source": []
  },
  {
   "cell_type": "code",
   "execution_count": null,
   "id": "589f3a93",
   "metadata": {},
   "outputs": [],
   "source": []
  },
  {
   "cell_type": "code",
   "execution_count": null,
   "id": "7b2fcc7f",
   "metadata": {},
   "outputs": [],
   "source": []
  },
  {
   "cell_type": "code",
   "execution_count": null,
   "id": "58cf826d",
   "metadata": {},
   "outputs": [],
   "source": []
  },
  {
   "cell_type": "code",
   "execution_count": null,
   "id": "d50ec3ea",
   "metadata": {},
   "outputs": [],
   "source": []
  },
  {
   "cell_type": "code",
   "execution_count": 1,
   "id": "786d1dbb",
   "metadata": {},
   "outputs": [],
   "source": [
    "import os\n",
    "import sys\n",
    "\n",
    "os.environ['PYSPARK_PYTHON'] = sys.executable\n",
    "os.environ['PYSPARK_DRIVER_PYTHON'] = sys.executable"
   ]
  }
 ],
 "metadata": {
  "kernelspec": {
   "display_name": "Python 3 (ipykernel)",
   "language": "python",
   "name": "python3"
  },
  "language_info": {
   "codemirror_mode": {
    "name": "ipython",
    "version": 3
   },
   "file_extension": ".py",
   "mimetype": "text/x-python",
   "name": "python",
   "nbconvert_exporter": "python",
   "pygments_lexer": "ipython3",
   "version": "3.10.11"
  }
 },
 "nbformat": 4,
 "nbformat_minor": 5
}
