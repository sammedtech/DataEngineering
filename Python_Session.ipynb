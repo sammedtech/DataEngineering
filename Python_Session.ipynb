{
  "nbformat": 4,
  "nbformat_minor": 0,
  "metadata": {
    "colab": {
      "provenance": [],
      "authorship_tag": "ABX9TyPS+sOZ1MtNUCF/NReCwVhf",
      "include_colab_link": true
    },
    "kernelspec": {
      "name": "python3",
      "display_name": "Python 3"
    },
    "language_info": {
      "name": "python"
    }
  },
  "cells": [
    {
      "cell_type": "markdown",
      "metadata": {
        "id": "view-in-github",
        "colab_type": "text"
      },
      "source": [
        "<a href=\"https://colab.research.google.com/github/sammedtech/DataEngineering/blob/main/Python_Session.ipynb\" target=\"_parent\"><img src=\"https://colab.research.google.com/assets/colab-badge.svg\" alt=\"Open In Colab\"/></a>"
      ]
    },
    {
      "cell_type": "code",
      "source": [
        "print('Hello World!')"
      ],
      "metadata": {
        "colab": {
          "base_uri": "https://localhost:8080/"
        },
        "id": "unF_oRg7ji-t",
        "outputId": "345e0aae-76ab-4366-f8fd-5f5bbadaa8a1"
      },
      "execution_count": null,
      "outputs": [
        {
          "output_type": "stream",
          "name": "stdout",
          "text": [
            "Hello World!\n"
          ]
        }
      ]
    },
    {
      "cell_type": "code",
      "source": [
        "print(12.5)"
      ],
      "metadata": {
        "colab": {
          "base_uri": "https://localhost:8080/"
        },
        "id": "j4PiYyvqj4U9",
        "outputId": "dfe192fd-e53f-4572-cd1b-be86ffd416e9"
      },
      "execution_count": null,
      "outputs": [
        {
          "output_type": "stream",
          "name": "stdout",
          "text": [
            "12.5\n"
          ]
        }
      ]
    },
    {
      "cell_type": "markdown",
      "source": [
        "Variables in Python :\n",
        "Data Holder"
      ],
      "metadata": {
        "id": "zOHuAprAkb9B"
      }
    },
    {
      "cell_type": "code",
      "source": [
        "name = 'I am Rushi, I live in Ch. Sambhaji Nagar in Gadiya.'"
      ],
      "metadata": {
        "id": "A0ISioIDkXPb"
      },
      "execution_count": null,
      "outputs": []
    },
    {
      "cell_type": "code",
      "source": [
        "print(name)"
      ],
      "metadata": {
        "colab": {
          "base_uri": "https://localhost:8080/"
        },
        "id": "qqTR8Z2LkinI",
        "outputId": "ba5837b6-455a-46c5-aa83-8361d795ade3"
      },
      "execution_count": null,
      "outputs": [
        {
          "output_type": "stream",
          "name": "stdout",
          "text": [
            "I am Rushi, I live in Ch. Sambhaji Nagar in Gadiya.\n"
          ]
        }
      ]
    },
    {
      "cell_type": "code",
      "source": [
        "type('2023-05-15')"
      ],
      "metadata": {
        "colab": {
          "base_uri": "https://localhost:8080/"
        },
        "id": "DAyYGZFykoHe",
        "outputId": "cad82ba5-0409-411d-bea7-491a6e42cac7"
      },
      "execution_count": null,
      "outputs": [
        {
          "output_type": "execute_result",
          "data": {
            "text/plain": [
              "str"
            ]
          },
          "metadata": {},
          "execution_count": 17
        }
      ]
    },
    {
      "cell_type": "code",
      "source": [
        "str1 = 'I am'\n",
        "str2 = 'Rushikesh'\n",
        "\n",
        "print(str1)\n",
        "print(str2)"
      ],
      "metadata": {
        "colab": {
          "base_uri": "https://localhost:8080/"
        },
        "id": "wxqhkRjPk0Uu",
        "outputId": "166ce975-005e-4b3b-8e39-146a59956bef"
      },
      "execution_count": null,
      "outputs": [
        {
          "output_type": "stream",
          "name": "stdout",
          "text": [
            "I am\n",
            "Rushikesh\n"
          ]
        }
      ]
    },
    {
      "cell_type": "code",
      "source": [
        "# Concatenation operator :\n",
        "str1 + ' ' + str2"
      ],
      "metadata": {
        "colab": {
          "base_uri": "https://localhost:8080/",
          "height": 36
        },
        "id": "K0UaTVoiluAp",
        "outputId": "0b381711-ccb6-483f-c28f-06558d773ed7"
      },
      "execution_count": null,
      "outputs": [
        {
          "output_type": "execute_result",
          "data": {
            "text/plain": [
              "'I am Rushikesh'"
            ],
            "application/vnd.google.colaboratory.intrinsic+json": {
              "type": "string"
            }
          },
          "metadata": {},
          "execution_count": 33
        }
      ]
    },
    {
      "cell_type": "code",
      "source": [
        "'12' + str(5)"
      ],
      "metadata": {
        "colab": {
          "base_uri": "https://localhost:8080/",
          "height": 36
        },
        "id": "Slr31lx5l5rg",
        "outputId": "64a5d8f8-8b8d-4aa3-c4f8-5c6c97b298b9"
      },
      "execution_count": null,
      "outputs": [
        {
          "output_type": "execute_result",
          "data": {
            "text/plain": [
              "'125'"
            ],
            "application/vnd.google.colaboratory.intrinsic+json": {
              "type": "string"
            }
          },
          "metadata": {},
          "execution_count": 29
        }
      ]
    },
    {
      "cell_type": "code",
      "source": [
        "12 + 24.5 + 3431 * 342 / 2"
      ],
      "metadata": {
        "colab": {
          "base_uri": "https://localhost:8080/"
        },
        "id": "AnQZ-atKmoy1",
        "outputId": "e311d5fe-c7a5-4102-c736-53bd3898ad6f"
      },
      "execution_count": null,
      "outputs": [
        {
          "output_type": "execute_result",
          "data": {
            "text/plain": [
              "586737.5"
            ]
          },
          "metadata": {},
          "execution_count": 35
        }
      ]
    },
    {
      "cell_type": "code",
      "source": [],
      "metadata": {
        "id": "7Sdogx60m3b_"
      },
      "execution_count": null,
      "outputs": []
    },
    {
      "cell_type": "markdown",
      "source": [
        "Syntax --> Set of rules"
      ],
      "metadata": {
        "id": "9fzYQTkgnvTD"
      }
    },
    {
      "cell_type": "code",
      "source": [
        "print('Tushar')"
      ],
      "metadata": {
        "colab": {
          "base_uri": "https://localhost:8080/"
        },
        "id": "yKbP99FqnvqJ",
        "outputId": "935c02f8-671f-41a0-b037-9ed8904b2f7c"
      },
      "execution_count": null,
      "outputs": [
        {
          "output_type": "stream",
          "name": "stdout",
          "text": [
            "Tushar\n"
          ]
        }
      ]
    },
    {
      "cell_type": "code",
      "source": [
        "name = 'Tushar'"
      ],
      "metadata": {
        "id": "FtzZvZHLoEzA"
      },
      "execution_count": null,
      "outputs": []
    },
    {
      "cell_type": "code",
      "source": [
        "name1 = 'Tushar' # 1name not allowed"
      ],
      "metadata": {
        "id": "K_lt9Mxzoed2"
      },
      "execution_count": null,
      "outputs": []
    },
    {
      "cell_type": "code",
      "source": [
        "full_name = 'Tushar G'\n",
        "first_name = 'Tushar'"
      ],
      "metadata": {
        "id": "Wbij1kC_o9dK"
      },
      "execution_count": null,
      "outputs": []
    },
    {
      "cell_type": "code",
      "source": [
        "first_name, last_name = 'Tushar', 'Gupta'"
      ],
      "metadata": {
        "id": "X5Bd7dvipKNN"
      },
      "execution_count": null,
      "outputs": []
    },
    {
      "cell_type": "code",
      "source": [
        "first_name"
      ],
      "metadata": {
        "colab": {
          "base_uri": "https://localhost:8080/",
          "height": 36
        },
        "id": "AQzGaL0zpp9U",
        "outputId": "c5dba934-dc81-4f48-d65e-6910db9d66d5"
      },
      "execution_count": null,
      "outputs": [
        {
          "output_type": "execute_result",
          "data": {
            "text/plain": [
              "'Tushar'"
            ],
            "application/vnd.google.colaboratory.intrinsic+json": {
              "type": "string"
            }
          },
          "metadata": {},
          "execution_count": 52
        }
      ]
    },
    {
      "cell_type": "code",
      "source": [
        "last_name"
      ],
      "metadata": {
        "colab": {
          "base_uri": "https://localhost:8080/",
          "height": 36
        },
        "id": "XaB0iIoqpvcv",
        "outputId": "77436035-eedd-4c8d-a8e5-9cae4bd796c4"
      },
      "execution_count": null,
      "outputs": [
        {
          "output_type": "execute_result",
          "data": {
            "text/plain": [
              "'Gupta'"
            ],
            "application/vnd.google.colaboratory.intrinsic+json": {
              "type": "string"
            }
          },
          "metadata": {},
          "execution_count": 53
        }
      ]
    },
    {
      "cell_type": "code",
      "source": [],
      "metadata": {
        "id": "lYihTHBspym7"
      },
      "execution_count": null,
      "outputs": []
    },
    {
      "cell_type": "markdown",
      "source": [
        "# IF ELSE Statements"
      ],
      "metadata": {
        "id": "ngQuSuyCqHVk"
      }
    },
    {
      "cell_type": "code",
      "source": [
        "marks = 35"
      ],
      "metadata": {
        "id": "OP6GIBX9qHqw"
      },
      "execution_count": 1,
      "outputs": []
    },
    {
      "cell_type": "code",
      "source": [
        "if (marks >= 35) :\n",
        "  print('Passed')"
      ],
      "metadata": {
        "id": "krkMY3-OqRCS",
        "colab": {
          "base_uri": "https://localhost:8080/"
        },
        "outputId": "25cb957e-30bc-4adf-abfa-e08340fea186"
      },
      "execution_count": 2,
      "outputs": [
        {
          "output_type": "stream",
          "name": "stdout",
          "text": [
            "Passed\n"
          ]
        }
      ]
    },
    {
      "cell_type": "code",
      "source": [
        "user = input(\"Write your user name : \")"
      ],
      "metadata": {
        "colab": {
          "base_uri": "https://localhost:8080/"
        },
        "id": "mUL6xf07r_lz",
        "outputId": "67c591bc-3cf6-411e-ea44-c87d8372f7a2"
      },
      "execution_count": 3,
      "outputs": [
        {
          "name": "stdout",
          "output_type": "stream",
          "text": [
            "Write your user name : Akshay\n"
          ]
        }
      ]
    },
    {
      "cell_type": "code",
      "source": [
        "user"
      ],
      "metadata": {
        "colab": {
          "base_uri": "https://localhost:8080/",
          "height": 36
        },
        "id": "1jx0gWV52MHJ",
        "outputId": "012cefd8-a532-4915-d447-7a6fafbb3d8b"
      },
      "execution_count": 4,
      "outputs": [
        {
          "output_type": "execute_result",
          "data": {
            "text/plain": [
              "'Akshay'"
            ],
            "application/vnd.google.colaboratory.intrinsic+json": {
              "type": "string"
            }
          },
          "metadata": {},
          "execution_count": 4
        }
      ]
    },
    {
      "cell_type": "code",
      "source": [
        "password = input(\"Write your password : \")"
      ],
      "metadata": {
        "colab": {
          "base_uri": "https://localhost:8080/"
        },
        "id": "Xoq6LK4ksahg",
        "outputId": "8846bad1-2f60-461b-841f-2e3f54a2669f"
      },
      "execution_count": null,
      "outputs": [
        {
          "name": "stdout",
          "output_type": "stream",
          "text": [
            "Write your password : Abhi@123\n"
          ]
        }
      ]
    },
    {
      "cell_type": "code",
      "source": [
        "age = int(input(\"Mention your age : \"))"
      ],
      "metadata": {
        "colab": {
          "base_uri": "https://localhost:8080/"
        },
        "id": "NpyCT13csnjI",
        "outputId": "ba83456e-ef8f-4803-e3b5-8c189a517e94"
      },
      "execution_count": null,
      "outputs": [
        {
          "name": "stdout",
          "output_type": "stream",
          "text": [
            "Mention your age : 15\n"
          ]
        }
      ]
    },
    {
      "cell_type": "code",
      "source": [
        "type(age)"
      ],
      "metadata": {
        "colab": {
          "base_uri": "https://localhost:8080/"
        },
        "id": "v_I9-Urfsgjk",
        "outputId": "f70a7eb7-c7e2-4754-cabe-eede5dd9adbd"
      },
      "execution_count": null,
      "outputs": [
        {
          "output_type": "execute_result",
          "data": {
            "text/plain": [
              "int"
            ]
          },
          "metadata": {},
          "execution_count": 86
        }
      ]
    },
    {
      "cell_type": "code",
      "source": [
        "if (user == 'Abhi') and (password == 'Abhi@123') :\n",
        "  print('Welcome Abhi!')\n",
        "else :\n",
        "  print(\"Invalid Credentials.\")"
      ],
      "metadata": {
        "colab": {
          "base_uri": "https://localhost:8080/"
        },
        "id": "Vdn0BU-hrSha",
        "outputId": "7803c2a3-b918-471c-e891-96ad7ec4be7b"
      },
      "execution_count": null,
      "outputs": [
        {
          "output_type": "stream",
          "name": "stdout",
          "text": [
            "Welcome Abhi!\n"
          ]
        }
      ]
    },
    {
      "cell_type": "code",
      "source": [],
      "metadata": {
        "id": "D1jdwvf1r-zp"
      },
      "execution_count": null,
      "outputs": []
    },
    {
      "cell_type": "markdown",
      "source": [
        "## **Data Structures in Python**\n",
        "\n",
        "List, Tuple, Set, Dictionary"
      ],
      "metadata": {
        "id": "KCC7ORJs3F_-"
      }
    },
    {
      "cell_type": "code",
      "source": [
        "city1 = 'Ahmedabad'\n",
        "city2 = 'Pune'\n",
        "city3 = 'Surat'\n",
        "city4 = 'Mumbai'"
      ],
      "metadata": {
        "id": "eqDjCKe93LWM"
      },
      "execution_count": null,
      "outputs": []
    },
    {
      "cell_type": "code",
      "source": [
        "person1 = [1, 'Rushikesh', 'Ch. Sambhaji Nagar', 21, 24000, 21]\n",
        "person2 = [2, 'Abhi', 'Pune', 26, 45000.50, 26]"
      ],
      "metadata": {
        "id": "KtibimBE3LXm"
      },
      "execution_count": 29,
      "outputs": []
    },
    {
      "cell_type": "code",
      "source": [
        "person1"
      ],
      "metadata": {
        "colab": {
          "base_uri": "https://localhost:8080/"
        },
        "id": "jTQ1qvLW3Lbs",
        "outputId": "77681897-0ee0-4911-bd59-b9447b09ce3d"
      },
      "execution_count": 30,
      "outputs": [
        {
          "output_type": "execute_result",
          "data": {
            "text/plain": [
              "[1, 'Rushikesh', 'Ch. Sambhaji Nagar', 21, 24000, 21]"
            ]
          },
          "metadata": {},
          "execution_count": 30
        }
      ]
    },
    {
      "cell_type": "code",
      "source": [
        "List --> It's a heterogeneous data structure. It is mutable. It stores insertion order."
      ],
      "metadata": {
        "id": "UkbZO8nA3LdY"
      },
      "execution_count": null,
      "outputs": []
    },
    {
      "cell_type": "code",
      "source": [
        "person1[0]"
      ],
      "metadata": {
        "colab": {
          "base_uri": "https://localhost:8080/"
        },
        "id": "eysFN6x53LhG",
        "outputId": "2e9bebb3-9fd9-43da-ee89-d2c92a74f5a5"
      },
      "execution_count": 10,
      "outputs": [
        {
          "output_type": "execute_result",
          "data": {
            "text/plain": [
              "1"
            ]
          },
          "metadata": {},
          "execution_count": 10
        }
      ]
    },
    {
      "cell_type": "code",
      "source": [
        "person2[1]"
      ],
      "metadata": {
        "colab": {
          "base_uri": "https://localhost:8080/",
          "height": 36
        },
        "id": "PXkXZvSP3Li2",
        "outputId": "fe09ead8-7a5e-4711-9cfa-40cec511f4d9"
      },
      "execution_count": 11,
      "outputs": [
        {
          "output_type": "execute_result",
          "data": {
            "text/plain": [
              "'Abhi'"
            ],
            "application/vnd.google.colaboratory.intrinsic+json": {
              "type": "string"
            }
          },
          "metadata": {},
          "execution_count": 11
        }
      ]
    },
    {
      "cell_type": "code",
      "source": [
        "person2[4]"
      ],
      "metadata": {
        "colab": {
          "base_uri": "https://localhost:8080/"
        },
        "id": "hNi1NyYx3LmK",
        "outputId": "42bebfd3-2372-44ad-d5c7-0e9b7509dcb1"
      },
      "execution_count": 12,
      "outputs": [
        {
          "output_type": "execute_result",
          "data": {
            "text/plain": [
              "45000.5"
            ]
          },
          "metadata": {},
          "execution_count": 12
        }
      ]
    },
    {
      "cell_type": "code",
      "source": [
        "person1[3] = 22"
      ],
      "metadata": {
        "id": "fbYGWmbL3Luf"
      },
      "execution_count": 13,
      "outputs": []
    },
    {
      "cell_type": "code",
      "source": [
        "person1"
      ],
      "metadata": {
        "colab": {
          "base_uri": "https://localhost:8080/"
        },
        "id": "ltJKq_jP5sNO",
        "outputId": "7336d79a-eff1-4d2c-c1e5-b9d711e68d72"
      },
      "execution_count": 14,
      "outputs": [
        {
          "output_type": "execute_result",
          "data": {
            "text/plain": [
              "[1, 'Rushikesh', 'Ch. Sambhaji Nagar', 22, 24000]"
            ]
          },
          "metadata": {},
          "execution_count": 14
        }
      ]
    },
    {
      "cell_type": "code",
      "source": [
        "List slicing -->"
      ],
      "metadata": {
        "id": "V3HJSUNw5tVb"
      },
      "execution_count": null,
      "outputs": []
    },
    {
      "cell_type": "code",
      "source": [
        "person1[1:3]"
      ],
      "metadata": {
        "colab": {
          "base_uri": "https://localhost:8080/"
        },
        "id": "Zaj4vUSz58_B",
        "outputId": "0cbbb6f7-d8b4-4fc6-d6d1-208d35c74e44"
      },
      "execution_count": 18,
      "outputs": [
        {
          "output_type": "execute_result",
          "data": {
            "text/plain": [
              "['Rushikesh', 'Ch. Sambhaji Nagar']"
            ]
          },
          "metadata": {},
          "execution_count": 18
        }
      ]
    },
    {
      "cell_type": "code",
      "source": [
        "person1[2:]"
      ],
      "metadata": {
        "colab": {
          "base_uri": "https://localhost:8080/"
        },
        "id": "-w1MR3U_6CKt",
        "outputId": "a9fc7e4c-2d3c-4ddf-d0a4-f14240335974"
      },
      "execution_count": 19,
      "outputs": [
        {
          "output_type": "execute_result",
          "data": {
            "text/plain": [
              "['Ch. Sambhaji Nagar', 22, 24000]"
            ]
          },
          "metadata": {},
          "execution_count": 19
        }
      ]
    },
    {
      "cell_type": "code",
      "source": [
        "person1[:3]"
      ],
      "metadata": {
        "colab": {
          "base_uri": "https://localhost:8080/"
        },
        "id": "xCbzATF36Pmv",
        "outputId": "ff78cffc-05d8-451c-c9db-adc759751f53"
      },
      "execution_count": 21,
      "outputs": [
        {
          "output_type": "execute_result",
          "data": {
            "text/plain": [
              "[1, 'Rushikesh', 'Ch. Sambhaji Nagar']"
            ]
          },
          "metadata": {},
          "execution_count": 21
        }
      ]
    },
    {
      "cell_type": "code",
      "source": [],
      "metadata": {
        "id": "_JtKy_Zy6b8U"
      },
      "execution_count": null,
      "outputs": []
    },
    {
      "cell_type": "code",
      "source": [
        "Tuple --> It's a heterogeneous data structure. It is im-mutable. It stores insertion order."
      ],
      "metadata": {
        "id": "rX-nlieV7OLe"
      },
      "execution_count": null,
      "outputs": []
    },
    {
      "cell_type": "code",
      "source": [
        "tuple1 = (1, 'Rushikesh', 'Ch. Sambhaji Nagar', 21, 24000, 21)"
      ],
      "metadata": {
        "id": "1lsdUJZu6ks-"
      },
      "execution_count": 31,
      "outputs": []
    },
    {
      "cell_type": "code",
      "source": [
        "tuple1"
      ],
      "metadata": {
        "colab": {
          "base_uri": "https://localhost:8080/"
        },
        "id": "kjmQ5Jeb6xiZ",
        "outputId": "5fc8875e-d0b9-4dcc-adce-71cdde74c567"
      },
      "execution_count": 32,
      "outputs": [
        {
          "output_type": "execute_result",
          "data": {
            "text/plain": [
              "(1, 'Rushikesh', 'Ch. Sambhaji Nagar', 21, 24000, 21)"
            ]
          },
          "metadata": {},
          "execution_count": 32
        }
      ]
    },
    {
      "cell_type": "code",
      "source": [
        "tuple1[3] = 24"
      ],
      "metadata": {
        "colab": {
          "base_uri": "https://localhost:8080/",
          "height": 175
        },
        "id": "DNGUsoo16y_E",
        "outputId": "3a7a6b90-27b9-4495-93c2-eb136dac0c2b"
      },
      "execution_count": 28,
      "outputs": [
        {
          "output_type": "error",
          "ename": "TypeError",
          "evalue": "ignored",
          "traceback": [
            "\u001b[0;31m---------------------------------------------------------------------------\u001b[0m",
            "\u001b[0;31mTypeError\u001b[0m                                 Traceback (most recent call last)",
            "\u001b[0;32m<ipython-input-28-b3b116526d2e>\u001b[0m in \u001b[0;36m<cell line: 1>\u001b[0;34m()\u001b[0m\n\u001b[0;32m----> 1\u001b[0;31m \u001b[0mtuple1\u001b[0m\u001b[0;34m[\u001b[0m\u001b[0;36m3\u001b[0m\u001b[0;34m]\u001b[0m \u001b[0;34m=\u001b[0m \u001b[0;36m24\u001b[0m\u001b[0;34m\u001b[0m\u001b[0;34m\u001b[0m\u001b[0m\n\u001b[0m",
            "\u001b[0;31mTypeError\u001b[0m: 'tuple' object does not support item assignment"
          ]
        }
      ]
    },
    {
      "cell_type": "code",
      "source": [],
      "metadata": {
        "id": "TqGnempm7DjQ"
      },
      "execution_count": null,
      "outputs": []
    },
    {
      "cell_type": "code",
      "source": [
        "Set --> It is again heterogenous data structure. It does not hold the data in the insertion order. It stores only distinct values and removes duplicate values."
      ],
      "metadata": {
        "id": "WmHYOvUY8G6G"
      },
      "execution_count": null,
      "outputs": []
    },
    {
      "cell_type": "code",
      "source": [
        "set1 = {1, 'Rushikesh', 'Ch. Sambhaji Nagar', 21, 24000, 21}"
      ],
      "metadata": {
        "id": "9vyq1G7y8G_J"
      },
      "execution_count": 47,
      "outputs": []
    },
    {
      "cell_type": "code",
      "source": [
        "set1"
      ],
      "metadata": {
        "colab": {
          "base_uri": "https://localhost:8080/"
        },
        "id": "dsRLvYLY8HBC",
        "outputId": "90c8e967-8d76-42e6-dcc5-e6cdc3161526"
      },
      "execution_count": 48,
      "outputs": [
        {
          "output_type": "execute_result",
          "data": {
            "text/plain": [
              "{1, 21, 24000, 'Ch. Sambhaji Nagar', 'Rushikesh'}"
            ]
          },
          "metadata": {},
          "execution_count": 48
        }
      ]
    },
    {
      "cell_type": "code",
      "source": [],
      "metadata": {
        "id": "3rbNINIn8HEY"
      },
      "execution_count": null,
      "outputs": []
    },
    {
      "cell_type": "code",
      "source": [
        "Dictionary --> It's a key-value pair data structure"
      ],
      "metadata": {
        "id": "OAFNELzI8HGT"
      },
      "execution_count": null,
      "outputs": []
    },
    {
      "cell_type": "code",
      "source": [
        "person11 = {'Name' : 'Rushi', 'Age' : 21, 'Salary' : 24500.5, 'Marks' : {'Physics' : 67, 'Maths' : 89, 'English' : 90}, 'height_wight' : [5.7, 80]}"
      ],
      "metadata": {
        "id": "HJ-S_A8Q8HJW"
      },
      "execution_count": 57,
      "outputs": []
    },
    {
      "cell_type": "code",
      "source": [
        "person11['Marks']['Physics']"
      ],
      "metadata": {
        "colab": {
          "base_uri": "https://localhost:8080/"
        },
        "id": "S78BC85L8HLL",
        "outputId": "7fd936c9-b696-429b-f2fa-4f53a67a4ce4"
      },
      "execution_count": 58,
      "outputs": [
        {
          "output_type": "execute_result",
          "data": {
            "text/plain": [
              "67"
            ]
          },
          "metadata": {},
          "execution_count": 58
        }
      ]
    },
    {
      "cell_type": "code",
      "source": [
        "person11['height_wight'][0]"
      ],
      "metadata": {
        "colab": {
          "base_uri": "https://localhost:8080/"
        },
        "id": "YibYUHlb8HPE",
        "outputId": "cc8a75b3-178d-461f-9edd-c4d741aa4c5c"
      },
      "execution_count": 60,
      "outputs": [
        {
          "output_type": "execute_result",
          "data": {
            "text/plain": [
              "5.7"
            ]
          },
          "metadata": {},
          "execution_count": 60
        }
      ]
    },
    {
      "cell_type": "code",
      "source": [],
      "metadata": {
        "id": "I5W_fT8B8HRG"
      },
      "execution_count": null,
      "outputs": []
    },
    {
      "cell_type": "code",
      "source": [],
      "metadata": {
        "id": "tbcmtOi38HUi"
      },
      "execution_count": null,
      "outputs": []
    },
    {
      "cell_type": "code",
      "source": [],
      "metadata": {
        "id": "WWZnmtng8HWw"
      },
      "execution_count": null,
      "outputs": []
    },
    {
      "cell_type": "code",
      "source": [],
      "metadata": {
        "id": "EfcM-VAG8Han"
      },
      "execution_count": null,
      "outputs": []
    }
  ]
}