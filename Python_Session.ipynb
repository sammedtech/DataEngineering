{
  "nbformat": 4,
  "nbformat_minor": 0,
  "metadata": {
    "colab": {
      "provenance": []
    },
    "kernelspec": {
      "name": "python3",
      "display_name": "Python 3"
    },
    "language_info": {
      "name": "python"
    }
  },
  "cells": [
    {
      "cell_type": "code",
      "source": [
        "print('Hello World!')"
      ],
      "metadata": {
        "colab": {
          "base_uri": "https://localhost:8080/"
        },
        "id": "unF_oRg7ji-t",
        "outputId": "345e0aae-76ab-4366-f8fd-5f5bbadaa8a1"
      },
      "execution_count": null,
      "outputs": [
        {
          "output_type": "stream",
          "name": "stdout",
          "text": [
            "Hello World!\n"
          ]
        }
      ]
    },
    {
      "cell_type": "code",
      "source": [
        "print(12.5)"
      ],
      "metadata": {
        "colab": {
          "base_uri": "https://localhost:8080/"
        },
        "id": "j4PiYyvqj4U9",
        "outputId": "dfe192fd-e53f-4572-cd1b-be86ffd416e9"
      },
      "execution_count": null,
      "outputs": [
        {
          "output_type": "stream",
          "name": "stdout",
          "text": [
            "12.5\n"
          ]
        }
      ]
    },
    {
      "cell_type": "markdown",
      "source": [
        "Variables in Python :\n",
        "Data Holder"
      ],
      "metadata": {
        "id": "zOHuAprAkb9B"
      }
    },
    {
      "cell_type": "code",
      "source": [
        "name = 'I am Rushi, I live in Ch. Sambhaji Nagar in Gadiya.'"
      ],
      "metadata": {
        "id": "A0ISioIDkXPb"
      },
      "execution_count": null,
      "outputs": []
    },
    {
      "cell_type": "code",
      "source": [
        "print(name)"
      ],
      "metadata": {
        "colab": {
          "base_uri": "https://localhost:8080/"
        },
        "id": "qqTR8Z2LkinI",
        "outputId": "ba5837b6-455a-46c5-aa83-8361d795ade3"
      },
      "execution_count": null,
      "outputs": [
        {
          "output_type": "stream",
          "name": "stdout",
          "text": [
            "I am Rushi, I live in Ch. Sambhaji Nagar in Gadiya.\n"
          ]
        }
      ]
    },
    {
      "cell_type": "code",
      "source": [
        "type('2023-05-15')"
      ],
      "metadata": {
        "colab": {
          "base_uri": "https://localhost:8080/"
        },
        "id": "DAyYGZFykoHe",
        "outputId": "cad82ba5-0409-411d-bea7-491a6e42cac7"
      },
      "execution_count": null,
      "outputs": [
        {
          "output_type": "execute_result",
          "data": {
            "text/plain": [
              "str"
            ]
          },
          "metadata": {},
          "execution_count": 17
        }
      ]
    },
    {
      "cell_type": "code",
      "source": [
        "str1 = 'I am'\n",
        "str2 = 'Rushikesh'\n",
        "\n",
        "print(str1)\n",
        "print(str2)"
      ],
      "metadata": {
        "colab": {
          "base_uri": "https://localhost:8080/"
        },
        "id": "wxqhkRjPk0Uu",
        "outputId": "166ce975-005e-4b3b-8e39-146a59956bef"
      },
      "execution_count": null,
      "outputs": [
        {
          "output_type": "stream",
          "name": "stdout",
          "text": [
            "I am\n",
            "Rushikesh\n"
          ]
        }
      ]
    },
    {
      "cell_type": "code",
      "source": [
        "# Concatenation operator :\n",
        "str1 + ' ' + str2"
      ],
      "metadata": {
        "colab": {
          "base_uri": "https://localhost:8080/",
          "height": 36
        },
        "id": "K0UaTVoiluAp",
        "outputId": "0b381711-ccb6-483f-c28f-06558d773ed7"
      },
      "execution_count": null,
      "outputs": [
        {
          "output_type": "execute_result",
          "data": {
            "text/plain": [
              "'I am Rushikesh'"
            ],
            "application/vnd.google.colaboratory.intrinsic+json": {
              "type": "string"
            }
          },
          "metadata": {},
          "execution_count": 33
        }
      ]
    },
    {
      "cell_type": "code",
      "source": [
        "'12' + str(5)"
      ],
      "metadata": {
        "colab": {
          "base_uri": "https://localhost:8080/",
          "height": 36
        },
        "id": "Slr31lx5l5rg",
        "outputId": "64a5d8f8-8b8d-4aa3-c4f8-5c6c97b298b9"
      },
      "execution_count": null,
      "outputs": [
        {
          "output_type": "execute_result",
          "data": {
            "text/plain": [
              "'125'"
            ],
            "application/vnd.google.colaboratory.intrinsic+json": {
              "type": "string"
            }
          },
          "metadata": {},
          "execution_count": 29
        }
      ]
    },
    {
      "cell_type": "code",
      "source": [
        "12 + 24.5 + 3431 * 342 / 2"
      ],
      "metadata": {
        "colab": {
          "base_uri": "https://localhost:8080/"
        },
        "id": "AnQZ-atKmoy1",
        "outputId": "e311d5fe-c7a5-4102-c736-53bd3898ad6f"
      },
      "execution_count": null,
      "outputs": [
        {
          "output_type": "execute_result",
          "data": {
            "text/plain": [
              "586737.5"
            ]
          },
          "metadata": {},
          "execution_count": 35
        }
      ]
    },
    {
      "cell_type": "code",
      "source": [],
      "metadata": {
        "id": "7Sdogx60m3b_"
      },
      "execution_count": null,
      "outputs": []
    },
    {
      "cell_type": "markdown",
      "source": [
        "Syntax --> Set of rules"
      ],
      "metadata": {
        "id": "9fzYQTkgnvTD"
      }
    },
    {
      "cell_type": "code",
      "source": [
        "print('Tushar')"
      ],
      "metadata": {
        "colab": {
          "base_uri": "https://localhost:8080/"
        },
        "id": "yKbP99FqnvqJ",
        "outputId": "935c02f8-671f-41a0-b037-9ed8904b2f7c"
      },
      "execution_count": null,
      "outputs": [
        {
          "output_type": "stream",
          "name": "stdout",
          "text": [
            "Tushar\n"
          ]
        }
      ]
    },
    {
      "cell_type": "code",
      "source": [
        "name = 'Tushar'"
      ],
      "metadata": {
        "id": "FtzZvZHLoEzA"
      },
      "execution_count": null,
      "outputs": []
    },
    {
      "cell_type": "code",
      "source": [
        "name1 = 'Tushar' # 1name not allowed"
      ],
      "metadata": {
        "id": "K_lt9Mxzoed2"
      },
      "execution_count": null,
      "outputs": []
    },
    {
      "cell_type": "code",
      "source": [
        "full_name = 'Tushar G'\n",
        "first_name = 'Tushar'"
      ],
      "metadata": {
        "id": "Wbij1kC_o9dK"
      },
      "execution_count": null,
      "outputs": []
    },
    {
      "cell_type": "code",
      "source": [
        "first_name, last_name = 'Tushar', 'Gupta'"
      ],
      "metadata": {
        "id": "X5Bd7dvipKNN"
      },
      "execution_count": null,
      "outputs": []
    },
    {
      "cell_type": "code",
      "source": [
        "first_name"
      ],
      "metadata": {
        "colab": {
          "base_uri": "https://localhost:8080/",
          "height": 36
        },
        "id": "AQzGaL0zpp9U",
        "outputId": "c5dba934-dc81-4f48-d65e-6910db9d66d5"
      },
      "execution_count": null,
      "outputs": [
        {
          "output_type": "execute_result",
          "data": {
            "text/plain": [
              "'Tushar'"
            ],
            "application/vnd.google.colaboratory.intrinsic+json": {
              "type": "string"
            }
          },
          "metadata": {},
          "execution_count": 52
        }
      ]
    },
    {
      "cell_type": "code",
      "source": [
        "last_name"
      ],
      "metadata": {
        "colab": {
          "base_uri": "https://localhost:8080/",
          "height": 36
        },
        "id": "XaB0iIoqpvcv",
        "outputId": "77436035-eedd-4c8d-a8e5-9cae4bd796c4"
      },
      "execution_count": null,
      "outputs": [
        {
          "output_type": "execute_result",
          "data": {
            "text/plain": [
              "'Gupta'"
            ],
            "application/vnd.google.colaboratory.intrinsic+json": {
              "type": "string"
            }
          },
          "metadata": {},
          "execution_count": 53
        }
      ]
    },
    {
      "cell_type": "code",
      "source": [],
      "metadata": {
        "id": "lYihTHBspym7"
      },
      "execution_count": null,
      "outputs": []
    },
    {
      "cell_type": "markdown",
      "source": [
        "# IF ELSE Statements"
      ],
      "metadata": {
        "id": "ngQuSuyCqHVk"
      }
    },
    {
      "cell_type": "code",
      "source": [
        "marks = 35"
      ],
      "metadata": {
        "id": "OP6GIBX9qHqw"
      },
      "execution_count": null,
      "outputs": []
    },
    {
      "cell_type": "code",
      "source": [
        "if (marks >= 35) :\n",
        "  print('Passed')"
      ],
      "metadata": {
        "id": "krkMY3-OqRCS",
        "colab": {
          "base_uri": "https://localhost:8080/"
        },
        "outputId": "25cb957e-30bc-4adf-abfa-e08340fea186"
      },
      "execution_count": null,
      "outputs": [
        {
          "output_type": "stream",
          "name": "stdout",
          "text": [
            "Passed\n"
          ]
        }
      ]
    },
    {
      "cell_type": "code",
      "source": [
        "user = input(\"Write your user name : \")"
      ],
      "metadata": {
        "colab": {
          "base_uri": "https://localhost:8080/"
        },
        "id": "mUL6xf07r_lz",
        "outputId": "67c591bc-3cf6-411e-ea44-c87d8372f7a2"
      },
      "execution_count": null,
      "outputs": [
        {
          "name": "stdout",
          "output_type": "stream",
          "text": [
            "Write your user name : Akshay\n"
          ]
        }
      ]
    },
    {
      "cell_type": "code",
      "source": [
        "user"
      ],
      "metadata": {
        "colab": {
          "base_uri": "https://localhost:8080/",
          "height": 36
        },
        "id": "1jx0gWV52MHJ",
        "outputId": "012cefd8-a532-4915-d447-7a6fafbb3d8b"
      },
      "execution_count": null,
      "outputs": [
        {
          "output_type": "execute_result",
          "data": {
            "text/plain": [
              "'Akshay'"
            ],
            "application/vnd.google.colaboratory.intrinsic+json": {
              "type": "string"
            }
          },
          "metadata": {},
          "execution_count": 4
        }
      ]
    },
    {
      "cell_type": "code",
      "source": [
        "password = input(\"Write your password : \")"
      ],
      "metadata": {
        "colab": {
          "base_uri": "https://localhost:8080/"
        },
        "id": "Xoq6LK4ksahg",
        "outputId": "8846bad1-2f60-461b-841f-2e3f54a2669f"
      },
      "execution_count": null,
      "outputs": [
        {
          "name": "stdout",
          "output_type": "stream",
          "text": [
            "Write your password : Abhi@123\n"
          ]
        }
      ]
    },
    {
      "cell_type": "code",
      "source": [
        "age = int(input(\"Mention your age : \"))"
      ],
      "metadata": {
        "colab": {
          "base_uri": "https://localhost:8080/"
        },
        "id": "NpyCT13csnjI",
        "outputId": "ba83456e-ef8f-4803-e3b5-8c189a517e94"
      },
      "execution_count": null,
      "outputs": [
        {
          "name": "stdout",
          "output_type": "stream",
          "text": [
            "Mention your age : 15\n"
          ]
        }
      ]
    },
    {
      "cell_type": "code",
      "source": [
        "type(age)"
      ],
      "metadata": {
        "colab": {
          "base_uri": "https://localhost:8080/"
        },
        "id": "v_I9-Urfsgjk",
        "outputId": "f70a7eb7-c7e2-4754-cabe-eede5dd9adbd"
      },
      "execution_count": null,
      "outputs": [
        {
          "output_type": "execute_result",
          "data": {
            "text/plain": [
              "int"
            ]
          },
          "metadata": {},
          "execution_count": 86
        }
      ]
    },
    {
      "cell_type": "code",
      "source": [
        "if (user == 'Abhi') and (password == 'Abhi@123') :\n",
        "  print('Welcome Abhi!')\n",
        "else :\n",
        "  print(\"Invalid Credentials.\")"
      ],
      "metadata": {
        "colab": {
          "base_uri": "https://localhost:8080/"
        },
        "id": "Vdn0BU-hrSha",
        "outputId": "7803c2a3-b918-471c-e891-96ad7ec4be7b"
      },
      "execution_count": null,
      "outputs": [
        {
          "output_type": "stream",
          "name": "stdout",
          "text": [
            "Welcome Abhi!\n"
          ]
        }
      ]
    },
    {
      "cell_type": "code",
      "source": [],
      "metadata": {
        "id": "D1jdwvf1r-zp"
      },
      "execution_count": null,
      "outputs": []
    },
    {
      "cell_type": "markdown",
      "source": [
        "## **Data Structures in Python**\n",
        "\n",
        "List, Tuple, Set, Dictionary"
      ],
      "metadata": {
        "id": "KCC7ORJs3F_-"
      }
    },
    {
      "cell_type": "code",
      "source": [
        "city1 = 'Ahmedabad'\n",
        "city2 = 'Pune'\n",
        "city3 = 'Surat'\n",
        "city4 = 'Mumbai'"
      ],
      "metadata": {
        "id": "eqDjCKe93LWM"
      },
      "execution_count": null,
      "outputs": []
    },
    {
      "cell_type": "code",
      "source": [
        "person1 = [1, 'Rushikesh', 'Ch. Sambhaji Nagar', 21, 24000, 21]\n",
        "person2 = [2, 'Abhi', 'Pune', 26, 45000.50, 26]"
      ],
      "metadata": {
        "id": "KtibimBE3LXm"
      },
      "execution_count": null,
      "outputs": []
    },
    {
      "cell_type": "code",
      "source": [
        "person1"
      ],
      "metadata": {
        "colab": {
          "base_uri": "https://localhost:8080/"
        },
        "id": "jTQ1qvLW3Lbs",
        "outputId": "77681897-0ee0-4911-bd59-b9447b09ce3d"
      },
      "execution_count": null,
      "outputs": [
        {
          "output_type": "execute_result",
          "data": {
            "text/plain": [
              "[1, 'Rushikesh', 'Ch. Sambhaji Nagar', 21, 24000, 21]"
            ]
          },
          "metadata": {},
          "execution_count": 30
        }
      ]
    },
    {
      "cell_type": "code",
      "source": [
        "List --> It's a heterogeneous data structure. It is mutable. It stores insertion order."
      ],
      "metadata": {
        "id": "UkbZO8nA3LdY"
      },
      "execution_count": null,
      "outputs": []
    },
    {
      "cell_type": "code",
      "source": [
        "person1[0]"
      ],
      "metadata": {
        "colab": {
          "base_uri": "https://localhost:8080/"
        },
        "id": "eysFN6x53LhG",
        "outputId": "2e9bebb3-9fd9-43da-ee89-d2c92a74f5a5"
      },
      "execution_count": null,
      "outputs": [
        {
          "output_type": "execute_result",
          "data": {
            "text/plain": [
              "1"
            ]
          },
          "metadata": {},
          "execution_count": 10
        }
      ]
    },
    {
      "cell_type": "code",
      "source": [
        "person2[1]"
      ],
      "metadata": {
        "colab": {
          "base_uri": "https://localhost:8080/",
          "height": 36
        },
        "id": "PXkXZvSP3Li2",
        "outputId": "fe09ead8-7a5e-4711-9cfa-40cec511f4d9"
      },
      "execution_count": null,
      "outputs": [
        {
          "output_type": "execute_result",
          "data": {
            "text/plain": [
              "'Abhi'"
            ],
            "application/vnd.google.colaboratory.intrinsic+json": {
              "type": "string"
            }
          },
          "metadata": {},
          "execution_count": 11
        }
      ]
    },
    {
      "cell_type": "code",
      "source": [
        "person2[4]"
      ],
      "metadata": {
        "colab": {
          "base_uri": "https://localhost:8080/"
        },
        "id": "hNi1NyYx3LmK",
        "outputId": "42bebfd3-2372-44ad-d5c7-0e9b7509dcb1"
      },
      "execution_count": null,
      "outputs": [
        {
          "output_type": "execute_result",
          "data": {
            "text/plain": [
              "45000.5"
            ]
          },
          "metadata": {},
          "execution_count": 12
        }
      ]
    },
    {
      "cell_type": "code",
      "source": [
        "person1[3] = 22"
      ],
      "metadata": {
        "id": "fbYGWmbL3Luf"
      },
      "execution_count": null,
      "outputs": []
    },
    {
      "cell_type": "code",
      "source": [
        "person1"
      ],
      "metadata": {
        "colab": {
          "base_uri": "https://localhost:8080/"
        },
        "id": "ltJKq_jP5sNO",
        "outputId": "7336d79a-eff1-4d2c-c1e5-b9d711e68d72"
      },
      "execution_count": null,
      "outputs": [
        {
          "output_type": "execute_result",
          "data": {
            "text/plain": [
              "[1, 'Rushikesh', 'Ch. Sambhaji Nagar', 22, 24000]"
            ]
          },
          "metadata": {},
          "execution_count": 14
        }
      ]
    },
    {
      "cell_type": "code",
      "source": [
        "List slicing -->"
      ],
      "metadata": {
        "id": "V3HJSUNw5tVb"
      },
      "execution_count": null,
      "outputs": []
    },
    {
      "cell_type": "code",
      "source": [
        "person1[1:3]"
      ],
      "metadata": {
        "colab": {
          "base_uri": "https://localhost:8080/"
        },
        "id": "Zaj4vUSz58_B",
        "outputId": "0cbbb6f7-d8b4-4fc6-d6d1-208d35c74e44"
      },
      "execution_count": null,
      "outputs": [
        {
          "output_type": "execute_result",
          "data": {
            "text/plain": [
              "['Rushikesh', 'Ch. Sambhaji Nagar']"
            ]
          },
          "metadata": {},
          "execution_count": 18
        }
      ]
    },
    {
      "cell_type": "code",
      "source": [
        "person1[2:]"
      ],
      "metadata": {
        "colab": {
          "base_uri": "https://localhost:8080/"
        },
        "id": "-w1MR3U_6CKt",
        "outputId": "a9fc7e4c-2d3c-4ddf-d0a4-f14240335974"
      },
      "execution_count": null,
      "outputs": [
        {
          "output_type": "execute_result",
          "data": {
            "text/plain": [
              "['Ch. Sambhaji Nagar', 22, 24000]"
            ]
          },
          "metadata": {},
          "execution_count": 19
        }
      ]
    },
    {
      "cell_type": "code",
      "source": [
        "person1[:3]"
      ],
      "metadata": {
        "colab": {
          "base_uri": "https://localhost:8080/"
        },
        "id": "xCbzATF36Pmv",
        "outputId": "ff78cffc-05d8-451c-c9db-adc759751f53"
      },
      "execution_count": null,
      "outputs": [
        {
          "output_type": "execute_result",
          "data": {
            "text/plain": [
              "[1, 'Rushikesh', 'Ch. Sambhaji Nagar']"
            ]
          },
          "metadata": {},
          "execution_count": 21
        }
      ]
    },
    {
      "cell_type": "code",
      "source": [],
      "metadata": {
        "id": "_JtKy_Zy6b8U"
      },
      "execution_count": null,
      "outputs": []
    },
    {
      "cell_type": "code",
      "source": [
        "Tuple --> It's a heterogeneous data structure. It is im-mutable. It stores insertion order."
      ],
      "metadata": {
        "id": "rX-nlieV7OLe"
      },
      "execution_count": null,
      "outputs": []
    },
    {
      "cell_type": "code",
      "source": [
        "tuple1 = (1, 'Rushikesh', 'Ch. Sambhaji Nagar', 21, 24000, 21)"
      ],
      "metadata": {
        "id": "1lsdUJZu6ks-"
      },
      "execution_count": null,
      "outputs": []
    },
    {
      "cell_type": "code",
      "source": [
        "tuple1"
      ],
      "metadata": {
        "colab": {
          "base_uri": "https://localhost:8080/"
        },
        "id": "kjmQ5Jeb6xiZ",
        "outputId": "5fc8875e-d0b9-4dcc-adce-71cdde74c567"
      },
      "execution_count": null,
      "outputs": [
        {
          "output_type": "execute_result",
          "data": {
            "text/plain": [
              "(1, 'Rushikesh', 'Ch. Sambhaji Nagar', 21, 24000, 21)"
            ]
          },
          "metadata": {},
          "execution_count": 32
        }
      ]
    },
    {
      "cell_type": "code",
      "source": [
        "tuple1[3] = 24"
      ],
      "metadata": {
        "colab": {
          "base_uri": "https://localhost:8080/",
          "height": 175
        },
        "id": "DNGUsoo16y_E",
        "outputId": "3a7a6b90-27b9-4495-93c2-eb136dac0c2b"
      },
      "execution_count": null,
      "outputs": [
        {
          "output_type": "error",
          "ename": "TypeError",
          "evalue": "ignored",
          "traceback": [
            "\u001b[0;31m---------------------------------------------------------------------------\u001b[0m",
            "\u001b[0;31mTypeError\u001b[0m                                 Traceback (most recent call last)",
            "\u001b[0;32m<ipython-input-28-b3b116526d2e>\u001b[0m in \u001b[0;36m<cell line: 1>\u001b[0;34m()\u001b[0m\n\u001b[0;32m----> 1\u001b[0;31m \u001b[0mtuple1\u001b[0m\u001b[0;34m[\u001b[0m\u001b[0;36m3\u001b[0m\u001b[0;34m]\u001b[0m \u001b[0;34m=\u001b[0m \u001b[0;36m24\u001b[0m\u001b[0;34m\u001b[0m\u001b[0;34m\u001b[0m\u001b[0m\n\u001b[0m",
            "\u001b[0;31mTypeError\u001b[0m: 'tuple' object does not support item assignment"
          ]
        }
      ]
    },
    {
      "cell_type": "code",
      "source": [],
      "metadata": {
        "id": "TqGnempm7DjQ"
      },
      "execution_count": null,
      "outputs": []
    },
    {
      "cell_type": "code",
      "source": [
        "Set --> It is again heterogenous data structure. It does not hold the data in the insertion order. It stores only distinct values and removes duplicate values."
      ],
      "metadata": {
        "id": "WmHYOvUY8G6G"
      },
      "execution_count": null,
      "outputs": []
    },
    {
      "cell_type": "code",
      "source": [
        "set1 = {1, 'Rushikesh', 'Ch. Sambhaji Nagar', 21, 24000, 21}"
      ],
      "metadata": {
        "id": "9vyq1G7y8G_J"
      },
      "execution_count": null,
      "outputs": []
    },
    {
      "cell_type": "code",
      "source": [
        "set1"
      ],
      "metadata": {
        "colab": {
          "base_uri": "https://localhost:8080/"
        },
        "id": "dsRLvYLY8HBC",
        "outputId": "90c8e967-8d76-42e6-dcc5-e6cdc3161526"
      },
      "execution_count": null,
      "outputs": [
        {
          "output_type": "execute_result",
          "data": {
            "text/plain": [
              "{1, 21, 24000, 'Ch. Sambhaji Nagar', 'Rushikesh'}"
            ]
          },
          "metadata": {},
          "execution_count": 48
        }
      ]
    },
    {
      "cell_type": "code",
      "source": [],
      "metadata": {
        "id": "3rbNINIn8HEY"
      },
      "execution_count": null,
      "outputs": []
    },
    {
      "cell_type": "code",
      "source": [
        "Dictionary --> It's a key-value pair data structure"
      ],
      "metadata": {
        "id": "OAFNELzI8HGT"
      },
      "execution_count": null,
      "outputs": []
    },
    {
      "cell_type": "code",
      "source": [
        "person11 = {'Name' : 'Rushi', 'Age' : 21, 'Salary' : 24500.5, 'Marks' : {'Physics' : 67, 'Maths' : 89, 'English' : 90}, 'height_wight' : [5.7, 80]}"
      ],
      "metadata": {
        "id": "HJ-S_A8Q8HJW"
      },
      "execution_count": null,
      "outputs": []
    },
    {
      "cell_type": "code",
      "source": [
        "person11['Marks']['Physics']"
      ],
      "metadata": {
        "colab": {
          "base_uri": "https://localhost:8080/"
        },
        "id": "S78BC85L8HLL",
        "outputId": "7fd936c9-b696-429b-f2fa-4f53a67a4ce4"
      },
      "execution_count": null,
      "outputs": [
        {
          "output_type": "execute_result",
          "data": {
            "text/plain": [
              "67"
            ]
          },
          "metadata": {},
          "execution_count": 58
        }
      ]
    },
    {
      "cell_type": "code",
      "source": [
        "person11['height_wight'][0]"
      ],
      "metadata": {
        "colab": {
          "base_uri": "https://localhost:8080/"
        },
        "id": "YibYUHlb8HPE",
        "outputId": "cc8a75b3-178d-461f-9edd-c4d741aa4c5c"
      },
      "execution_count": null,
      "outputs": [
        {
          "output_type": "execute_result",
          "data": {
            "text/plain": [
              "5.7"
            ]
          },
          "metadata": {},
          "execution_count": 60
        }
      ]
    },
    {
      "cell_type": "code",
      "source": [],
      "metadata": {
        "id": "I5W_fT8B8HRG"
      },
      "execution_count": null,
      "outputs": []
    },
    {
      "cell_type": "code",
      "source": [
        "event = {'Records': [{'eventVersion': '2.1', 'eventSource': 'aws:s3', 'awsRegion': 'eu-west-1', 'eventTime': '2023-11-09T11:15:52.895Z', 'eventName': 'ObjectCreated:Copy', 'userIdentity': {'principalId': 'AWS:AROA3MADJBNOYXTVWEOVW:ext@gmail.com'}, 'requestParameters': {'sourceIPAddress': '49.36.43.236'}, 'responseElements': {'x-amz-request-id': 'MFRM6JCSXXX9D2PK', 'x-amz-id-2': '2lU75RMFWu9zp9Y2ammhui5bEKZK+BUw3wzlEfKAdgZjntbEAqX54VXelesuMgFFmULIRxP2DsOoZD26RhRR7kOHP9TvSR6Z'}, 's3': {'s3SchemaVersion': '1.0', 'configurationId': '29c752da-faa9-4d52-a230-6b9abec8366d', 'bucket': {'name': 's3-dev-datafactory-stg-001', 'ownerIdentity': {'principalId': 'A18H70OMADTGDZ'}, 'arn': 'arn:aws:s3:::s3-dev-datafactory-stg-001'}, 'object': {'key': 'sources/psa/master/CompanyMaster_20231107070001.csv', 'size': 345, 'eTag': 'cce65fdb6f19818d0727599ac8ff0daa', 'versionId': 'Si4iImgy3Rof.8mdl2gFHdgLublLBx5g', 'sequencer': '00654CBF68B4DF41CB'}}}]}"
      ],
      "metadata": {
        "id": "tbcmtOi38HUi"
      },
      "execution_count": null,
      "outputs": []
    },
    {
      "cell_type": "code",
      "source": [
        "event"
      ],
      "metadata": {
        "colab": {
          "base_uri": "https://localhost:8080/"
        },
        "id": "WWZnmtng8HWw",
        "outputId": "3ab8465e-42ec-444a-9eed-7a2029681bdc"
      },
      "execution_count": null,
      "outputs": [
        {
          "output_type": "execute_result",
          "data": {
            "text/plain": [
              "{'Records': [{'eventVersion': '2.1',\n",
              "   'eventSource': 'aws:s3',\n",
              "   'awsRegion': 'eu-west-1',\n",
              "   'eventTime': '2023-11-09T11:15:52.895Z',\n",
              "   'eventName': 'ObjectCreated:Copy',\n",
              "   'userIdentity': {'principalId': 'AWS:AROA3MADJBNOYXTVWEOVW:ext@gmail.com'},\n",
              "   'requestParameters': {'sourceIPAddress': '49.36.43.236'},\n",
              "   'responseElements': {'x-amz-request-id': 'MFRM6JCSXXX9D2PK',\n",
              "    'x-amz-id-2': '2lU75RMFWu9zp9Y2ammhui5bEKZK+BUw3wzlEfKAdgZjntbEAqX54VXelesuMgFFmULIRxP2DsOoZD26RhRR7kOHP9TvSR6Z'},\n",
              "   's3': {'s3SchemaVersion': '1.0',\n",
              "    'configurationId': '29c752da-faa9-4d52-a230-6b9abec8366d',\n",
              "    'bucket': {'name': 's3-dev-datafactory-stg-001',\n",
              "     'ownerIdentity': {'principalId': 'A18H70OMADTGDZ'},\n",
              "     'arn': 'arn:aws:s3:::s3-dev-datafactory-stg-001'},\n",
              "    'object': {'key': 'sources/psa/master/CompanyMaster_20231107070001.csv',\n",
              "     'size': 345,\n",
              "     'eTag': 'cce65fdb6f19818d0727599ac8ff0daa',\n",
              "     'versionId': 'Si4iImgy3Rof.8mdl2gFHdgLublLBx5g',\n",
              "     'sequencer': '00654CBF68B4DF41CB'}}}]}"
            ]
          },
          "metadata": {},
          "execution_count": 62
        }
      ]
    },
    {
      "cell_type": "code",
      "source": [
        "type(event['Records'])"
      ],
      "metadata": {
        "colab": {
          "base_uri": "https://localhost:8080/"
        },
        "id": "EfcM-VAG8Han",
        "outputId": "6d0b3490-5344-4807-f8ba-357d61352d4e"
      },
      "execution_count": null,
      "outputs": [
        {
          "output_type": "execute_result",
          "data": {
            "text/plain": [
              "list"
            ]
          },
          "metadata": {},
          "execution_count": 63
        }
      ]
    },
    {
      "cell_type": "code",
      "source": [
        "bucket_name # s3-dev-datafactory-stg-001\n",
        "file_name # sources/psa/master/CompanyMaster_20231107070001.csv"
      ],
      "metadata": {
        "id": "xfdcHE9eCvnv"
      },
      "execution_count": null,
      "outputs": []
    },
    {
      "cell_type": "code",
      "source": [],
      "metadata": {
        "id": "803SaooMmNEC"
      },
      "execution_count": null,
      "outputs": []
    },
    {
      "cell_type": "code",
      "source": [],
      "metadata": {
        "id": "kLv5-eW7mNF1"
      },
      "execution_count": null,
      "outputs": []
    },
    {
      "cell_type": "markdown",
      "source": [
        "**Looping in Python**"
      ],
      "metadata": {
        "id": "fEs_pe-TmaYr"
      }
    },
    {
      "cell_type": "code",
      "source": [
        "lst = [1, 2, 3, 4, 5, 6, 7, 8, 9,......., 100]"
      ],
      "metadata": {
        "id": "QlB_8mZSmNJN"
      },
      "execution_count": null,
      "outputs": []
    },
    {
      "cell_type": "code",
      "source": [
        "type(lst)"
      ],
      "metadata": {
        "colab": {
          "base_uri": "https://localhost:8080/"
        },
        "id": "WyhOJjf7mNLM",
        "outputId": "95abfbc8-78e3-4a68-96dc-69d6fed62281"
      },
      "execution_count": null,
      "outputs": [
        {
          "output_type": "execute_result",
          "data": {
            "text/plain": [
              "list"
            ]
          },
          "metadata": {},
          "execution_count": 2
        }
      ]
    },
    {
      "cell_type": "code",
      "source": [
        "lst[0]"
      ],
      "metadata": {
        "colab": {
          "base_uri": "https://localhost:8080/"
        },
        "id": "oLa_xcarmNPD",
        "outputId": "63437f1f-270c-485c-d76c-0a1b3f70c25d"
      },
      "execution_count": null,
      "outputs": [
        {
          "output_type": "execute_result",
          "data": {
            "text/plain": [
              "1"
            ]
          },
          "metadata": {},
          "execution_count": 3
        }
      ]
    },
    {
      "cell_type": "code",
      "source": [
        "lst[1]"
      ],
      "metadata": {
        "colab": {
          "base_uri": "https://localhost:8080/"
        },
        "id": "twrkXKb7mNRb",
        "outputId": "8dcb73bf-b9bc-4a03-d513-9c8655df37e1"
      },
      "execution_count": null,
      "outputs": [
        {
          "output_type": "execute_result",
          "data": {
            "text/plain": [
              "3"
            ]
          },
          "metadata": {},
          "execution_count": 4
        }
      ]
    },
    {
      "cell_type": "code",
      "source": [
        "lst[2]"
      ],
      "metadata": {
        "colab": {
          "base_uri": "https://localhost:8080/"
        },
        "id": "E0MVU6nrmNUN",
        "outputId": "1bd6b5b3-a02e-48fc-e96b-9beecf282e19"
      },
      "execution_count": null,
      "outputs": [
        {
          "output_type": "execute_result",
          "data": {
            "text/plain": [
              "43"
            ]
          },
          "metadata": {},
          "execution_count": 5
        }
      ]
    },
    {
      "cell_type": "code",
      "source": [
        "lst[3]"
      ],
      "metadata": {
        "colab": {
          "base_uri": "https://localhost:8080/"
        },
        "id": "QHdPXyDxmNXK",
        "outputId": "2973af8a-c5f1-4246-d435-d8df720d3e88"
      },
      "execution_count": null,
      "outputs": [
        {
          "output_type": "execute_result",
          "data": {
            "text/plain": [
              "56"
            ]
          },
          "metadata": {},
          "execution_count": 6
        }
      ]
    },
    {
      "cell_type": "code",
      "source": [
        "lst[5]"
      ],
      "metadata": {
        "colab": {
          "base_uri": "https://localhost:8080/"
        },
        "id": "QkexFKhDnEnA",
        "outputId": "051385fc-958e-47e5-a9ee-6d2121d71260"
      },
      "execution_count": null,
      "outputs": [
        {
          "output_type": "execute_result",
          "data": {
            "text/plain": [
              "324"
            ]
          },
          "metadata": {},
          "execution_count": 7
        }
      ]
    },
    {
      "cell_type": "code",
      "source": [
        "for i in lst:\n",
        "  print(i)"
      ],
      "metadata": {
        "colab": {
          "base_uri": "https://localhost:8080/"
        },
        "id": "yIYb0rJjnNhs",
        "outputId": "8f447c1e-2b9b-4392-ab58-81eadc7044ef"
      },
      "execution_count": null,
      "outputs": [
        {
          "output_type": "stream",
          "name": "stdout",
          "text": [
            "1\n",
            "3\n",
            "43\n",
            "56\n",
            "24\n",
            "324\n",
            "782\n"
          ]
        }
      ]
    },
    {
      "cell_type": "code",
      "source": [
        "for i in lst:\n",
        "  if (i < 50) :\n",
        "    print(\"less than 50 : \", i)\n",
        "  else :\n",
        "    print(\"more than 50 : \", i)"
      ],
      "metadata": {
        "colab": {
          "base_uri": "https://localhost:8080/"
        },
        "id": "WGgPH5TAnifj",
        "outputId": "acde3ac8-9539-4cc7-e5bd-9c0ac1acc2d3"
      },
      "execution_count": null,
      "outputs": [
        {
          "output_type": "stream",
          "name": "stdout",
          "text": [
            "less than 50 :  1\n",
            "less than 50 :  3\n",
            "less than 50 :  43\n",
            "more than 50 :  56\n",
            "less than 50 :  24\n",
            "more than 50 :  324\n",
            "more than 50 :  782\n"
          ]
        }
      ]
    },
    {
      "cell_type": "code",
      "source": [
        "num = 1"
      ],
      "metadata": {
        "id": "9qwo21JNoWCl"
      },
      "execution_count": null,
      "outputs": []
    },
    {
      "cell_type": "code",
      "source": [
        "if (num < 100) and (num%2 == 0):\n",
        "  print(num)\n",
        "  num += 1\n",
        "else :\n",
        "  num += 1"
      ],
      "metadata": {
        "id": "_gMqSdPSpQx4"
      },
      "execution_count": null,
      "outputs": []
    },
    {
      "cell_type": "code",
      "source": [
        "num"
      ],
      "metadata": {
        "colab": {
          "base_uri": "https://localhost:8080/"
        },
        "id": "wjp8VcXOpcXl",
        "outputId": "99c654e4-6ec3-4e56-e75c-d9fca5f72cf0"
      },
      "execution_count": null,
      "outputs": [
        {
          "output_type": "execute_result",
          "data": {
            "text/plain": [
              "6"
            ]
          },
          "metadata": {},
          "execution_count": 34
        }
      ]
    },
    {
      "cell_type": "code",
      "source": [
        "for i in range(1, 10): # range(start_value=0, stop_value, step=1)\n",
        "  if i == 5 :\n",
        "    continue\n",
        "  print(i)"
      ],
      "metadata": {
        "colab": {
          "base_uri": "https://localhost:8080/"
        },
        "id": "KK2bSkd9peSE",
        "outputId": "b16cd111-b174-4190-c836-6708ed484458"
      },
      "execution_count": null,
      "outputs": [
        {
          "output_type": "stream",
          "name": "stdout",
          "text": [
            "1\n",
            "2\n",
            "3\n",
            "4\n",
            "6\n",
            "7\n",
            "8\n",
            "9\n"
          ]
        }
      ]
    },
    {
      "cell_type": "code",
      "source": [
        "person1 = [1, 'Rushikesh', 'Ch. Sambhaji Nagar', 21, 24000, 21]\n",
        "person2 = {2, 'Abhi', 'Pune', 26, 45000.50, 26}"
      ],
      "metadata": {
        "id": "cImhx7dpqUws"
      },
      "execution_count": null,
      "outputs": []
    },
    {
      "cell_type": "code",
      "source": [
        "for i in person2:\n",
        "  print(i)"
      ],
      "metadata": {
        "colab": {
          "base_uri": "https://localhost:8080/"
        },
        "id": "VKxOmeS1rmd3",
        "outputId": "1ddb834e-1d57-415a-85fa-fd51db551dd2"
      },
      "execution_count": null,
      "outputs": [
        {
          "output_type": "stream",
          "name": "stdout",
          "text": [
            "Pune\n",
            "2\n",
            "45000.5\n",
            "26\n",
            "Abhi\n"
          ]
        }
      ]
    },
    {
      "cell_type": "code",
      "source": [
        "person11 = {'Name' : 'Rushi', 'Age' : 21, 'Salary' : 24500.5, 'Marks' : {'Physics' : 67, 'Maths' : 89, 'English' : 90}, 'height_wight' : [5.7, 80]}"
      ],
      "metadata": {
        "id": "YkxmUP4VrqFE"
      },
      "execution_count": null,
      "outputs": []
    },
    {
      "cell_type": "code",
      "source": [
        "for k, v in person11.items():\n",
        "  print(k, v)"
      ],
      "metadata": {
        "colab": {
          "base_uri": "https://localhost:8080/"
        },
        "id": "ZIqzI-6DrxDU",
        "outputId": "7e3deeca-021f-4026-ad4f-d13b8d0dd62f"
      },
      "execution_count": null,
      "outputs": [
        {
          "output_type": "stream",
          "name": "stdout",
          "text": [
            "Name Rushi\n",
            "Age 21\n",
            "Salary 24500.5\n",
            "Marks {'Physics': 67, 'Maths': 89, 'English': 90}\n",
            "height_wight [5.7, 80]\n"
          ]
        }
      ]
    },
    {
      "cell_type": "code",
      "source": [
        "for obj in response['Contents']:\n",
        "  if obj['Key'].split(\".\")[-1] == 'csv':\n",
        "      filename = obj['Key'].split(\"/\")[-1]\n",
        "      print(filename)"
      ],
      "metadata": {
        "colab": {
          "base_uri": "https://localhost:8080/"
        },
        "id": "qmt81ifSrzS8",
        "outputId": "996e76b6-0884-407f-9ce1-515bc71457c1"
      },
      "execution_count": null,
      "outputs": [
        {
          "output_type": "stream",
          "name": "stdout",
          "text": [
            "Contents\n"
          ]
        }
      ]
    },
    {
      "cell_type": "code",
      "source": [
        "response = {'Contents' : {'Key' : 'csv/abc.csv'}}"
      ],
      "metadata": {
        "id": "MoEJ9NoT_Tba"
      },
      "execution_count": null,
      "outputs": []
    },
    {
      "cell_type": "code",
      "source": [
        "type(response)"
      ],
      "metadata": {
        "colab": {
          "base_uri": "https://localhost:8080/"
        },
        "id": "jo29S3Ne_eMf",
        "outputId": "aebdfaf9-0868-4150-b8c4-b82279987a2f"
      },
      "execution_count": null,
      "outputs": [
        {
          "output_type": "execute_result",
          "data": {
            "text/plain": [
              "dict"
            ]
          },
          "metadata": {},
          "execution_count": 6
        }
      ]
    },
    {
      "cell_type": "code",
      "source": [
        "response['Contents']['Key'].split(\".\")[-1]"
      ],
      "metadata": {
        "colab": {
          "base_uri": "https://localhost:8080/",
          "height": 35
        },
        "id": "lgHB-Qk6_zeT",
        "outputId": "e4762b4c-60e0-49dd-e14c-fee13e4010d3"
      },
      "execution_count": null,
      "outputs": [
        {
          "output_type": "execute_result",
          "data": {
            "text/plain": [
              "'csv'"
            ],
            "application/vnd.google.colaboratory.intrinsic+json": {
              "type": "string"
            }
          },
          "metadata": {},
          "execution_count": 16
        }
      ]
    },
    {
      "cell_type": "code",
      "source": [
        "Variables\n",
        "Data Types\n",
        "IF ELSE\n",
        "Data Structures\n",
        "Looping\n",
        "List\n",
        "List comprehension\n",
        "Functions\n",
        "Map, Reduce, Filter\n",
        "Lambda Functions"
      ],
      "metadata": {
        "id": "NfhC05sn_3a2"
      },
      "execution_count": null,
      "outputs": []
    },
    {
      "cell_type": "code",
      "source": [
        "lst = [1, 24, 642, 123, 245, 632, 'asf, 123', 24.54]"
      ],
      "metadata": {
        "id": "ixk0KtqLBuTA"
      },
      "execution_count": 1,
      "outputs": []
    },
    {
      "cell_type": "code",
      "source": [
        "for i in [1, 4, 7]:\n",
        "  print(lst[i])\n"
      ],
      "metadata": {
        "colab": {
          "base_uri": "https://localhost:8080/"
        },
        "id": "YTAOxVs7B1BL",
        "outputId": "7f516981-0c86-4d5a-d398-0468f529fffa"
      },
      "execution_count": 2,
      "outputs": [
        {
          "output_type": "stream",
          "name": "stdout",
          "text": [
            "24\n",
            "245\n",
            "24.54\n"
          ]
        }
      ]
    },
    {
      "cell_type": "code",
      "source": [
        "for i in range(1, 11):\n",
        "  if i == 5:\n",
        "    continue\n",
        "  if i == 6:\n",
        "    print(i*i*i)\n",
        "  if i == 10:\n",
        "    print\n",
        "  print(i*i)"
      ],
      "metadata": {
        "colab": {
          "base_uri": "https://localhost:8080/"
        },
        "id": "4pHr1bezB-mK",
        "outputId": "10f3a52d-4658-46e2-fa0f-8fe8a28087f3"
      },
      "execution_count": null,
      "outputs": [
        {
          "output_type": "stream",
          "name": "stdout",
          "text": [
            "1\n",
            "4\n",
            "9\n",
            "16\n",
            "36\n",
            "49\n",
            "64\n",
            "81\n",
            "100\n"
          ]
        }
      ]
    },
    {
      "cell_type": "code",
      "source": [
        "[i*i if i != 5 else None for i in range(1, 11) if i != 5]"
      ],
      "metadata": {
        "colab": {
          "base_uri": "https://localhost:8080/"
        },
        "id": "TP6JEC30DNjj",
        "outputId": "89574264-d083-492a-bee9-ef9845aeed70"
      },
      "execution_count": null,
      "outputs": [
        {
          "output_type": "execute_result",
          "data": {
            "text/plain": [
              "[1, 4, 9, 16, 36, 49, 64, 81, 100]"
            ]
          },
          "metadata": {},
          "execution_count": 38
        }
      ]
    },
    {
      "cell_type": "code",
      "source": [],
      "metadata": {
        "id": "AmZ_xED_DgFB"
      },
      "execution_count": null,
      "outputs": []
    },
    {
      "cell_type": "code",
      "source": [],
      "metadata": {
        "id": "X9HEZIfHGMS8"
      },
      "execution_count": null,
      "outputs": []
    },
    {
      "cell_type": "markdown",
      "source": [
        "**Functions in Python**"
      ],
      "metadata": {
        "id": "a7ezpMfmGMiz"
      }
    },
    {
      "cell_type": "code",
      "source": [
        "# It's a block of code that is re-usable\n",
        "# user defined function/in-built functions"
      ],
      "metadata": {
        "id": "XzjWOXDGIHNZ"
      },
      "execution_count": null,
      "outputs": []
    },
    {
      "cell_type": "code",
      "source": [
        "def get_result(num1, num2, num3=3, num4=5): # positional arguments, keyword argument\n",
        "  print(num1*num2*num3*num4)"
      ],
      "metadata": {
        "id": "U8HKBwzfIHPL"
      },
      "execution_count": null,
      "outputs": []
    },
    {
      "cell_type": "code",
      "source": [
        "get_result(1, 2)"
      ],
      "metadata": {
        "colab": {
          "base_uri": "https://localhost:8080/"
        },
        "id": "8K8Jeo8IJR5E",
        "outputId": "9a9aa651-2c35-4b4c-eace-9d336be1dd9a"
      },
      "execution_count": null,
      "outputs": [
        {
          "output_type": "stream",
          "name": "stdout",
          "text": [
            "30\n"
          ]
        }
      ]
    },
    {
      "cell_type": "code",
      "source": [
        "get_result(1, 2, 4)"
      ],
      "metadata": {
        "colab": {
          "base_uri": "https://localhost:8080/"
        },
        "id": "hMdn36LsIHSS",
        "outputId": "8b352cbc-93a2-441e-d266-08764303e328"
      },
      "execution_count": null,
      "outputs": [
        {
          "output_type": "stream",
          "name": "stdout",
          "text": [
            "40\n"
          ]
        }
      ]
    },
    {
      "cell_type": "code",
      "source": [
        "int('4')"
      ],
      "metadata": {
        "colab": {
          "base_uri": "https://localhost:8080/"
        },
        "id": "Qz8bYx3mIHVG",
        "outputId": "23e3450a-b2f3-4667-d610-05b4559d11a6"
      },
      "execution_count": null,
      "outputs": [
        {
          "output_type": "execute_result",
          "data": {
            "text/plain": [
              "4"
            ]
          },
          "metadata": {},
          "execution_count": 63
        }
      ]
    },
    {
      "cell_type": "code",
      "source": [
        "type(int('4'))"
      ],
      "metadata": {
        "colab": {
          "base_uri": "https://localhost:8080/"
        },
        "id": "whe0yGE9Jqmm",
        "outputId": "abc42f53-4647-4550-e720-ac7f3e83c78c"
      },
      "execution_count": null,
      "outputs": [
        {
          "output_type": "execute_result",
          "data": {
            "text/plain": [
              "int"
            ]
          },
          "metadata": {},
          "execution_count": 65
        }
      ]
    },
    {
      "cell_type": "code",
      "source": [],
      "metadata": {
        "id": "mvElEgY-JufO"
      },
      "execution_count": null,
      "outputs": []
    },
    {
      "cell_type": "markdown",
      "source": [
        "**Anonymous Function / Lambda Functions in Python**"
      ],
      "metadata": {
        "id": "YbCqUHVg4N8H"
      }
    },
    {
      "cell_type": "code",
      "source": [],
      "metadata": {
        "id": "93rRYrzr4M6W"
      },
      "execution_count": null,
      "outputs": []
    },
    {
      "cell_type": "code",
      "source": [],
      "metadata": {
        "id": "_hQqzQ6y4qRN"
      },
      "execution_count": null,
      "outputs": []
    },
    {
      "cell_type": "code",
      "source": [],
      "metadata": {
        "id": "y1giXRf84qyc"
      },
      "execution_count": null,
      "outputs": []
    },
    {
      "cell_type": "markdown",
      "source": [
        "**MAP, FILTER, REDUCE**"
      ],
      "metadata": {
        "id": "fjBVceTh4rGo"
      }
    },
    {
      "cell_type": "code",
      "source": [
        "lst1 = [1, 2, 3, 4, 5]"
      ],
      "metadata": {
        "id": "FOdxcIIl4x6_"
      },
      "execution_count": null,
      "outputs": []
    },
    {
      "cell_type": "code",
      "source": [
        "def get_multiplication(num1, num2):\n",
        "  return num1*num2"
      ],
      "metadata": {
        "id": "3h_dBbhU45aX"
      },
      "execution_count": null,
      "outputs": []
    },
    {
      "cell_type": "code",
      "source": [
        "for i in lst1:\n",
        "  print(get_multiplication(i))"
      ],
      "metadata": {
        "colab": {
          "base_uri": "https://localhost:8080/"
        },
        "id": "Mn57D7LR4-Z1",
        "outputId": "31295b44-ce61-4ef0-9f9a-aa714ae46e9e"
      },
      "execution_count": null,
      "outputs": [
        {
          "output_type": "stream",
          "name": "stdout",
          "text": [
            "10\n",
            "20\n",
            "30\n",
            "40\n",
            "50\n"
          ]
        }
      ]
    },
    {
      "cell_type": "code",
      "source": [
        "get_multiplication(4, 5)"
      ],
      "metadata": {
        "colab": {
          "base_uri": "https://localhost:8080/"
        },
        "id": "Unl7rrHl6z1b",
        "outputId": "845f1faf-1de9-4d6b-e309-9d3e19c2ed90"
      },
      "execution_count": null,
      "outputs": [
        {
          "output_type": "execute_result",
          "data": {
            "text/plain": [
              "20"
            ]
          },
          "metadata": {},
          "execution_count": 13
        }
      ]
    },
    {
      "cell_type": "code",
      "source": [
        "multiple = lambda num1,num2:num1*num2"
      ],
      "metadata": {
        "id": "x71T84Dn7cXN"
      },
      "execution_count": null,
      "outputs": []
    },
    {
      "cell_type": "code",
      "source": [
        "multiple(*[4,5])"
      ],
      "metadata": {
        "colab": {
          "base_uri": "https://localhost:8080/"
        },
        "id": "JnguhymV5GR9",
        "outputId": "8ba6d095-d06f-463b-a2bc-94efe0a6295e"
      },
      "execution_count": null,
      "outputs": [
        {
          "output_type": "execute_result",
          "data": {
            "text/plain": [
              "20"
            ]
          },
          "metadata": {},
          "execution_count": 24
        }
      ]
    },
    {
      "cell_type": "code",
      "source": [
        "def check_even(num):\n",
        "  if num % 2 == 0:\n",
        "    return True\n",
        "  else :\n",
        "    return False"
      ],
      "metadata": {
        "id": "VqJJNz6E8W1P"
      },
      "execution_count": null,
      "outputs": []
    },
    {
      "cell_type": "code",
      "source": [
        "lst1 = [1, 2, 3, 4, 5, 6]"
      ],
      "metadata": {
        "id": "NYGe4FS38Uc5"
      },
      "execution_count": null,
      "outputs": []
    },
    {
      "cell_type": "code",
      "source": [
        "list(filter(check_even, lst1))"
      ],
      "metadata": {
        "colab": {
          "base_uri": "https://localhost:8080/"
        },
        "id": "p3BZ084P8iZj",
        "outputId": "4853cd4e-ed4e-404d-cf2e-ffccdc2379ef"
      },
      "execution_count": null,
      "outputs": [
        {
          "output_type": "execute_result",
          "data": {
            "text/plain": [
              "[2, 4, 6]"
            ]
          },
          "metadata": {},
          "execution_count": 34
        }
      ]
    },
    {
      "cell_type": "code",
      "source": [
        "import functools"
      ],
      "metadata": {
        "id": "cvNi8oUv8olY"
      },
      "execution_count": null,
      "outputs": []
    },
    {
      "cell_type": "code",
      "source": [
        "functools.reduce(lambda x, y: x+y, [1, 2, 3, 4, 5, 'X'])"
      ],
      "metadata": {
        "colab": {
          "base_uri": "https://localhost:8080/"
        },
        "id": "sDqyvCgt8_Qy",
        "outputId": "041f26ef-38c2-4514-9d7f-0673341be914"
      },
      "execution_count": null,
      "outputs": [
        {
          "output_type": "execute_result",
          "data": {
            "text/plain": [
              "15"
            ]
          },
          "metadata": {},
          "execution_count": 47
        }
      ]
    },
    {
      "cell_type": "code",
      "source": [
        "def check_greater_val(num1, num2):\n",
        "  if num1 > num2:\n",
        "    return num1\n",
        "  else :\n",
        "    return num2"
      ],
      "metadata": {
        "id": "RlccjqeQ9aM3"
      },
      "execution_count": null,
      "outputs": []
    },
    {
      "cell_type": "code",
      "source": [
        "functools.reduce(check_greater_val, [2, 23, 542, 1234, 2, 12, 452])"
      ],
      "metadata": {
        "colab": {
          "base_uri": "https://localhost:8080/"
        },
        "id": "UE8K1bEM-Ig2",
        "outputId": "b3c5bc20-909f-4751-dc62-9ac01ddbfa02"
      },
      "execution_count": null,
      "outputs": [
        {
          "output_type": "execute_result",
          "data": {
            "text/plain": [
              "1234"
            ]
          },
          "metadata": {},
          "execution_count": 53
        }
      ]
    },
    {
      "cell_type": "code",
      "source": [
        "functools.reduce(lambda x, y:x+y, ['h','e','l','l','o'])"
      ],
      "metadata": {
        "colab": {
          "base_uri": "https://localhost:8080/",
          "height": 35
        },
        "id": "nRS80MNb-cRW",
        "outputId": "12fb16b7-da67-4b14-fc4f-b082e973cfad"
      },
      "execution_count": null,
      "outputs": [
        {
          "output_type": "execute_result",
          "data": {
            "text/plain": [
              "'hello'"
            ],
            "application/vnd.google.colaboratory.intrinsic+json": {
              "type": "string"
            }
          },
          "metadata": {},
          "execution_count": 55
        }
      ]
    },
    {
      "cell_type": "code",
      "source": [],
      "metadata": {
        "id": "t8H0kgZ5_tKY"
      },
      "execution_count": null,
      "outputs": []
    },
    {
      "cell_type": "code",
      "source": [],
      "metadata": {
        "id": "R3Ii1xPZACs2"
      },
      "execution_count": null,
      "outputs": []
    },
    {
      "cell_type": "code",
      "source": [],
      "metadata": {
        "id": "u5-adbi8ACv7"
      },
      "execution_count": null,
      "outputs": []
    },
    {
      "cell_type": "markdown",
      "source": [
        "**Problem 1**\n",
        "\n",
        "Take age or year or birth as an input from user and tell them when they will turn 100 years old.\n",
        "They can then optionally provide a year and your program must tell their age in that particular year.\n",
        "\n",
        "**Problem 2**\n",
        "\n",
        "Create a game to guess the number which will be in between 1 to 30.\n",
        "User should only have 10 guesses to guess the number.\n",
        "Always print number of guesses left.\n",
        "Print number of guesses user took to finish.\n",
        "\n",
        "**Problem 3**\n",
        "\n",
        "Pettern printing program\n",
        "\n",
        "**Problem 4**\n",
        "\n",
        "Snake ladder program"
      ],
      "metadata": {
        "id": "cXEpJt9VAG3l"
      }
    },
    {
      "cell_type": "code",
      "source": [
        "import random"
      ],
      "metadata": {
        "id": "1iKvSTbDAK1C"
      },
      "execution_count": null,
      "outputs": []
    },
    {
      "cell_type": "code",
      "source": [
        "for i in range(1, 6):\n",
        "  print('*'*i)"
      ],
      "metadata": {
        "colab": {
          "base_uri": "https://localhost:8080/"
        },
        "id": "YZPElHE1Az3W",
        "outputId": "b365d9c6-eb41-4591-e682-ad080417ec6d"
      },
      "execution_count": null,
      "outputs": [
        {
          "output_type": "stream",
          "name": "stdout",
          "text": [
            "*\n",
            "**\n",
            "***\n",
            "****\n",
            "*****\n"
          ]
        }
      ]
    },
    {
      "cell_type": "code",
      "source": [
        "1\n",
        "12\n",
        "123\n",
        "1234\n",
        "12345\n",
        "\n",
        "*****\n",
        "****\n",
        "***\n",
        "**\n",
        "*"
      ],
      "metadata": {
        "id": "nGnYWdaUBrc1"
      },
      "execution_count": null,
      "outputs": []
    },
    {
      "cell_type": "code",
      "source": [],
      "metadata": {
        "id": "256feINpP0hz"
      },
      "execution_count": null,
      "outputs": []
    },
    {
      "cell_type": "code",
      "source": [
        "from datetime import datetime"
      ],
      "metadata": {
        "id": "6siLBVebP0ja"
      },
      "execution_count": 13,
      "outputs": []
    },
    {
      "cell_type": "code",
      "source": [
        "user_age = int(input(\"Enter your current age : \"))"
      ],
      "metadata": {
        "colab": {
          "base_uri": "https://localhost:8080/"
        },
        "id": "Gf8a5MkSP0mv",
        "outputId": "45e89e75-9377-4e06-fbef-21e202eb4de5"
      },
      "execution_count": 14,
      "outputs": [
        {
          "name": "stdout",
          "output_type": "stream",
          "text": [
            "Enter your current age : 25\n"
          ]
        }
      ]
    },
    {
      "cell_type": "code",
      "source": [
        "current_year = datetime.now().year"
      ],
      "metadata": {
        "id": "77k24n4HP0oz"
      },
      "execution_count": 15,
      "outputs": []
    },
    {
      "cell_type": "code",
      "source": [
        "print(\"You'll be 100 yrs old in the year of : \", (100-user_age) + current_year)"
      ],
      "metadata": {
        "colab": {
          "base_uri": "https://localhost:8080/"
        },
        "id": "K598RleYP0r2",
        "outputId": "e4958601-f1d1-44a7-b7dd-c3a5d5ffabee"
      },
      "execution_count": 16,
      "outputs": [
        {
          "output_type": "stream",
          "name": "stdout",
          "text": [
            "You'll be 100 yrs old in the year of :  2098\n"
          ]
        }
      ]
    },
    {
      "cell_type": "code",
      "source": [
        "user_year = int(input(\"Check what will be your age in year of : \"))"
      ],
      "metadata": {
        "colab": {
          "base_uri": "https://localhost:8080/"
        },
        "id": "KstbhTzyP0ua",
        "outputId": "6e9c962b-3483-4e2f-8cf6-ef59b7e4ef3f"
      },
      "execution_count": 19,
      "outputs": [
        {
          "name": "stdout",
          "output_type": "stream",
          "text": [
            "Check what will be your age in year of : 2028\n"
          ]
        }
      ]
    },
    {
      "cell_type": "code",
      "source": [
        "print(\"Your total age would be : \", (user_year-current_year)+user_age)"
      ],
      "metadata": {
        "colab": {
          "base_uri": "https://localhost:8080/"
        },
        "id": "N7FCkrXCP0wx",
        "outputId": "18a4848c-8361-4835-8a7f-3208460d1349"
      },
      "execution_count": 20,
      "outputs": [
        {
          "output_type": "stream",
          "name": "stdout",
          "text": [
            "Your total age would be :  30\n"
          ]
        }
      ]
    },
    {
      "cell_type": "code",
      "source": [],
      "metadata": {
        "id": "Dry34ImjP0yV"
      },
      "execution_count": 27,
      "outputs": []
    },
    {
      "cell_type": "code",
      "source": [
        "try :\n",
        "  user_age = int(input(\"Enter your current age : \"))\n",
        "except:\n",
        "  print(\"Invalid number. Please try again.\")"
      ],
      "metadata": {
        "colab": {
          "base_uri": "https://localhost:8080/"
        },
        "id": "xS4p6j1DP01u",
        "outputId": "fcb27d88-a622-4895-dabd-02643a99df18"
      },
      "execution_count": 33,
      "outputs": [
        {
          "output_type": "stream",
          "name": "stdout",
          "text": [
            "Enter your current age : 56d\n",
            "Invalid number. Please try again.\n"
          ]
        }
      ]
    },
    {
      "cell_type": "code",
      "source": [],
      "metadata": {
        "id": "GTgAothWP040"
      },
      "execution_count": 33,
      "outputs": []
    },
    {
      "cell_type": "code",
      "source": [],
      "metadata": {
        "id": "ydPqcs2lP07h"
      },
      "execution_count": null,
      "outputs": []
    },
    {
      "cell_type": "markdown",
      "source": [
        "**Questions Set - 2**"
      ],
      "metadata": {
        "id": "oFcCrbYkcI3I"
      }
    },
    {
      "cell_type": "markdown",
      "source": [
        "a. Write a Python program to square each element of a given list using the map function.\n",
        "\n",
        "b. Write a function that takes a list of numbers and returns a new list with only the even numbers.\n",
        "\n",
        "c. Write a function that takes a dictionary and returns a new dictionary with only the key-value pairs where the value is an even number.\n",
        "\n",
        "d. Write a function that takes two numbers as input and returns their division. Handle the ZeroDivisionError exception.\n",
        "\n",
        "e. event = {'Records': [{'eventVersion': '2.1', 'eventSource': 'aws:s3', 'awsRegion': 'eu-west-1', 'eventTime': '2023-11-09T11:15:52.895Z', 'eventName': 'ObjectCreated:Copy', 'userIdentity': {'principalId': 'AWS:AROA3MADJBNOYXTVWEOVW:ext@gmail.com'}, 'requestParameters': {'sourceIPAddress': '49.36.43.236'}, 'responseElements': {'x-amz-request-id': 'MFRM6JCSXXX9D2PK', 'x-amz-id-2': '2lU75RMFWu9zp9Y2ammhui5bEKZK+BUw3wzlEfKAdgZjntbEAqX54VXelesuMgFFmULIRxP2DsOoZD26RhRR7kOHP9TvSR6Z'}, 's3': {'s3SchemaVersion': '1.0', 'configurationId': '29c752da-faa9-4d52-a230-6b9abec8366d', 'bucket': {'name': 's3-dev-datafactory-stg-001', 'ownerIdentity': {'principalId': 'A18H70OMADTGDZ'}, 'arn': 'arn:aws:s3:::s3-dev-datafactory-stg-001'}, 'object': {'key': 'sources/psa/master/CompanyMaster_20231107070001.csv', 'size': 345, 'eTag': 'cce65fdb6f19818d0727599ac8ff0daa', 'versionId': 'Si4iImgy3Rof.8mdl2gFHdgLublLBx5g', 'sequencer': '00654CBF68B4DF41CB'}}}]}\n",
        "Get the file name and bucket name from above dictionary\n"
      ],
      "metadata": {
        "id": "LqtaihRFdA1k"
      }
    },
    {
      "cell_type": "code",
      "source": [],
      "metadata": {
        "id": "Cvbg2G-OdBXA"
      },
      "execution_count": null,
      "outputs": []
    }
  ]
}